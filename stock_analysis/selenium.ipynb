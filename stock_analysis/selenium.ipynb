{
 "metadata": {
  "language_info": {
   "codemirror_mode": {
    "name": "ipython",
    "version": 3
   },
   "file_extension": ".py",
   "mimetype": "text/x-python",
   "name": "python",
   "nbconvert_exporter": "python",
   "pygments_lexer": "ipython3",
   "version": "3.8.10"
  },
  "orig_nbformat": 4,
  "kernelspec": {
   "name": "python3",
   "display_name": "Python 3.8.10 64-bit ('stock-app': conda)"
  },
  "interpreter": {
   "hash": "5898b406c8e9b9ec46ed19559fee778874f38e032b5162ef982a7b66abc30a29"
  }
 },
 "nbformat": 4,
 "nbformat_minor": 2,
 "cells": [
  {
   "cell_type": "code",
   "execution_count": 158,
   "metadata": {},
   "outputs": [],
   "source": [
    "import requests\n",
    "from selenium import webdriver\n",
    "from selenium.webdriver.common.keys import Keys\n",
    "import pandas as pd\n",
    "from lxml import html\n",
    "import numpy as np"
   ]
  },
  {
   "cell_type": "code",
   "execution_count": 88,
   "metadata": {},
   "outputs": [],
   "source": [
    "driver = webdriver.Chrome(r'C:\\Users\\rober\\Anaconda3\\bin\\chromedriver')\n",
    "driver.get('https://hoopshype.com/salaries/players/')"
   ]
  },
  {
   "cell_type": "code",
   "execution_count": 6,
   "metadata": {},
   "outputs": [],
   "source": [
    "players = driver.find_elements_by_xpath('//td[@class=\"name\"]')"
   ]
  },
  {
   "cell_type": "code",
   "execution_count": 89,
   "metadata": {},
   "outputs": [],
   "source": [
    "players = driver.find_elements_by_xpath('//td[@class=\"name\"]')\n",
    "\n",
    "players_list = []\n",
    "for p in range(len(players)):\n",
    "    players_list.append(players[p].text)\n",
    "\n",
    "#players_list"
   ]
  },
  {
   "cell_type": "code",
   "execution_count": null,
   "metadata": {},
   "outputs": [],
   "source": [
    "salaries = driver.find_elements_by_xpath('//td[@class=\"hh-salaries-sorted\"]')\n",
    "\n",
    "salaries_list = []\n",
    "for s in range(len(salaries)):\n",
    "    salaries_list.append(salaries[s].text)"
   ]
  },
  {
   "source": [
    "## Example 2"
   ],
   "cell_type": "markdown",
   "metadata": {}
  },
  {
   "cell_type": "code",
   "execution_count": 90,
   "metadata": {},
   "outputs": [],
   "source": [
    "from selenium import webdriver \n",
    "from selenium.webdriver.common.by import By \n",
    "from selenium.webdriver.support.ui import WebDriverWait \n",
    "from selenium.webdriver.support import expected_conditions as EC \n",
    "from selenium.common.exceptions import TimeoutException"
   ]
  },
  {
   "cell_type": "code",
   "execution_count": 91,
   "metadata": {},
   "outputs": [],
   "source": [
    "driver = webdriver.Chrome(r'C:\\Users\\rober\\Anaconda3\\bin\\chromedriver')\n",
    "#driver = webdriver.Firefox(r'C:\\Users\\rober\\Anaconda3\\bin\\geckodriver')\n",
    "driver.get('http://www.platinum.matthey.com/prices/price-charts')"
   ]
  },
  {
   "cell_type": "code",
   "execution_count": 42,
   "metadata": {},
   "outputs": [
    {
     "output_type": "stream",
     "name": "stdout",
     "text": [
      "Timed out waiting for page to load\n"
     ]
    }
   ],
   "source": [
    "# Wait 20 seconds for page to load\n",
    "timeout = 30\n",
    "try:\n",
    "    WebDriverWait(driver, timeout).until(EC.visibility_of_element_located((By.XPATH, \"//*[@id='chart-content']/div/div[1]/div/div/table/tbody/tr[1]/td[1]\")))\n",
    "except TimeoutException:\n",
    "    print('Timed out waiting for page to load')\n",
    "    driver.quit()"
   ]
  },
  {
   "cell_type": "code",
   "execution_count": 109,
   "metadata": {},
   "outputs": [],
   "source": [
    "# find_elements_by_xpath returns an array of selenium objects.\n",
    "dates_element = driver.find_elements_by_xpath(\"\"\"//*[@id=\"chart-content\"]/div/div[1]/div/div/table/tbody/tr\"\"\")\n",
    "#dates_string = dates_element.text\n",
    "dates_list = []\n",
    "for p in range(len(dates_element)):\n",
    "    dates_list.append(dates_element[p].text)"
   ]
  },
  {
   "cell_type": "code",
   "execution_count": 110,
   "metadata": {},
   "outputs": [
    {
     "output_type": "execute_result",
     "data": {
      "text/plain": [
       "['',\n",
       " '',\n",
       " '',\n",
       " '',\n",
       " '',\n",
       " '',\n",
       " '',\n",
       " '',\n",
       " '',\n",
       " '',\n",
       " '',\n",
       " '',\n",
       " '',\n",
       " '',\n",
       " '',\n",
       " '',\n",
       " '',\n",
       " '',\n",
       " '',\n",
       " '',\n",
       " '']"
      ]
     },
     "metadata": {},
     "execution_count": 110
    }
   ],
   "source": [
    "dates_list"
   ]
  },
  {
   "source": [
    "## lets try the table"
   ],
   "cell_type": "markdown",
   "metadata": {}
  },
  {
   "cell_type": "code",
   "execution_count": 111,
   "metadata": {},
   "outputs": [],
   "source": [
    "driver = webdriver.Chrome(r'C:\\Users\\rober\\Anaconda3\\bin\\chromedriver')\n",
    "#driver = webdriver.Firefox(r'C:\\Users\\rober\\Anaconda3\\bin\\geckodriver')\n",
    "driver.get('http://www.platinum.matthey.com/prices/price-tables')"
   ]
  },
  {
   "cell_type": "code",
   "execution_count": 113,
   "metadata": {},
   "outputs": [],
   "source": [
    "# find_elements_by_xpath returns an array of selenium objects.\n",
    "dates_element = driver.find_elements_by_xpath(\"\"\"//*[@id=\"priceTablesFrame\"]/table[1]/tbody/tr[8]/th[2]\"\"\")\n",
    "#dates_string = dates_element.text\n",
    "dates_list = []\n",
    "for p in range(len(dates_element)):\n",
    "    dates_list.append(dates_element[p].text)"
   ]
  },
  {
   "cell_type": "code",
   "execution_count": 114,
   "metadata": {},
   "outputs": [
    {
     "output_type": "execute_result",
     "data": {
      "text/plain": [
       "['12nd']"
      ]
     },
     "metadata": {},
     "execution_count": 114
    }
   ],
   "source": [
    "dates_list"
   ]
  },
  {
   "cell_type": "code",
   "execution_count": null,
   "metadata": {},
   "outputs": [],
   "source": []
  },
  {
   "cell_type": "code",
   "execution_count": null,
   "metadata": {},
   "outputs": [],
   "source": []
  },
  {
   "cell_type": "code",
   "execution_count": null,
   "metadata": {},
   "outputs": [],
   "source": []
  },
  {
   "source": [
    "## Metal Prices"
   ],
   "cell_type": "markdown",
   "metadata": {}
  },
  {
   "cell_type": "code",
   "execution_count": 34,
   "metadata": {},
   "outputs": [
    {
     "output_type": "error",
     "ename": "SyntaxError",
     "evalue": "invalid character in identifier (<ipython-input-34-0dc4660eb39a>, line 2)",
     "traceback": [
      "\u001b[1;36m  File \u001b[1;32m\"<ipython-input-34-0dc4660eb39a>\"\u001b[1;36m, line \u001b[1;32m2\u001b[0m\n\u001b[1;33m    option.add_argument(“ — incognito”)\u001b[0m\n\u001b[1;37m                        ^\u001b[0m\n\u001b[1;31mSyntaxError\u001b[0m\u001b[1;31m:\u001b[0m invalid character in identifier\n"
     ]
    }
   ],
   "source": [
    "option = webdriver.ChromeOptions()\n",
    "option.add_argument(“ — incognito”)\n",
    "driver = webdriver.Chrome(r'C:\\Users\\rober\\Anaconda3\\bin\\chromedriver')\n",
    "#driver = webdriver.Firefox(r'C:\\Users\\rober\\Anaconda3\\bin\\geckodriver')\n",
    "driver.get('http://www.platinum.matthey.com/prices/price-charts')"
   ]
  },
  {
   "cell_type": "code",
   "execution_count": null,
   "metadata": {},
   "outputs": [],
   "source": []
  },
  {
   "cell_type": "code",
   "execution_count": 32,
   "metadata": {},
   "outputs": [],
   "source": [
    "dates = driver.find_elements_by_xpath('//*[@id=\"chart-content\"]/div/div[1]/div/svg/g[2]/g/g/text')"
   ]
  },
  {
   "cell_type": "code",
   "execution_count": 33,
   "metadata": {},
   "outputs": [
    {
     "output_type": "execute_result",
     "data": {
      "text/plain": [
       "[]"
      ]
     },
     "metadata": {},
     "execution_count": 33
    }
   ],
   "source": [
    "dates = []\n",
    "for p in range(len(dates)):\n",
    "    dates_list.append(dates[p].text)\n",
    "\n",
    "dates"
   ]
  },
  {
   "source": [
    "## xpath"
   ],
   "cell_type": "markdown",
   "metadata": {}
  },
  {
   "cell_type": "code",
   "execution_count": 138,
   "metadata": {},
   "outputs": [],
   "source": [
    "request = requests.get('http://www.platinum.matthey.com/prices/price-tables')\n",
    "data = html.fromstring(request.text)"
   ]
  },
  {
   "cell_type": "code",
   "execution_count": 77,
   "metadata": {},
   "outputs": [
    {
     "output_type": "stream",
     "name": "stdout",
     "text": [
      "[]\n"
     ]
    }
   ],
   "source": [
    "dates = data.xpath(\"//*[@id='chart-content']/div/div[2]/text\")\n",
    "print(dates)"
   ]
  },
  {
   "cell_type": "code",
   "execution_count": 151,
   "metadata": {},
   "outputs": [
    {
     "output_type": "execute_result",
     "data": {
      "text/plain": [
       "80"
      ]
     },
     "metadata": {},
     "execution_count": 151
    }
   ],
   "source": [
    "request = requests.get('http://www.platinum.matthey.com/prices/price-tables')\n",
    "data = html.fromstring(request.text)\n",
    "\n",
    "# Xpath\n",
    "alldata =[]\n",
    "\n",
    "for i in data.xpath(\"//tr[@class]\"):\n",
    "    day = i.xpath('th[2]/text()')\n",
    "    url = i.xpath('td[4]/text()')\n",
    "    #year = i.xpath('span[2]/text()')   \n",
    "    #print(title, url, year)\n",
    "    alldata.append([day, url])\n",
    "    \n",
    "len(alldata)"
   ]
  },
  {
   "cell_type": "code",
   "execution_count": 209,
   "metadata": {},
   "outputs": [
    {
     "output_type": "execute_result",
     "data": {
      "text/plain": [
       "   day price - USD per troy ounce  len  count_blank  flag_delete_row_1  \\\n",
       "2    1                    1094     1.0            0                  0   \n",
       "3    2                    1094     1.0            0                  0   \n",
       "4    5                    1104     1.0            0                  0   \n",
       "5    6                    1117     1.0            0                  0   \n",
       "6    7                    1094     1.0            0                  0   \n",
       "7    8                    1080     1.0            0                  0   \n",
       "8    9                    1095     1.0            0                  0   \n",
       "9   12                    1113     2.0            0                  0   \n",
       "10  13                    1116     2.0            0                  0   \n",
       "11  14                    1135     2.0            0                  0   \n",
       "12  15                    1139     2.0            0                  0   \n",
       "13  16                    1134     2.0            0                  0   \n",
       "18   1                    2798     1.0            0                  0   \n",
       "19   2                    2788     1.0            0                  0   \n",
       "20   5                    2823     1.0            0                  0   \n",
       "21   6                    2875     1.0            0                  0   \n",
       "22   7                    2846     1.0            0                  0   \n",
       "23   8                    2806     1.0            0                  0   \n",
       "24   9                    2805     1.0            0                  0   \n",
       "25  12                    2822     2.0            0                  0   \n",
       "26  13                    2846     2.0            0                  0   \n",
       "27  14                    2842     2.0            0                  0   \n",
       "28  15                    2795     2.0            0                  0   \n",
       "29  16                    2710     2.0            0                  0   \n",
       "34   1                   19700     1.0            0                  0   \n",
       "35   2                   19000     1.0            0                  0   \n",
       "36   5                   18900     1.0            0                  0   \n",
       "37   6                   18900     1.0            0                  0   \n",
       "38   7                   18300     1.0            0                  0   \n",
       "39   8                   17600     1.0            0                  0   \n",
       "\n",
       "    flag_delete_row_2  blank_cum_sum metal_name  \n",
       "2                   0              0   Platinum  \n",
       "3                   0              0   Platinum  \n",
       "4                   0              0   Platinum  \n",
       "5                   0              0   Platinum  \n",
       "6                   0              0   Platinum  \n",
       "7                   0              0   Platinum  \n",
       "8                   0              0   Platinum  \n",
       "9                   0              0   Platinum  \n",
       "10                  0              0   Platinum  \n",
       "11                  0              0   Platinum  \n",
       "12                  0              0   Platinum  \n",
       "13                  0              0   Platinum  \n",
       "18                  0              1  Palladium  \n",
       "19                  0              1  Palladium  \n",
       "20                  0              1  Palladium  \n",
       "21                  0              1  Palladium  \n",
       "22                  0              1  Palladium  \n",
       "23                  0              1  Palladium  \n",
       "24                  0              1  Palladium  \n",
       "25                  0              1  Palladium  \n",
       "26                  0              1  Palladium  \n",
       "27                  0              1  Palladium  \n",
       "28                  0              1  Palladium  \n",
       "29                  0              1  Palladium  \n",
       "34                  0              2    Rhodium  \n",
       "35                  0              2    Rhodium  \n",
       "36                  0              2    Rhodium  \n",
       "37                  0              2    Rhodium  \n",
       "38                  0              2    Rhodium  \n",
       "39                  0              2    Rhodium  "
      ],
      "text/html": "<div>\n<style scoped>\n    .dataframe tbody tr th:only-of-type {\n        vertical-align: middle;\n    }\n\n    .dataframe tbody tr th {\n        vertical-align: top;\n    }\n\n    .dataframe thead th {\n        text-align: right;\n    }\n</style>\n<table border=\"1\" class=\"dataframe\">\n  <thead>\n    <tr style=\"text-align: right;\">\n      <th></th>\n      <th>day</th>\n      <th>price - USD per troy ounce</th>\n      <th>len</th>\n      <th>count_blank</th>\n      <th>flag_delete_row_1</th>\n      <th>flag_delete_row_2</th>\n      <th>blank_cum_sum</th>\n      <th>metal_name</th>\n    </tr>\n  </thead>\n  <tbody>\n    <tr>\n      <th>2</th>\n      <td>1</td>\n      <td>1094</td>\n      <td>1.0</td>\n      <td>0</td>\n      <td>0</td>\n      <td>0</td>\n      <td>0</td>\n      <td>Platinum</td>\n    </tr>\n    <tr>\n      <th>3</th>\n      <td>2</td>\n      <td>1094</td>\n      <td>1.0</td>\n      <td>0</td>\n      <td>0</td>\n      <td>0</td>\n      <td>0</td>\n      <td>Platinum</td>\n    </tr>\n    <tr>\n      <th>4</th>\n      <td>5</td>\n      <td>1104</td>\n      <td>1.0</td>\n      <td>0</td>\n      <td>0</td>\n      <td>0</td>\n      <td>0</td>\n      <td>Platinum</td>\n    </tr>\n    <tr>\n      <th>5</th>\n      <td>6</td>\n      <td>1117</td>\n      <td>1.0</td>\n      <td>0</td>\n      <td>0</td>\n      <td>0</td>\n      <td>0</td>\n      <td>Platinum</td>\n    </tr>\n    <tr>\n      <th>6</th>\n      <td>7</td>\n      <td>1094</td>\n      <td>1.0</td>\n      <td>0</td>\n      <td>0</td>\n      <td>0</td>\n      <td>0</td>\n      <td>Platinum</td>\n    </tr>\n    <tr>\n      <th>7</th>\n      <td>8</td>\n      <td>1080</td>\n      <td>1.0</td>\n      <td>0</td>\n      <td>0</td>\n      <td>0</td>\n      <td>0</td>\n      <td>Platinum</td>\n    </tr>\n    <tr>\n      <th>8</th>\n      <td>9</td>\n      <td>1095</td>\n      <td>1.0</td>\n      <td>0</td>\n      <td>0</td>\n      <td>0</td>\n      <td>0</td>\n      <td>Platinum</td>\n    </tr>\n    <tr>\n      <th>9</th>\n      <td>12</td>\n      <td>1113</td>\n      <td>2.0</td>\n      <td>0</td>\n      <td>0</td>\n      <td>0</td>\n      <td>0</td>\n      <td>Platinum</td>\n    </tr>\n    <tr>\n      <th>10</th>\n      <td>13</td>\n      <td>1116</td>\n      <td>2.0</td>\n      <td>0</td>\n      <td>0</td>\n      <td>0</td>\n      <td>0</td>\n      <td>Platinum</td>\n    </tr>\n    <tr>\n      <th>11</th>\n      <td>14</td>\n      <td>1135</td>\n      <td>2.0</td>\n      <td>0</td>\n      <td>0</td>\n      <td>0</td>\n      <td>0</td>\n      <td>Platinum</td>\n    </tr>\n    <tr>\n      <th>12</th>\n      <td>15</td>\n      <td>1139</td>\n      <td>2.0</td>\n      <td>0</td>\n      <td>0</td>\n      <td>0</td>\n      <td>0</td>\n      <td>Platinum</td>\n    </tr>\n    <tr>\n      <th>13</th>\n      <td>16</td>\n      <td>1134</td>\n      <td>2.0</td>\n      <td>0</td>\n      <td>0</td>\n      <td>0</td>\n      <td>0</td>\n      <td>Platinum</td>\n    </tr>\n    <tr>\n      <th>18</th>\n      <td>1</td>\n      <td>2798</td>\n      <td>1.0</td>\n      <td>0</td>\n      <td>0</td>\n      <td>0</td>\n      <td>1</td>\n      <td>Palladium</td>\n    </tr>\n    <tr>\n      <th>19</th>\n      <td>2</td>\n      <td>2788</td>\n      <td>1.0</td>\n      <td>0</td>\n      <td>0</td>\n      <td>0</td>\n      <td>1</td>\n      <td>Palladium</td>\n    </tr>\n    <tr>\n      <th>20</th>\n      <td>5</td>\n      <td>2823</td>\n      <td>1.0</td>\n      <td>0</td>\n      <td>0</td>\n      <td>0</td>\n      <td>1</td>\n      <td>Palladium</td>\n    </tr>\n    <tr>\n      <th>21</th>\n      <td>6</td>\n      <td>2875</td>\n      <td>1.0</td>\n      <td>0</td>\n      <td>0</td>\n      <td>0</td>\n      <td>1</td>\n      <td>Palladium</td>\n    </tr>\n    <tr>\n      <th>22</th>\n      <td>7</td>\n      <td>2846</td>\n      <td>1.0</td>\n      <td>0</td>\n      <td>0</td>\n      <td>0</td>\n      <td>1</td>\n      <td>Palladium</td>\n    </tr>\n    <tr>\n      <th>23</th>\n      <td>8</td>\n      <td>2806</td>\n      <td>1.0</td>\n      <td>0</td>\n      <td>0</td>\n      <td>0</td>\n      <td>1</td>\n      <td>Palladium</td>\n    </tr>\n    <tr>\n      <th>24</th>\n      <td>9</td>\n      <td>2805</td>\n      <td>1.0</td>\n      <td>0</td>\n      <td>0</td>\n      <td>0</td>\n      <td>1</td>\n      <td>Palladium</td>\n    </tr>\n    <tr>\n      <th>25</th>\n      <td>12</td>\n      <td>2822</td>\n      <td>2.0</td>\n      <td>0</td>\n      <td>0</td>\n      <td>0</td>\n      <td>1</td>\n      <td>Palladium</td>\n    </tr>\n    <tr>\n      <th>26</th>\n      <td>13</td>\n      <td>2846</td>\n      <td>2.0</td>\n      <td>0</td>\n      <td>0</td>\n      <td>0</td>\n      <td>1</td>\n      <td>Palladium</td>\n    </tr>\n    <tr>\n      <th>27</th>\n      <td>14</td>\n      <td>2842</td>\n      <td>2.0</td>\n      <td>0</td>\n      <td>0</td>\n      <td>0</td>\n      <td>1</td>\n      <td>Palladium</td>\n    </tr>\n    <tr>\n      <th>28</th>\n      <td>15</td>\n      <td>2795</td>\n      <td>2.0</td>\n      <td>0</td>\n      <td>0</td>\n      <td>0</td>\n      <td>1</td>\n      <td>Palladium</td>\n    </tr>\n    <tr>\n      <th>29</th>\n      <td>16</td>\n      <td>2710</td>\n      <td>2.0</td>\n      <td>0</td>\n      <td>0</td>\n      <td>0</td>\n      <td>1</td>\n      <td>Palladium</td>\n    </tr>\n    <tr>\n      <th>34</th>\n      <td>1</td>\n      <td>19700</td>\n      <td>1.0</td>\n      <td>0</td>\n      <td>0</td>\n      <td>0</td>\n      <td>2</td>\n      <td>Rhodium</td>\n    </tr>\n    <tr>\n      <th>35</th>\n      <td>2</td>\n      <td>19000</td>\n      <td>1.0</td>\n      <td>0</td>\n      <td>0</td>\n      <td>0</td>\n      <td>2</td>\n      <td>Rhodium</td>\n    </tr>\n    <tr>\n      <th>36</th>\n      <td>5</td>\n      <td>18900</td>\n      <td>1.0</td>\n      <td>0</td>\n      <td>0</td>\n      <td>0</td>\n      <td>2</td>\n      <td>Rhodium</td>\n    </tr>\n    <tr>\n      <th>37</th>\n      <td>6</td>\n      <td>18900</td>\n      <td>1.0</td>\n      <td>0</td>\n      <td>0</td>\n      <td>0</td>\n      <td>2</td>\n      <td>Rhodium</td>\n    </tr>\n    <tr>\n      <th>38</th>\n      <td>7</td>\n      <td>18300</td>\n      <td>1.0</td>\n      <td>0</td>\n      <td>0</td>\n      <td>0</td>\n      <td>2</td>\n      <td>Rhodium</td>\n    </tr>\n    <tr>\n      <th>39</th>\n      <td>8</td>\n      <td>17600</td>\n      <td>1.0</td>\n      <td>0</td>\n      <td>0</td>\n      <td>0</td>\n      <td>2</td>\n      <td>Rhodium</td>\n    </tr>\n  </tbody>\n</table>\n</div>"
     },
     "metadata": {},
     "execution_count": 209
    }
   ],
   "source": [
    "metal_df = pd.DataFrame(alldata)\n",
    "metal_df.columns = ['day', 'price - USD per troy ounce']\n",
    "metal_df = metal_df.tail(-2)\n",
    "metal_df = metal_df.explode('price - USD per troy ounce')\n",
    "metal_df = metal_df.explode('day')\n",
    "metal_df['day'] = metal_df['day'].str.replace('\\r\\n ', '')\n",
    "metal_df['price - USD per troy ounce'] = metal_df['price - USD per troy ounce'].str.replace('\\r\\n ', '')\n",
    "metal_df['day'] = metal_df['day'].str.strip()\n",
    "metal_df['len'] = metal_df['day'].str.len()\n",
    "metal_df['count_blank'] = np.where((metal_df['day'].isnull()) & (metal_df['price - USD per troy ounce'].isnull()), 1, 0)\n",
    "metal_df = metal_df[metal_df.len != 0]\n",
    "metal_df['flag_delete_row_1'] = np.where(metal_df['len'] > 2, 1, 0)\n",
    "metal_df['flag_delete_row_2'] = np.where((metal_df['len'].isnull() == True) & (metal_df['count_blank'] == 0), 1, 0)\n",
    "metal_df = metal_df[metal_df.flag_delete_row_1 != 1]\n",
    "metal_df = metal_df[metal_df.flag_delete_row_2 != 1]\n",
    "metal_df['blank_cum_sum'] = metal_df['count_blank'].cumsum()\n",
    "\n",
    "##dictionary of values I want to map\n",
    "metal_dict = {0: 'Platinum', 1: 'Palladium', 2: 'Rhodium', 3: 'Iridium', 4: 'Ruthenium'}\n",
    "metal_df['metal_name'] = metal_df['blank_cum_sum'].map(metal_dict)\n",
    "metal_df = metal_df[metal_df.count_blank != 1]\n",
    "metal_df.head(30)"
   ]
  },
  {
   "cell_type": "code",
   "execution_count": 157,
   "metadata": {},
   "outputs": [
    {
     "output_type": "stream",
     "name": "stdout",
     "text": [
      "['London']\n"
     ]
    }
   ],
   "source": [
    "print(metal_df['date'][0])"
   ]
  },
  {
   "cell_type": "code",
   "execution_count": 122,
   "metadata": {},
   "outputs": [
    {
     "output_type": "error",
     "ename": "AttributeError",
     "evalue": "'list' object has no attribute 'replace'",
     "traceback": [
      "\u001b[1;31m---------------------------------------------------------------------------\u001b[0m",
      "\u001b[1;31mAttributeError\u001b[0m                            Traceback (most recent call last)",
      "\u001b[1;32m<ipython-input-122-77e3d377e983>\u001b[0m in \u001b[0;36m<module>\u001b[1;34m\u001b[0m\n\u001b[0;32m      1\u001b[0m \u001b[1;32mfor\u001b[0m \u001b[0mi\u001b[0m \u001b[1;32min\u001b[0m \u001b[0malldata\u001b[0m\u001b[1;33m:\u001b[0m\u001b[1;33m\u001b[0m\u001b[1;33m\u001b[0m\u001b[0m\n\u001b[1;32m----> 2\u001b[1;33m     \u001b[0murl\u001b[0m \u001b[1;33m=\u001b[0m \u001b[1;33m(\u001b[0m\u001b[0mi\u001b[0m\u001b[1;33m[\u001b[0m\u001b[1;36m0\u001b[0m\u001b[1;33m]\u001b[0m\u001b[1;33m.\u001b[0m\u001b[0mreplace\u001b[0m\u001b[1;33m(\u001b[0m\u001b[1;34m'\\r\\n        '\u001b[0m\u001b[1;33m,\u001b[0m \u001b[1;34m''\u001b[0m\u001b[1;33m)\u001b[0m\u001b[1;33m)\u001b[0m\u001b[1;33m\u001b[0m\u001b[1;33m\u001b[0m\u001b[0m\n\u001b[0m\u001b[0;32m      3\u001b[0m     \u001b[0mprint\u001b[0m\u001b[1;33m(\u001b[0m\u001b[0murl\u001b[0m\u001b[1;33m)\u001b[0m\u001b[1;33m\u001b[0m\u001b[1;33m\u001b[0m\u001b[0m\n",
      "\u001b[1;31mAttributeError\u001b[0m: 'list' object has no attribute 'replace'"
     ]
    }
   ],
   "source": [
    "for i in alldata:\n",
    "    url = (i[0].replace('\\r\\n        ', ''))\n",
    "    print(url)"
   ]
  },
  {
   "cell_type": "code",
   "execution_count": null,
   "metadata": {},
   "outputs": [],
   "source": []
  }
 ]
}