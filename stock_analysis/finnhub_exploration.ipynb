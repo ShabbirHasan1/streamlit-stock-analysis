{
 "metadata": {
  "language_info": {
   "codemirror_mode": {
    "name": "ipython",
    "version": 3
   },
   "file_extension": ".py",
   "mimetype": "text/x-python",
   "name": "python",
   "nbconvert_exporter": "python",
   "pygments_lexer": "ipython3",
   "version": "3.8.10"
  },
  "orig_nbformat": 4,
  "kernelspec": {
   "name": "python3",
   "display_name": "Python 3.8.10 64-bit ('stock-app': conda)"
  },
  "interpreter": {
   "hash": "5898b406c8e9b9ec46ed19559fee778874f38e032b5162ef982a7b66abc30a29"
  }
 },
 "nbformat": 4,
 "nbformat_minor": 2,
 "cells": [
  {
   "cell_type": "code",
   "execution_count": 63,
   "metadata": {},
   "outputs": [],
   "source": [
    "import finnhub\n",
    "from datetime import date\n",
    "import time\n",
    "import datetime\n",
    "from pandas import json_normalize\n",
    "import pandas as pd"
   ]
  },
  {
   "cell_type": "code",
   "execution_count": 44,
   "metadata": {},
   "outputs": [],
   "source": [
    "# Setup client\n",
    "finnhub_client = finnhub.Client(api_key=\"c3qcjnqad3i9vt5tl68g\")"
   ]
  },
  {
   "cell_type": "code",
   "execution_count": 45,
   "metadata": {},
   "outputs": [
    {
     "output_type": "stream",
     "name": "stdout",
     "text": [
      "{'country': 'US', 'currency': 'USD', 'exchange': 'NASDAQ NMS - GLOBAL MARKET', 'finnhubIndustry': 'Technology', 'ipo': '1980-12-12', 'logo': 'https://finnhub.io/api/logo?symbol=AAPL', 'marketCapitalization': 2449244, 'name': 'Apple Inc', 'phone': '14089961010.0', 'shareOutstanding': 16556.942, 'ticker': 'AAPL', 'weburl': 'https://www.apple.com/'}\n"
     ]
    }
   ],
   "source": [
    "print(finnhub_client.company_profile2(symbol='AAPL'))"
   ]
  },
  {
   "cell_type": "code",
   "execution_count": 46,
   "metadata": {
    "tags": [
     "outputPrepend"
    ]
   },
   "outputs": [
    {
     "output_type": "stream",
     "name": "stdout",
     "text": [
      "hicago researchers hired assistants who collectively made 2,000 calls to four government offices for each state.', 'url': 'https://www.marketwatch.com/story/this-is-the-worst-state-if-you-need-phone-help-with-unemployment-snap-and-medicaid-benefits-or-other-government-aid-programs-11627670717'}, {'category': 'top news', 'datetime': 1627670580, 'headline': 'Mutual Funds Weekly: These money and investing tips can help your portfolio if stocks go on vacation in August', 'id': 6854220, 'image': 'https://images.mktw.net/im-362361/social', 'related': '', 'source': 'MarketWatch', 'summary': 'Money and investing stories popular with MarketWatch readers over the past week.', 'url': 'https://www.marketwatch.com/story/these-money-and-investing-tips-can-help-your-portfolio-if-stocks-go-on-vacation-in-august-11627670585'}, {'category': 'top news', 'datetime': 1627670520, 'headline': ': Universal Studios and SeaWorld aren’t following Disney in bringing back mask requirements', 'id': 6854221, 'image': 'https://images.mktw.net/im-378155/social', 'related': '', 'source': 'MarketWatch', 'summary': 'Disney is once again requiring visitors to wear masks indoors at Disneyland and Walt Disney World as the delta variant spreads.', 'url': 'https://www.marketwatch.com/story/universal-studios-and-seaworld-arent-following-disney-in-bringing-back-mask-requirements-11627670567'}, {'category': 'top news', 'datetime': 1627669680, 'headline': ': Caterpillar stock sinks to lead the Dow’s losers as margin outlook weighs', 'id': 6854206, 'image': 'https://images.mktw.net/im-378151/social', 'related': '', 'source': 'MarketWatch', 'summary': 'Shares of Caterpillar Inc. sank Friday, after the construction and mining equipment company beat second-quarter profit and revenue expectations, but provided some downbeat \"color\" on its outlook for the current quarter.', 'url': 'https://www.marketwatch.com/story/caterpillar-stock-sinks-to-lead-the-dows-losers-as-margin-outlook-weighs-11627669711'}, {'category': 'top news', 'datetime': 1627669440, 'headline': 'The Wall Street Journal: SEC to set new disclosure requirements for Chinese company IPOs', 'id': 6854207, 'image': 'https://images.mktw.net/im-378136/social', 'related': '', 'source': 'MarketWatch', 'summary': 'U.S. regulators will require additional disclosures from Chinese companies before allowing them to sell shares in the U.S., following new restrictions from China’s government on companies that raise capital offshore.', 'url': 'https://www.marketwatch.com/story/sec-to-set-new-disclosure-requirements-for-chinese-company-ipos-11627669486'}, {'category': 'top news', 'datetime': 1627668925, 'headline': \"Citigroup CFO Sees No Impact From China's Regulatory Crackdown\", 'id': 6854312, 'image': 'https://data.bloomberglp.com/company/sites/2/2019/01/logobbg-wht.png', 'related': '', 'source': 'Bloomberg', 'summary': 'Citigroup Inc.’s chief financial officer said China’s recent moves to crack down on companies isn’t likely to harm the bank’s business across the Asia-Pacific region.', 'url': 'https://www.bloomberg.com/news/articles/2021-07-30/citigroup-cfo-sees-no-impact-from-china-s-regulatory-crackdown'}, {'category': 'top news', 'datetime': 1627668900, 'headline': 'Retirement Weekly: The FIRE movement confronts the 4% rule', 'id': 6854208, 'image': 'https://images.mktw.net/im-377880/social', 'related': '', 'source': 'MarketWatch', 'summary': 'How much can you spend each year if you retire at age 40?', 'url': 'https://www.marketwatch.com/story/the-fire-movement-confronts-the-4-rule-11627647364'}, {'category': 'top news', 'datetime': 1627668900, 'headline': 'Flex Work Leaves San Francisco Trailing NYC in Office Comeback', 'id': 6854278, 'image': 'https://data.bloomberglp.com/company/sites/2/2019/01/logobbg-wht.png', 'related': '', 'source': 'Bloomberg', 'summary': 'A fifth of all office space vacant. Tech companies looking to offload millions of square feet they’d previously leased. Rents down 14%.', 'url': 'https://www.bloomberg.com/news/articles/2021-07-30/flex-work-leaves-san-francisco-trailing-nyc-in-office-comeback'}, {'category': 'top news', 'datetime': 1627668720, 'headline': 'Outside the Box: You could unwittingly triple your Medicare premiums — here’s what to watch for', 'id': 6854188, 'image': 'https://images.mktw.net/im-209095/social', 'related': '', 'source': 'MarketWatch', 'summary': 'These 5 financial moves could increase your Medicare premiums.', 'url': 'https://www.marketwatch.com/story/you-could-unwittingly-triple-your-medicare-premiums-heres-what-to-watch-for-11623777221'}, {'category': 'top news', 'datetime': 1627668720, 'headline': 'Retirement Weekly: Should you stick with emerging markets? Advisers weigh in', 'id': 6854189, 'image': 'https://images.mktw.net/im-377587/social', 'related': '', 'source': 'MarketWatch', 'summary': \"It's been a pretty dismal decade for emerging markets\", 'url': 'https://www.marketwatch.com/story/should-you-stick-with-emerging-markets-advisers-weigh-in-11627647868'}, {'category': 'business', 'datetime': 1627668712, 'headline': 'Spirit CEO urges employees, passengers to get Covid shots, but says the airline has no mandate', 'id': 6854193, 'image': 'https://image.cnbcfm.com/api/v1/image/106919601-1627656752049-gettyimages-1228238867-jni_nyc_la_guardia_8_26_20_34_photos-339474.jpeg?v=1627656793', 'related': '', 'source': 'CNBC', 'summary': 'Spirit Airlines CEO Ted Christie also told CNBC on Friday that leisure travel rebounded “quite quickly,\" saying the low-cost carrier has had a \"very, very busy summer.\"', 'url': 'https://www.cnbc.com/2021/07/30/spirit-airlines-ceo-ted-christie-urges-employees-passengers-to-get-covid-shots.html'}, {'category': 'top news', 'datetime': 1627668660, 'headline': 'The Conversation: A 3rd straight excellent vintage for Bordeaux wines — what does this mean for prices?', 'id': 6854190, 'image': 'https://images.mktw.net/im-367095/social', 'related': '', 'source': 'MarketWatch', 'summary': 'This model warns against an increase of more than 10% for fine wines.', 'url': 'https://www.marketwatch.com/story/a-3rd-straight-excellent-vintage-for-bordeaux-wines-what-does-this-mean-for-prices-11625846491'}, {'category': 'top news', 'datetime': 1627668600, 'headline': 'Retirement Weekly: My dad died without taking his RMD for 2021. What’s the deadline for me to take it?', 'id': 6854191, 'image': 'https://images.mktw.net/im-377362/social', 'related': '', 'source': 'MarketWatch', 'summary': 'Read the fine print of the 10-year rule', 'url': 'https://www.marketwatch.com/story/my-dad-died-without-taking-his-rmd-for-2021-whats-the-deadline-for-me-to-take-it-11627576752'}, {'category': 'top news', 'datetime': 1627668300, 'headline': 'Retirement Weekly: Why is it so hard to save for retirement? Is evolution to blame?', 'id': 6854192, 'image': 'https://images.mktw.net/im-376925/social', 'related': '', 'source': 'MarketWatch', 'summary': 'Humans aren’t wired to think decades into the future about our needs', 'url': 'https://www.marketwatch.com/story/why-is-it-so-hard-to-save-for-retirement-is-evolution-to-blame-11627576850'}, {'category': 'top news', 'datetime': 1627667280, 'headline': ': How to Invest: Using technical analysis to find meaning in stock charts', 'id': 6854165, 'image': 'https://images.mktw.net/im-378034/social', 'related': '', 'source': 'MarketWatch', 'summary': 'In the stock market, it’s important to know how you like to make money.', 'url': 'https://www.marketwatch.com/story/how-to-invest-using-technical-analysis-to-find-meaning-in-stock-charts-11627667289'}, {'category': 'business', 'datetime': 1627667191, 'headline': \"Scarlett Johansson's agent slams Disney for accusing 'Black Widow' star of disregarding public Covid risks\", 'id': 6854168, 'image': 'https://image.cnbcfm.com/api/v1/image/106919748-1627665739209-gettyimages-1205301064-vfafterparty_395_20200210100650012.jpeg?v=1627665749', 'related': '', 'source': 'CNBC', 'summary': 'Bryan Lourd fired back at Disney for \"shamelessly and falsely\" accusing Scarlett Johansson of being insensitive about the global coronavirus pandemic.', 'url': 'https://www.cnbc.com/2021/07/30/scarlett-johanssons-agent-slams-disney-for-lawsuit-response.html'}, {'category': 'top news', 'datetime': 1627667188, 'headline': 'Regeneron Cocktail Wins Nod for Expanded Use to Prevent Covid-19', 'id': 6854241, 'image': 'https://data.bloomberglp.com/company/sites/2/2019/01/logobbg-wht.png', 'related': '', 'source': 'Bloomberg', 'summary': 'Regeneron Pharmaceuticals Inc.’s antibody treatment for Covid-19 received U.S. regulators’ blessing as the first preventative therapy for unvaccinated and immunocompromised people in high-risk settings.', 'url': 'https://www.bloomberg.com/news/articles/2021-07-30/regeneron-cocktail-wins-nod-for-expanded-use-to-prevent-covid-19'}, {'category': 'top news', 'datetime': 1627666332, 'headline': 'Trump’s Tax Returns Can Be Released to Congress, DOJ Says', 'id': 6854332, 'image': 'https://data.bloomberglp.com/company/sites/2/2019/01/logobbg-wht.png', 'related': '', 'source': 'Bloomberg', 'summary': 'The Justice Department directed the Treasury Department to hand over former President Donald Trump’s tax returns to Congress, a move that means six years of Trump’s personal and business financial information could become public.', 'url': 'https://www.bloomberg.com/news/articles/2021-07-30/trump-s-tax-returns-can-be-released-justice-department-says'}, {'category': 'top news', 'datetime': 1627666080, 'headline': 'Living With Climate Change: Buying a home? Why you should ask whether it’s wired for electric vehicles', 'id': 6854122, 'image': 'https://images.mktw.net/im-368821/social', 'related': '', 'source': 'MarketWatch', 'summary': \"With more incentives and vehicles to choose from, there's a growing likelihood, there's a growing likelihood that you'll own an EV while you live in your current home or in the very next property you buy.\", 'url': 'https://www.marketwatch.com/story/buying-a-home-why-you-should-ask-whether-its-wired-for-electric-vehicles-11627666105'}, {'category': 'top news', 'datetime': 1627666020, 'headline': ': CDC data shows that 74% of people who tested positive for the virus in Massachusetts outbreak were fully vaccinated', 'id': 6854123, 'image': 'https://images.mktw.net/im-378098/social', 'related': '', 'source': 'MarketWatch', 'summary': 'A federal investigation into a COVID-19 outbreak earlier this month in a part of Massachusetts that is home to Cape Cod and Provincetown found that 74% of the 469 infections were among vaccinated people, a finding that raises questions about the prevalence of breakthrough infections.', 'url': 'https://www.marketwatch.com/story/cdc-data-shows-that-74-of-people-who-tested-positive-for-the-virus-in-massachusetts-outbreak-were-fully-vaccinated-11627665558'}, {'category': 'top news', 'datetime': 1627665540, 'headline': 'The Tell: There are enough red flags that ‘investors have to start considering de-risking,’ warns star money manager', 'id': 6854124, 'image': 'https://images.mktw.net/im-378050/social', 'related': '', 'source': 'MarketWatch', 'summary': 'Investors may be ignoring mounting evidence that the delta variant of COVID-19 could be more troublesome than it is currently being given credit for on Wall Street.', 'url': 'https://www.marketwatch.com/story/there-are-enough-red-flags-that-investors-have-to-start-considering-de-risking-warns-star-money-manager-11627665566'}, {'category': 'top news', 'datetime': 1627665387, 'headline': 'Retail Traders Buy AAPL, MSFT Stocks on Drop in Big Tech After Earnings - Bloomberg', 'id': 6854209, 'image': 'https://data.bloomberglp.com/company/sites/2/2019/01/logobbg-wht.png', 'related': '', 'source': 'Bloomberg', 'summary': 'Individual investors are piling into the likes of Apple Inc. and Microsoft Corp., showing a new appetite for megacap stocks after a rush of earnings sent some of the biggest tech names slumping.', 'url': 'https://www.bloomberg.com/news/articles/2021-07-30/retail-traders-buy-the-dip-in-big-tech-unfazed-by-earnings'}, {'category': 'business', 'datetime': 1627665362, 'headline': \"Government denies Bezos' protest that NASA wrongly awarded lunar lander contract to only Musk's SpaceX\", 'id': 6854126, 'image': 'https://image.cnbcfm.com/api/v1/image/106879219-1620312450279-gettyimages-1148070239-mw010124_2019050944739398.jpeg?v=1620312481', 'related': '', 'source': 'CNBC', 'summary': \"The U.S. GAO denied a protest by Jeff Bezos' Blue Origin that NASA wrongly awarded a lucrative astronaut lunar lander contract solely to Elon Musk's SpaceX.\", 'url': 'https://www.cnbc.com/2021/07/30/government-denies-bezos-blue-origin-protest-over-nasa-hls-contract.html'}, {'category': 'top news', 'datetime': 1627665247, 'headline': 'Trump tax returns can be released to Congress, DOJ says', 'id': 6854106, 'image': 'https://image.cnbcfm.com/api/v1/image/106919742-1627664948812-gettyimages-1329595419-d85_9225-2_2021071981829955.jpeg?v=1627664990', 'related': '', 'source': 'CNBC', 'summary': 'Former President Donald Trump has refused for years to voluntarily disclose his income tax returns. Congress can now see them, the Justice Department said.', 'url': 'https://www.cnbc.com/2021/07/30/trump-tax-returns-can-be-released-to-congress-doj-says.html'}, {'category': 'top news', 'datetime': 1627665180, 'headline': 'The Margin: Your ultimate tax-free holidays guide: when and where you can shop without paying sales tax in August', 'id': 6854105, 'image': 'https://images.mktw.net/im-378093/social', 'related': '', 'source': 'MarketWatch', 'summary': 'Sales tax holidays arrive as parents brace for more expensive back-to-school shopping this year', 'url': 'https://www.marketwatch.com/story/your-ultimate-tax-free-holidays-guide-when-and-where-you-can-shop-without-paying-sales-tax-in-august-11627665202'}, {'category': 'top news', 'datetime': 1627664830, 'headline': 'Senate’s $550 Billion Infrastructure Deal Clears Key Hurdle', 'id': 6854333, 'image': 'https://data.bloomberglp.com/company/sites/2/2019/01/logobbg-wht.png', 'related': '', 'source': 'Bloomberg', 'summary': 'The U.S. Senate cleared a second procedural hurdle Friday on the $550 billion infrastructure bill, making passage of a cornerstone of President Joe Biden’s economic agenda likely in the coming days.', 'url': 'https://www.bloomberg.com/news/articles/2021-07-30/-550-billion-infrastructure-deal-clears-key-hurdle-in-senate'}, {'category': 'top news', 'datetime': 1627664400, 'headline': 'Delta Strain Spread in Vaccinated People on Cape Cod, CDC Says', 'id': 6854176, 'image': 'https://data.bloomberglp.com/company/sites/2/2019/01/logobbg-wht.png', 'related': '', 'source': 'Bloomberg', 'summary': 'The delta strain spread widely in a series of densely packed summer events and large public gatherings in Cape Cod’s Barnstable County in early July, raising further concerns about the highly transmissible variant.', 'url': 'https://www.bloomberg.com/news/articles/2021-07-30/delta-strain-spread-in-vaccinated-people-on-cape-cod-cdc-says'}, {'category': 'top news', 'datetime': 1627664203, 'headline': 'Yale Brings Back Masks for Indoor Spaces as Delta Upends Plans', 'id': 6854177, 'image': 'https://data.bloomberglp.com/company/sites/2/2019/01/logobbg-wht.png', 'related': '', 'source': 'Bloomberg', 'summary': 'Yale University is reinstituting a requirement that all individuals wear masks in indoor campus spaces to combat high levels of the delta variant.', 'url': 'https://www.bloomberg.com/news/articles/2021-07-30/yale-brings-back-masks-for-indoor-spaces-as-delta-upends-plans'}, {'category': 'top news', 'datetime': 1627664160, 'headline': 'Where Should I Retire?: We want to retire to a fun lake house, but we also want city amenities. Our budget is $450,000. Where should we go?', 'id': 6854086, 'image': 'https://images.mktw.net/im-377497/social', 'related': '', 'source': 'MarketWatch', 'summary': \"This reader says humidity doesn’t bother him and his wife, but they're not huge fans of snow.\", 'url': 'https://www.marketwatch.com/story/we-want-to-retire-to-a-fun-lake-house-but-we-also-want-city-amenities-our-budget-is-450-000-where-should-we-go-11627663596'}, {'category': 'business', 'datetime': 1627664063, 'headline': 'MLB suspends Nationals player Starlin Castro for 30 games, team will release him for domestic violence policy violation', 'id': 6854089, 'image': 'https://image.cnbcfm.com/api/v1/image/106919689-1627661629432-gettyimages-1233613688-cgv210622154_phi_wsh.jpeg?v=1627661666', 'related': '', 'source': 'CNBC', 'summary': 'Starlin Castro, an infielder on the Washington Nationals, previously played for the Chicago Cubs, the New York Yankees and the Miami Marlins.', 'url': 'https://www.cnbc.com/2021/07/30/washington-nationals-will-release-starlin-castro-over-domestic-violence.html'}, {'category': 'top news', 'datetime': 1627663440, 'headline': ': Exxon’s, Chevron’s chemicals businesses are Q2 highlight', 'id': 6854087, 'image': 'https://images.mktw.net/im-378068/social', 'related': '', 'source': 'MarketWatch', 'summary': 'Exxon Mobil Corp. and Chevron Corp. relied on the strength of their chemicals  businesses to turn out higher profit and sales than Wall Street expected.', 'url': 'https://www.marketwatch.com/story/exxons-chevrons-chemicals-businesses-are-q2-highlight-11627663448'}, {'category': 'top news', 'datetime': 1627662909, 'headline': 'Para-Rower Blake Haxton', 'id': 6854108, 'image': 'https://data.bloomberglp.com/company/sites/2/2019/01/logobbg-wht.png', 'related': '', 'source': 'Bloomberg', 'summary': 'Blake Haxton lost the use of his legs in high school from a flesh-eating disease.\\n\\nNow, he’s the 1st person in the U.S. to qualify for this summer’s Paralympic Games in both sprint canoe and rowing. Here’s his story. Presented by Citi (Source: Quicktake)', 'url': 'https://www.bloomberg.com/news/videos/2021-07-30/para-rower-blake-haxton-video'}, {'category': 'top news', 'datetime': 1627662660, 'headline': 'Commodities Corner: Copper’s run to record highs may not be over yet', 'id': 6854060, 'image': 'https://mw3.wsj.net/mw5/content/logos/mw_logo_social.png', 'related': '', 'source': 'MarketWatch', 'summary': 'Copper has had an impressive run so far this year and after a recent pullback from its record highs, tight supplies and rising demand for the industrial metal suggest prices may climb even higher.', 'url': 'https://www.marketwatch.com/story/coppers-run-to-record-highs-may-not-be-over-yet-11627662700'}, {'category': 'top news', 'datetime': 1627661940, 'headline': 'Top Ten: Weekend reads: Time to assess Big Tech earnings and Robinhood’s IPO', 'id': 6854045, 'image': 'https://images.mktw.net/im-359452/social', 'related': '', 'source': 'MarketWatch', 'summary': \"Also, a 78-year-old asks if she'll be OK in retirement, and why you might want to reconsider value investing.\", 'url': 'https://www.marketwatch.com/story/weekend-reads-time-to-assess-big-tech-earnings-and-robinhoods-ipo-11627661981'}, {'category': 'top news', 'datetime': 1627661791, 'headline': 'Supply-Chain Snarls Seem Never-Ending for Manufacturers, So What Now?', 'id': 6854795, 'image': 'https://data.bloomberglp.com/company/sites/2/2019/01/logobbg-wht.png', 'related': '', 'source': 'Bloomberg', 'summary': 'Freight logjams and shortages of everything from garbage truck parts to chips are forcing manufacturers to come up with alternatives.', 'url': 'https://www.bloomberg.com/opinion/articles/2021-07-30/supply-chain-snarls-seem-never-ending-for-manufacturers-so-what-now'}, {'category': 'top news', 'datetime': 1627660806, 'headline': 'NewsWatch: Interest rates haven’t been this low in 5,000 years', 'id': 6854030, 'image': 'https://mw3.wsj.net/mw5/content/logos/mw_logo_social.png', 'related': '', 'source': 'MarketWatch', 'summary': 'How is this for a historical comparison -- interest rates are at a 5,000-year low.', 'url': 'https://www.marketwatch.com/story/interest-rates-havent-been-this-low-in-5000-years-2021-07-30'}]\n"
     ]
    }
   ],
   "source": [
    "print(finnhub_client.general_news('general', min_id=0))"
   ]
  },
  {
   "cell_type": "code",
   "execution_count": 47,
   "metadata": {},
   "outputs": [
    {
     "output_type": "stream",
     "name": "stdout",
     "text": [
      "{'buzz': {'articlesInLastWeek': 417, 'buzz': 1.39, 'weeklyAverage': 300}, 'companyNewsScore': 0.6206, 'sectorAverageBullishPercent': 0.6867, 'sectorAverageNewsScore': 0.5545, 'sentiment': {'bearishPercent': 0.2895, 'bullishPercent': 0.7105}, 'symbol': 'AAPL'}\n"
     ]
    }
   ],
   "source": [
    "print(finnhub_client.news_sentiment('AAPL'))"
   ]
  },
  {
   "cell_type": "code",
   "execution_count": 49,
   "metadata": {},
   "outputs": [
    {
     "output_type": "execute_result",
     "data": {
      "text/plain": [
       "1596171600.0"
      ]
     },
     "metadata": {},
     "execution_count": 49
    }
   ],
   "source": [
    "today = date.today()\n",
    "year_ago = today - datetime.timedelta(days=365)\n",
    "unixtime_today = time.mktime(today.timetuple())\n",
    "unixtime_year = time.mktime(year_ago.timetuple())\n",
    "unixtime_year"
   ]
  },
  {
   "cell_type": "code",
   "execution_count": 50,
   "metadata": {},
   "outputs": [
    {
     "output_type": "execute_result",
     "data": {
      "text/plain": [
       "1596171600"
      ]
     },
     "metadata": {},
     "execution_count": 50
    }
   ],
   "source": [
    "int(unixtime_year)"
   ]
  },
  {
   "cell_type": "code",
   "execution_count": 51,
   "metadata": {},
   "outputs": [
    {
     "output_type": "stream",
     "name": "stdout",
     "text": [
      "{'c': [106.26, 108.9375, 109.665, 110.0625, 113.9025, 111.1125, 112.7275, 109.375, 113.01, 115.01, 114.9075, 114.6075, 115.5625, 115.7075, 118.275, 124.37, 125.8575, 124.825, 126.5225, 125.01, 124.8075, 129.04, 134.18, 131.4, 120.88, 120.96, 112.82, 117.32, 113.49, 112, 115.355, 115.54, 112.13, 110.34, 106.84, 110.08, 111.81, 107.12, 108.22, 112.28, 114.96, 114.09, 115.81, 116.79, 113.02, 116.5, 113.16, 115.08, 114.97, 116.97, 124.4, 121.1, 121.19, 120.71, 119.02, 115.98, 117.51, 116.87, 115.75, 115.04, 115.05, 116.6, 111.2, 115.32, 108.86, 108.77, 110.44, 114.95, 119.03, 118.69, 116.32, 115.97, 119.49, 119.21, 119.26, 120.3, 119.39, 118.03, 118.64, 117.34, 113.85, 115.17, 116.03, 116.59, 119.05, 122.72, 123.08, 122.94, 122.25, 123.75, 124.38, 121.78, 123.24, 122.41, 121.78, 127.88, 127.81, 128.7, 126.655, 128.23, 131.88, 130.96, 131.97, 136.69, 134.87, 133.72, 132.69, 129.41, 131.01, 126.6, 130.92, 132.05, 128.98, 128.8, 130.89, 128.91, 127.14, 127.83, 132.03, 136.87, 139.07, 142.92, 143.16, 142.06, 137.09, 131.96, 134.14, 134.99, 133.94, 137.39, 136.76, 136.91, 136.01, 135.39, 135.13, 135.37, 133.19, 130.84, 129.71, 129.87, 126, 125.86, 125.35, 120.99, 121.26, 127.79, 125.12, 122.06, 120.13, 121.42, 116.36, 121.085, 119.98, 121.96, 121.03, 123.99, 125.57, 124.76, 120.53, 119.99, 123.39, 122.54, 120.09, 120.59, 121.21, 121.39, 119.9, 122.15, 123, 125.9, 126.21, 127.9, 130.36, 132.995, 131.24, 134.43, 132.03, 134.5, 134.16, 134.84, 133.11, 133.5, 131.94, 134.32, 134.72, 134.39, 133.58, 133.48, 131.46, 132.54, 127.85, 128.1, 129.74, 130.21, 126.85, 125.91, 122.77, 124.97, 127.45, 126.27, 124.85, 124.69, 127.31, 125.43, 127.1, 126.9, 126.85, 125.28, 124.61, 124.28, 125.06, 123.54, 125.89, 125.9, 126.74, 127.13, 126.11, 127.35, 130.48, 129.64, 130.15, 131.79, 130.46, 132.3, 133.98, 133.7, 133.41, 133.11, 134.78, 136.33, 136.96, 137.27, 139.96, 142.02, 144.57, 143.24, 145.11, 144.5, 145.64, 149.15, 148.48, 146.39, 142.45, 146.15, 145.4, 146.8, 148.56, 148.99, 146.77, 144.98, 145.64, 145.86], 'h': [106.415, 111.636425, 110.79, 110.3925, 114.4125, 113.675, 113.775, 112.4825, 113.275, 116.0425, 115, 116.0875, 116, 117.1625, 118.392, 124.868, 128.785, 125.1793, 126.9925, 127.485, 126.4425, 131, 134.8, 137.98, 128.84, 123.7, 118.99, 119.14, 120.5, 115.23, 115.93, 118.829, 116, 112.2, 110.88, 110.19, 112.86, 112.11, 110.25, 112.44, 115.32, 115.31, 117.26, 117.72, 115.37, 116.65, 116.12, 115.55, 116.4, 117, 125.18, 125.39, 123.03, 121.2, 121.548, 120.419, 118.98, 118.705, 118.04, 116.55, 116.55, 117.28, 115.43, 116.93, 111.99, 110.68, 111.49, 115.59, 119.62, 119.2, 121.99, 117.59, 119.63, 120.53, 119.6717, 120.99, 120.6741, 119.82, 119.06, 118.77, 117.6202, 115.85, 116.75, 117.49, 120.97, 123.4693, 123.37, 123.78, 122.8608, 124.57, 124.98, 125.95, 123.87, 122.76, 123.35, 127.9, 128.37, 129.58, 129.1, 128.31, 134.405, 132.43, 133.46, 137.34, 138.789, 135.99, 134.74, 133.6116, 131.74, 131.0499, 131.63, 132.63, 130.17, 129.69, 131.45, 131, 130.2242, 128.71, 132.49, 139.67, 139.85, 145.09, 144.3, 144.3, 141.99, 136.74, 135.38, 136.31, 135.77, 137.4, 137.42, 136.96, 137.877, 136.99, 136.39, 135.53, 136.01, 132.22, 129.995, 130.71, 129.72, 126.71, 125.56, 126.4585, 124.85, 127.93, 128.72, 125.71, 123.6, 121.935, 121, 122.06, 122.17, 123.21, 121.17, 124, 127.22, 125.8599, 123.18, 121.43, 123.87, 124.24, 122.9, 121.66, 121.48, 122.58, 120.4031, 123.52, 124.18, 126.1601, 127.13, 127.92, 130.39, 133.04, 132.85, 134.66, 135, 135, 134.67, 135.47, 135.53, 133.75, 134.15, 135.12, 135.06, 135.41, 135.02, 137.07, 133.56, 134.07, 131.4899, 130.45, 129.75, 131.2582, 129.54, 126.27, 124.64, 126.15, 127.89, 126.93, 126.99, 124.915, 127.72, 128, 127.94, 128.32, 127.39, 127.64, 125.8, 125.35, 125.24, 124.85, 126.16, 126.32, 128.46, 127.75, 128.19, 127.44, 130.54, 130.6, 130.89, 132.55, 131.51, 132.41, 134.08, 134.32, 134.64, 133.89, 135.245, 136.49, 137.41, 137.33, 140, 143.15, 144.89, 144.06, 145.65, 146.32, 147.46, 149.57, 150, 149.76, 144.07, 147.0997, 146.13, 148.195, 148.7177, 149.83, 149.21, 146.97, 146.55, 146.33], 'l': [100.825, 107.8925, 108.3875, 108.8975, 109.7975, 110.2925, 110, 109.106675, 110.2975, 113.9275, 113.045, 113.962525, 114.0075, 115.61, 115.733375, 119.25, 123.93625, 123.0525, 125.0825, 123.8325, 124.5775, 126, 130.53, 127, 120.5, 110.89, 112.68, 115.26, 112.5, 110, 112.8, 113.61, 112.04, 108.71, 106.09, 103.1, 109.16, 106.77, 105, 107.67, 112.78, 113.57, 113.62, 115.83, 112.22, 113.55, 112.25, 114.13, 114.5901, 114.92, 119.2845, 119.65, 119.62, 118.15, 118.81, 115.66, 115.63, 116.45, 114.59, 114.28, 112.88, 114.5399, 111.1, 112.2, 107.72, 107.32, 108.73, 112.35, 116.8686, 116.13, 116.05, 114.13, 116.44, 118.57, 117.87, 118.146, 118.96, 118, 116.81, 117.29, 113.75, 112.59, 115.17, 116.22, 116.81, 120.01, 120.89, 122.21, 121.52, 122.25, 123.09, 121, 120.15, 120.55, 121.54, 124.13, 126.56, 128.045, 126.12, 123.449, 129.65, 130.78, 131.1, 133.51, 134.3409, 133.4, 131.72, 126.76, 128.43, 126.382, 127.86, 130.23, 128.5, 126.86, 128.49, 128.76, 127, 126.938, 128.55, 133.59, 135.02, 136.54, 141.37, 140.41, 136.7, 130.21, 130.93, 134.61, 133.61, 134.59, 135.86, 134.92, 135.85, 134.4, 133.77, 133.6921, 132.79, 129.47, 127.41, 128.8, 125.6, 118.39, 122.23, 120.54, 121.2, 122.79, 125.01, 121.84, 118.62, 117.57, 116.21, 118.79, 119.45, 121.26, 119.16, 120.42, 124.715, 122.336, 120.32, 119.675, 120.26, 122.14, 120.065, 119, 118.92, 120.7299, 118.86, 121.15, 122.49, 123.07, 125.65, 125.14, 128.52, 129.47, 130.63, 131.93, 131.655, 133.64, 133.28, 133.34, 131.81, 131.3001, 131.41, 132.16, 133.56, 134.11, 133.08, 132.45, 131.065, 131.83, 126.7, 127.97, 127.13, 129.475, 126.81, 122.77, 122.25, 124.26, 125.85, 125.17, 124.78, 122.86, 125.1, 125.21, 125.94, 126.32, 126.42, 125.08, 124.55, 123.94, 124.05, 123.13, 123.85, 124.8321, 126.2101, 126.52, 125.94, 126.1, 127.07, 129.39, 128.461, 129.65, 130.24, 129.21, 131.62, 133.23, 132.93, 132.81, 133.35, 134.35, 135.87, 135.76, 137.745, 140.07, 142.66, 140.665, 142.6522, 144, 143.63, 147.68, 147.09, 145.88, 141.67, 142.96, 144.63, 145.81, 146.92, 147.7, 145.55, 142.54, 144.58, 144.11], 'o': [102.88375, 108.2, 109.1325, 109.3775, 110.405, 113.205, 112.6, 111.96875, 110.4975, 114.43, 114.82875, 116.0625, 114.3525, 115.98325, 115.75, 119.2625, 128.6975, 124.6975, 126.179125, 127.1425, 126.0125, 127.58, 132.76, 137.59, 126.91, 120.07, 113.95, 117.26, 120.36, 114.57, 114.72, 118.33, 115.23, 109.72, 110.4, 104.54, 112.68, 111.62, 105.17, 108.43, 115.01, 114.55, 113.79, 117.64, 112.89, 113.91, 115.7, 114.62, 116.25, 115.28, 120.06, 125.27, 121, 118.72, 121.28, 119.96, 116.2, 116.67, 117.45, 116.39, 114.01, 115.49, 115.05, 112.37, 111.06, 109.11, 109.66, 114.14, 117.95, 118.32, 120.5, 115.55, 117.19, 119.62, 119.44, 118.92, 119.55, 118.61, 117.59, 118.64, 117.18, 113.91, 115.55, 116.57, 116.97, 121.01, 122.02, 123.52, 122.6, 122.31, 124.37, 124.53, 120.5, 122.43, 122.6, 124.34, 127.41, 128.9, 128.96, 125.02, 131.61, 132.16, 131.32, 133.99, 138.05, 135.58, 134.08, 133.52, 128.89, 127.72, 128.36, 132.43, 129.19, 128.5, 128.76, 130.8, 128.78, 127.78, 128.66, 133.8, 136.28, 143.07, 143.6, 143.43, 139.52, 135.83, 133.75, 135.73, 135.76, 136.3, 137.35, 136.03, 136.62, 136.48, 135.9, 134.35, 135.49, 131.25, 129.2, 130.24, 128.01, 123.76, 124.94, 124.68, 122.59, 123.75, 128.41, 124.81, 121.75, 120.98, 120.93, 119.03, 121.69, 122.54, 120.4, 121.41, 125.7, 124.05, 122.88, 119.9, 120.33, 123.33, 122.82, 119.54, 120.35, 121.65, 120.11, 121.65, 123.66, 123.87, 126.5, 125.83, 128.95, 129.8, 132.52, 132.44, 134.94, 133.82, 134.3, 133.51, 135.02, 132.36, 133.04, 132.16, 134.83, 135.01, 134.31, 136.47, 131.78, 132.04, 131.19, 129.2, 127.89, 130.85, 129.41, 123.5, 123.4, 124.58, 126.25, 126.82, 126.56, 123.16, 125.23, 127.82, 126.01, 127.82, 126.955, 126.44, 125.57, 125.08, 124.28, 124.68, 124.07, 126.17, 126.6, 127.21, 127.02, 126.53, 127.82, 129.94, 130.37, 129.8, 130.71, 130.3, 132.13, 133.77, 134.45, 133.46, 133.41, 134.8, 136.17, 136.6, 137.9, 140.07, 143.535, 141.58, 142.75, 146.21, 144.03, 148.1, 149.24, 148.46, 143.75, 143.46, 145.53, 145.935, 147.55, 148.27, 149.12, 144.81, 144.685, 144.38], 's': 'ok', 't': [1596153600, 1596412800, 1596499200, 1596585600, 1596672000, 1596758400, 1597017600, 1597104000, 1597190400, 1597276800, 1597363200, 1597622400, 1597708800, 1597795200, 1597881600, 1597968000, 1598227200, 1598313600, 1598400000, 1598486400, 1598572800, 1598832000, 1598918400, 1599004800, 1599091200, 1599177600, 1599523200, 1599609600, 1599696000, 1599782400, 1600041600, 1600128000, 1600214400, 1600300800, 1600387200, 1600646400, 1600732800, 1600819200, 1600905600, 1600992000, 1601251200, 1601337600, 1601424000, 1601510400, 1601596800, 1601856000, 1601942400, 1602028800, 1602115200, 1602201600, 1602460800, 1602547200, 1602633600, 1602720000, 1602806400, 1603065600, 1603152000, 1603238400, 1603324800, 1603411200, 1603670400, 1603756800, 1603843200, 1603929600, 1604016000, 1604275200, 1604361600, 1604448000, 1604534400, 1604620800, 1604880000, 1604966400, 1605052800, 1605139200, 1605225600, 1605484800, 1605571200, 1605657600, 1605744000, 1605830400, 1606089600, 1606176000, 1606262400, 1606435200, 1606694400, 1606780800, 1606867200, 1606953600, 1607040000, 1607299200, 1607385600, 1607472000, 1607558400, 1607644800, 1607904000, 1607990400, 1608076800, 1608163200, 1608249600, 1608508800, 1608595200, 1608681600, 1608768000, 1609113600, 1609200000, 1609286400, 1609372800, 1609718400, 1609804800, 1609891200, 1609977600, 1610064000, 1610323200, 1610409600, 1610496000, 1610582400, 1610668800, 1611014400, 1611100800, 1611187200, 1611273600, 1611532800, 1611619200, 1611705600, 1611792000, 1611878400, 1612137600, 1612224000, 1612310400, 1612396800, 1612483200, 1612742400, 1612828800, 1612915200, 1613001600, 1613088000, 1613433600, 1613520000, 1613606400, 1613692800, 1613952000, 1614038400, 1614124800, 1614211200, 1614297600, 1614556800, 1614643200, 1614729600, 1614816000, 1614902400, 1615161600, 1615248000, 1615334400, 1615420800, 1615507200, 1615766400, 1615852800, 1615939200, 1616025600, 1616112000, 1616371200, 1616457600, 1616544000, 1616630400, 1616716800, 1616976000, 1617062400, 1617148800, 1617235200, 1617580800, 1617667200, 1617753600, 1617840000, 1617926400, 1618185600, 1618272000, 1618358400, 1618444800, 1618531200, 1618790400, 1618876800, 1618963200, 1619049600, 1619136000, 1619395200, 1619481600, 1619568000, 1619654400, 1619740800, 1620000000, 1620086400, 1620172800, 1620259200, 1620345600, 1620604800, 1620691200, 1620777600, 1620864000, 1620950400, 1621209600, 1621296000, 1621382400, 1621468800, 1621555200, 1621814400, 1621900800, 1621987200, 1622073600, 1622160000, 1622505600, 1622592000, 1622678400, 1622764800, 1623024000, 1623110400, 1623196800, 1623283200, 1623369600, 1623628800, 1623715200, 1623801600, 1623888000, 1623974400, 1624233600, 1624320000, 1624406400, 1624492800, 1624579200, 1624838400, 1624924800, 1625011200, 1625097600, 1625184000, 1625529600, 1625616000, 1625702400, 1625788800, 1626048000, 1626134400, 1626220800, 1626307200, 1626393600, 1626652800, 1626739200, 1626825600, 1626912000, 1626998400, 1627257600, 1627344000, 1627430400, 1627516800, 1627603200], 'v': [374295468, 308151388, 172792368, 121991952, 202428900, 198045612, 212403424, 187902376, 165944820, 210082064, 165565208, 119561444, 105633540, 145538008, 126907188, 338054640, 345937768, 211495788, 163022268, 155552384, 187629916, 225702688, 152470142, 200118991, 257599640, 332607163, 231366563, 176940455, 182274391, 180860325, 140150087, 184642039, 155026675, 178010968, 287104882, 195713815, 183055373, 150718671, 167743349, 149981441, 137672403, 100060526, 142675184, 116120440, 144711986, 106243839, 161498212, 96848985, 83477153, 100506865, 240226769, 262330451, 151062308, 112559219, 115393808, 120639337, 124423728, 89945980, 101987954, 82572645, 111850657, 92276772, 143937823, 146129173, 190573476, 122866899, 107624448, 138235482, 126387074, 114457922, 154515315, 138023390, 112294954, 103350674, 81688586, 91183018, 74270973, 76322111, 74112972, 73604287, 127959318, 113874218, 76499234, 46691331, 169410176, 128166803, 89004195, 78967630, 78260421, 86711990, 82225512, 115089193, 81312170, 86939786, 79075988, 157572262, 98208591, 94359811, 192541496, 121251553, 169351825, 88223692, 54930064, 124486237, 121047324, 96452124, 99116586, 143301887, 97664898, 155087970, 109578157, 105158245, 100620880, 91951145, 88636831, 90221755, 111598531, 90757329, 104319489, 120529544, 114459360, 157611713, 98390555, 140843759, 142621128, 177523812, 106239823, 83305367, 89880937, 84183061, 75693830, 71297214, 76774213, 73046563, 64280029, 60145130, 80576316, 98085249, 96856748, 87668834, 103916419, 158273022, 111039904, 148199540, 164560394, 116307892, 102260945, 112966340, 178154975, 153766601, 154376610, 129525780, 111943326, 103026514, 88105050, 92590555, 115227936, 111932636, 121469755, 185549522, 111912284, 95467142, 88530485, 98844681, 94071234, 80819203, 85671919, 118323826, 75089134, 88651175, 80171253, 83466716, 88844591, 106686703, 91419983, 91266545, 87222782, 89347102, 84922386, 94264215, 94812349, 68847136, 84566456, 78756779, 66905069, 66015804, 107760097, 151100953, 109839466, 75135100, 137564718, 84000900, 78128334, 78973273, 88071229, 126142826, 112172282, 105861339, 81917951, 74244624, 63342929, 92611989, 76857123, 79295436, 63092945, 72009482, 56575920, 94625601, 71311109, 67637118, 59278862, 76229170, 75169343, 71057550, 74403774, 56877937, 71186421, 53522373, 96906490, 62746332, 91815026, 96721669, 108953309, 79663316, 74783618, 60214200, 68710998, 70783746, 62111303, 64556081, 63261393, 52485781, 78945572, 108181793, 104911589, 105575458, 99890800, 76299719, 100827099, 127050785, 106820297, 93251426, 121434571, 96350036, 74993460, 77338156, 71447416, 72434089, 104818578, 118931191, 56699475, 70382000]}\n"
     ]
    }
   ],
   "source": [
    "# Stock candles\n",
    "res = finnhub_client.stock_candles('AAPL', 'D', int(unixtime_year), int(unixtime_today))\n",
    "print(res)"
   ]
  },
  {
   "cell_type": "code",
   "execution_count": 76,
   "metadata": {},
   "outputs": [
    {
     "output_type": "execute_result",
     "data": {
      "text/plain": [
       "               close        high       low  ...   timestamp     volume       date\n",
       "date                                        ...                                  \n",
       "2020-07-31  106.2600  106.415000  100.8250  ...  1596153600  374295468 2020-07-31\n",
       "2020-08-03  108.9375  111.636425  107.8925  ...  1596412800  308151388 2020-08-03\n",
       "2020-08-04  109.6650  110.790000  108.3875  ...  1596499200  172792368 2020-08-04\n",
       "2020-08-05  110.0625  110.392500  108.8975  ...  1596585600  121991952 2020-08-05\n",
       "2020-08-06  113.9025  114.412500  109.7975  ...  1596672000  202428900 2020-08-06\n",
       "...              ...         ...       ...  ...         ...        ...        ...\n",
       "2021-07-26  148.9900  149.830000  147.7000  ...  1627257600   72434089 2021-07-26\n",
       "2021-07-27  146.7700  149.210000  145.5500  ...  1627344000  104818578 2021-07-27\n",
       "2021-07-28  144.9800  146.970000  142.5400  ...  1627430400  118931191 2021-07-28\n",
       "2021-07-29  145.6400  146.550000  144.5800  ...  1627516800   56699475 2021-07-29\n",
       "2021-07-30  145.8600  146.330000  144.1100  ...  1627603200   70382000 2021-07-30\n",
       "\n",
       "[252 rows x 8 columns]"
      ],
      "text/html": "<div>\n<style scoped>\n    .dataframe tbody tr th:only-of-type {\n        vertical-align: middle;\n    }\n\n    .dataframe tbody tr th {\n        vertical-align: top;\n    }\n\n    .dataframe thead th {\n        text-align: right;\n    }\n</style>\n<table border=\"1\" class=\"dataframe\">\n  <thead>\n    <tr style=\"text-align: right;\">\n      <th></th>\n      <th>close</th>\n      <th>high</th>\n      <th>low</th>\n      <th>open</th>\n      <th>status</th>\n      <th>timestamp</th>\n      <th>volume</th>\n      <th>date</th>\n    </tr>\n    <tr>\n      <th>date</th>\n      <th></th>\n      <th></th>\n      <th></th>\n      <th></th>\n      <th></th>\n      <th></th>\n      <th></th>\n      <th></th>\n    </tr>\n  </thead>\n  <tbody>\n    <tr>\n      <th>2020-07-31</th>\n      <td>106.2600</td>\n      <td>106.415000</td>\n      <td>100.8250</td>\n      <td>102.88375</td>\n      <td>ok</td>\n      <td>1596153600</td>\n      <td>374295468</td>\n      <td>2020-07-31</td>\n    </tr>\n    <tr>\n      <th>2020-08-03</th>\n      <td>108.9375</td>\n      <td>111.636425</td>\n      <td>107.8925</td>\n      <td>108.20000</td>\n      <td>ok</td>\n      <td>1596412800</td>\n      <td>308151388</td>\n      <td>2020-08-03</td>\n    </tr>\n    <tr>\n      <th>2020-08-04</th>\n      <td>109.6650</td>\n      <td>110.790000</td>\n      <td>108.3875</td>\n      <td>109.13250</td>\n      <td>ok</td>\n      <td>1596499200</td>\n      <td>172792368</td>\n      <td>2020-08-04</td>\n    </tr>\n    <tr>\n      <th>2020-08-05</th>\n      <td>110.0625</td>\n      <td>110.392500</td>\n      <td>108.8975</td>\n      <td>109.37750</td>\n      <td>ok</td>\n      <td>1596585600</td>\n      <td>121991952</td>\n      <td>2020-08-05</td>\n    </tr>\n    <tr>\n      <th>2020-08-06</th>\n      <td>113.9025</td>\n      <td>114.412500</td>\n      <td>109.7975</td>\n      <td>110.40500</td>\n      <td>ok</td>\n      <td>1596672000</td>\n      <td>202428900</td>\n      <td>2020-08-06</td>\n    </tr>\n    <tr>\n      <th>...</th>\n      <td>...</td>\n      <td>...</td>\n      <td>...</td>\n      <td>...</td>\n      <td>...</td>\n      <td>...</td>\n      <td>...</td>\n      <td>...</td>\n    </tr>\n    <tr>\n      <th>2021-07-26</th>\n      <td>148.9900</td>\n      <td>149.830000</td>\n      <td>147.7000</td>\n      <td>148.27000</td>\n      <td>ok</td>\n      <td>1627257600</td>\n      <td>72434089</td>\n      <td>2021-07-26</td>\n    </tr>\n    <tr>\n      <th>2021-07-27</th>\n      <td>146.7700</td>\n      <td>149.210000</td>\n      <td>145.5500</td>\n      <td>149.12000</td>\n      <td>ok</td>\n      <td>1627344000</td>\n      <td>104818578</td>\n      <td>2021-07-27</td>\n    </tr>\n    <tr>\n      <th>2021-07-28</th>\n      <td>144.9800</td>\n      <td>146.970000</td>\n      <td>142.5400</td>\n      <td>144.81000</td>\n      <td>ok</td>\n      <td>1627430400</td>\n      <td>118931191</td>\n      <td>2021-07-28</td>\n    </tr>\n    <tr>\n      <th>2021-07-29</th>\n      <td>145.6400</td>\n      <td>146.550000</td>\n      <td>144.5800</td>\n      <td>144.68500</td>\n      <td>ok</td>\n      <td>1627516800</td>\n      <td>56699475</td>\n      <td>2021-07-29</td>\n    </tr>\n    <tr>\n      <th>2021-07-30</th>\n      <td>145.8600</td>\n      <td>146.330000</td>\n      <td>144.1100</td>\n      <td>144.38000</td>\n      <td>ok</td>\n      <td>1627603200</td>\n      <td>70382000</td>\n      <td>2021-07-30</td>\n    </tr>\n  </tbody>\n</table>\n<p>252 rows × 8 columns</p>\n</div>"
     },
     "metadata": {},
     "execution_count": 76
    }
   ],
   "source": [
    "from datetime import datetime\n",
    "\n",
    "stock_df = pd.DataFrame(res)\n",
    "stock_df.columns = ['close', 'high', 'low', 'open', 'status', 'timestamp', 'volume']\n",
    "stock_df['date'] = pd.to_datetime(stock_df['timestamp'], unit='s')\n",
    "stock_df.index = stock_df['date']\n",
    "stock_df"
   ]
  },
  {
   "cell_type": "code",
   "execution_count": null,
   "metadata": {},
   "outputs": [],
   "source": []
  },
  {
   "cell_type": "code",
   "execution_count": null,
   "metadata": {},
   "outputs": [],
   "source": []
  },
  {
   "cell_type": "code",
   "execution_count": null,
   "metadata": {},
   "outputs": [],
   "source": []
  },
  {
   "cell_type": "code",
   "execution_count": null,
   "metadata": {},
   "outputs": [],
   "source": []
  },
  {
   "cell_type": "code",
   "execution_count": null,
   "metadata": {},
   "outputs": [],
   "source": []
  }
 ]
}