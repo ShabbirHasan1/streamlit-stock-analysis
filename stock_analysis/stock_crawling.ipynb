{
 "cells": [
  {
   "cell_type": "code",
   "execution_count": 104,
   "id": "looking-sewing",
   "metadata": {},
   "outputs": [],
   "source": [
    "import pandas as pd\n",
    "#from pandas_datareader import DataReader\n",
    "import numpy as np\n",
    "from pandas import json_normalize\n",
    "#import matplotlib.pyplot as plt\n",
    "#import seaborn as sns\n",
    "import streamlit as st\n",
    "import base64\n",
    "import plotly.express as px\n",
    "from PIL import Image\n",
    "import plotly.graph_objects as go\n",
    "\n",
    "##stock packages\n",
    "#from yahoo_fin import stock_info as si\n",
    "import yfinance as yfin\n",
    "#from get_all_tickers import get_tickers as gt\n",
    "\n",
    "## web crawling packages\n",
    "import time\n",
    "import requests\n",
    "#import lxml.html as lh\n",
    "from lxml import html\n",
    "import csv"
   ]
  },
  {
   "source": [
    "# yfinance not working"
   ],
   "cell_type": "markdown",
   "metadata": {}
  },
  {
   "cell_type": "code",
   "execution_count": 105,
   "metadata": {},
   "outputs": [],
   "source": [
    "stock = \"A\""
   ]
  },
  {
   "cell_type": "code",
   "execution_count": 106,
   "metadata": {},
   "outputs": [],
   "source": [
    "ticker = yfin.Ticker(stock)"
   ]
  },
  {
   "cell_type": "code",
   "execution_count": 107,
   "metadata": {},
   "outputs": [
    {
     "output_type": "execute_result",
     "data": {
      "text/plain": [
       "     zip      sector  fullTimeEmployees  \\\n",
       "0  95051  Healthcare              16500   \n",
       "\n",
       "                                 longBusinessSummary         city  \\\n",
       "0  Agilent Technologies, Inc. provides applicatio...  Santa Clara   \n",
       "\n",
       "          phone state        country companyOfficers                 website  \\\n",
       "0  800 227 9770    CA  United States              []  http://www.agilent.com   \n",
       "\n",
       "   ...  fromCurrency fiveYearAvgDividendYield fiftyTwoWeekLow     bid  \\\n",
       "0  ...          None                     0.82           93.87  150.31   \n",
       "\n",
       "   tradeable  dividendYield  bidSize  dayHigh  regularMarketPrice  \\\n",
       "0      False         0.0052      800    150.5               150.3   \n",
       "\n",
       "                                logo_url  \n",
       "0  https://logo.clearbit.com/agilent.com  \n",
       "\n",
       "[1 rows x 152 columns]"
      ],
      "text/html": "<div>\n<style scoped>\n    .dataframe tbody tr th:only-of-type {\n        vertical-align: middle;\n    }\n\n    .dataframe tbody tr th {\n        vertical-align: top;\n    }\n\n    .dataframe thead th {\n        text-align: right;\n    }\n</style>\n<table border=\"1\" class=\"dataframe\">\n  <thead>\n    <tr style=\"text-align: right;\">\n      <th></th>\n      <th>zip</th>\n      <th>sector</th>\n      <th>fullTimeEmployees</th>\n      <th>longBusinessSummary</th>\n      <th>city</th>\n      <th>phone</th>\n      <th>state</th>\n      <th>country</th>\n      <th>companyOfficers</th>\n      <th>website</th>\n      <th>...</th>\n      <th>fromCurrency</th>\n      <th>fiveYearAvgDividendYield</th>\n      <th>fiftyTwoWeekLow</th>\n      <th>bid</th>\n      <th>tradeable</th>\n      <th>dividendYield</th>\n      <th>bidSize</th>\n      <th>dayHigh</th>\n      <th>regularMarketPrice</th>\n      <th>logo_url</th>\n    </tr>\n  </thead>\n  <tbody>\n    <tr>\n      <th>0</th>\n      <td>95051</td>\n      <td>Healthcare</td>\n      <td>16500</td>\n      <td>Agilent Technologies, Inc. provides applicatio...</td>\n      <td>Santa Clara</td>\n      <td>800 227 9770</td>\n      <td>CA</td>\n      <td>United States</td>\n      <td>[]</td>\n      <td>http://www.agilent.com</td>\n      <td>...</td>\n      <td>None</td>\n      <td>0.82</td>\n      <td>93.87</td>\n      <td>150.31</td>\n      <td>False</td>\n      <td>0.0052</td>\n      <td>800</td>\n      <td>150.5</td>\n      <td>150.3</td>\n      <td>https://logo.clearbit.com/agilent.com</td>\n    </tr>\n  </tbody>\n</table>\n<p>1 rows × 152 columns</p>\n</div>"
     },
     "metadata": {},
     "execution_count": 107
    }
   ],
   "source": [
    "info = ticker.info\n",
    "info_df = json_normalize(info)\n",
    "info_df"
   ]
  },
  {
   "cell_type": "code",
   "execution_count": 108,
   "metadata": {},
   "outputs": [
    {
     "output_type": "error",
     "ename": "JSONDecodeError",
     "evalue": "Expecting value: line 1 column 1 (char 0)",
     "traceback": [
      "\u001b[1;31m---------------------------------------------------------------------------\u001b[0m",
      "\u001b[1;31mJSONDecodeError\u001b[0m                           Traceback (most recent call last)",
      "\u001b[1;32m<ipython-input-108-4c3a63aaf4bb>\u001b[0m in \u001b[0;36m<module>\u001b[1;34m\u001b[0m\n\u001b[1;32m----> 1\u001b[1;33m \u001b[0mdividends\u001b[0m \u001b[1;33m=\u001b[0m \u001b[0mticker\u001b[0m\u001b[1;33m.\u001b[0m\u001b[0mdividends\u001b[0m\u001b[1;33m\u001b[0m\u001b[1;33m\u001b[0m\u001b[0m\n\u001b[0m\u001b[0;32m      2\u001b[0m \u001b[0mdividends\u001b[0m\u001b[1;33m\u001b[0m\u001b[1;33m\u001b[0m\u001b[0m\n",
      "\u001b[1;32m~\\Anaconda3\\envs\\stock-app\\lib\\site-packages\\yfinance\\ticker.py\u001b[0m in \u001b[0;36mdividends\u001b[1;34m(self)\u001b[0m\n\u001b[0;32m    124\u001b[0m \u001b[1;33m\u001b[0m\u001b[0m\n\u001b[0;32m    125\u001b[0m     \u001b[1;33m@\u001b[0m\u001b[0mproperty\u001b[0m\u001b[1;33m\u001b[0m\u001b[1;33m\u001b[0m\u001b[0m\n\u001b[1;32m--> 126\u001b[1;33m     \u001b[1;32mdef\u001b[0m \u001b[0mmutualfund_holders\u001b[0m\u001b[1;33m(\u001b[0m\u001b[0mself\u001b[0m\u001b[1;33m)\u001b[0m\u001b[1;33m:\u001b[0m\u001b[1;33m\u001b[0m\u001b[1;33m\u001b[0m\u001b[0m\n\u001b[0m\u001b[0;32m    127\u001b[0m         \u001b[1;32mreturn\u001b[0m \u001b[0mself\u001b[0m\u001b[1;33m.\u001b[0m\u001b[0mget_mutualfund_holders\u001b[0m\u001b[1;33m(\u001b[0m\u001b[1;33m)\u001b[0m\u001b[1;33m\u001b[0m\u001b[1;33m\u001b[0m\u001b[0m\n\u001b[0;32m    128\u001b[0m \u001b[1;33m\u001b[0m\u001b[0m\n",
      "\u001b[1;32m~\\Anaconda3\\envs\\stock-app\\lib\\site-packages\\yfinance\\base.py\u001b[0m in \u001b[0;36mget_dividends\u001b[1;34m(self, proxy)\u001b[0m\n\u001b[0;32m    535\u001b[0m     \u001b[1;32mdef\u001b[0m \u001b[0mget_balance_sheet\u001b[0m\u001b[1;33m(\u001b[0m\u001b[0mself\u001b[0m\u001b[1;33m,\u001b[0m \u001b[0mproxy\u001b[0m\u001b[1;33m=\u001b[0m\u001b[1;32mNone\u001b[0m\u001b[1;33m,\u001b[0m \u001b[0mas_dict\u001b[0m\u001b[1;33m=\u001b[0m\u001b[1;32mFalse\u001b[0m\u001b[1;33m,\u001b[0m \u001b[0mfreq\u001b[0m\u001b[1;33m=\u001b[0m\u001b[1;34m\"yearly\"\u001b[0m\u001b[1;33m)\u001b[0m\u001b[1;33m:\u001b[0m\u001b[1;33m\u001b[0m\u001b[1;33m\u001b[0m\u001b[0m\n\u001b[0;32m    536\u001b[0m         \u001b[1;32mreturn\u001b[0m \u001b[0mself\u001b[0m\u001b[1;33m.\u001b[0m\u001b[0mget_balancesheet\u001b[0m\u001b[1;33m(\u001b[0m\u001b[0mproxy\u001b[0m\u001b[1;33m,\u001b[0m \u001b[0mas_dict\u001b[0m\u001b[1;33m,\u001b[0m \u001b[0mfreq\u001b[0m\u001b[1;33m)\u001b[0m\u001b[1;33m\u001b[0m\u001b[1;33m\u001b[0m\u001b[0m\n\u001b[1;32m--> 537\u001b[1;33m \u001b[1;33m\u001b[0m\u001b[0m\n\u001b[0m\u001b[0;32m    538\u001b[0m     \u001b[1;32mdef\u001b[0m \u001b[0mget_cashflow\u001b[0m\u001b[1;33m(\u001b[0m\u001b[0mself\u001b[0m\u001b[1;33m,\u001b[0m \u001b[0mproxy\u001b[0m\u001b[1;33m=\u001b[0m\u001b[1;32mNone\u001b[0m\u001b[1;33m,\u001b[0m \u001b[0mas_dict\u001b[0m\u001b[1;33m=\u001b[0m\u001b[1;32mFalse\u001b[0m\u001b[1;33m,\u001b[0m \u001b[0mfreq\u001b[0m\u001b[1;33m=\u001b[0m\u001b[1;34m\"yearly\"\u001b[0m\u001b[1;33m)\u001b[0m\u001b[1;33m:\u001b[0m\u001b[1;33m\u001b[0m\u001b[1;33m\u001b[0m\u001b[0m\n\u001b[0;32m    539\u001b[0m         \u001b[0mself\u001b[0m\u001b[1;33m.\u001b[0m\u001b[0m_get_fundamentals\u001b[0m\u001b[1;33m(\u001b[0m\u001b[0mproxy\u001b[0m\u001b[1;33m=\u001b[0m\u001b[0mproxy\u001b[0m\u001b[1;33m)\u001b[0m\u001b[1;33m\u001b[0m\u001b[1;33m\u001b[0m\u001b[0m\n",
      "\u001b[1;32m~\\Anaconda3\\envs\\stock-app\\lib\\site-packages\\yfinance\\base.py\u001b[0m in \u001b[0;36mhistory\u001b[1;34m(self, period, interval, start, end, prepost, actions, auto_adjust, back_adjust, proxy, rounding, tz, **kwargs)\u001b[0m\n\u001b[0;32m    155\u001b[0m             \u001b[0mproxies\u001b[0m\u001b[1;33m=\u001b[0m\u001b[0mproxy\u001b[0m\u001b[1;33m,\u001b[0m\u001b[1;33m\u001b[0m\u001b[1;33m\u001b[0m\u001b[0m\n\u001b[0;32m    156\u001b[0m             \u001b[0mheaders\u001b[0m\u001b[1;33m=\u001b[0m\u001b[0mutils\u001b[0m\u001b[1;33m.\u001b[0m\u001b[0muser_agent_headers\u001b[0m\u001b[1;33m\u001b[0m\u001b[1;33m\u001b[0m\u001b[0m\n\u001b[1;32m--> 157\u001b[1;33m         )\n\u001b[0m\u001b[0;32m    158\u001b[0m         \u001b[1;32mif\u001b[0m \u001b[1;34m\"Will be right back\"\u001b[0m \u001b[1;32min\u001b[0m \u001b[0mdata\u001b[0m\u001b[1;33m.\u001b[0m\u001b[0mtext\u001b[0m\u001b[1;33m:\u001b[0m\u001b[1;33m\u001b[0m\u001b[1;33m\u001b[0m\u001b[0m\n\u001b[0;32m    159\u001b[0m             raise RuntimeError(\"*** YAHOO! FINANCE IS CURRENTLY DOWN! ***\\n\"\n",
      "\u001b[1;32m~\\Anaconda3\\envs\\stock-app\\lib\\site-packages\\requests\\models.py\u001b[0m in \u001b[0;36mjson\u001b[1;34m(self, **kwargs)\u001b[0m\n\u001b[0;32m    898\u001b[0m                     \u001b[1;31m# used.\u001b[0m\u001b[1;33m\u001b[0m\u001b[1;33m\u001b[0m\u001b[1;33m\u001b[0m\u001b[0m\n\u001b[0;32m    899\u001b[0m                     \u001b[1;32mpass\u001b[0m\u001b[1;33m\u001b[0m\u001b[1;33m\u001b[0m\u001b[0m\n\u001b[1;32m--> 900\u001b[1;33m         \u001b[1;32mreturn\u001b[0m \u001b[0mcomplexjson\u001b[0m\u001b[1;33m.\u001b[0m\u001b[0mloads\u001b[0m\u001b[1;33m(\u001b[0m\u001b[0mself\u001b[0m\u001b[1;33m.\u001b[0m\u001b[0mtext\u001b[0m\u001b[1;33m,\u001b[0m \u001b[1;33m**\u001b[0m\u001b[0mkwargs\u001b[0m\u001b[1;33m)\u001b[0m\u001b[1;33m\u001b[0m\u001b[1;33m\u001b[0m\u001b[0m\n\u001b[0m\u001b[0;32m    901\u001b[0m \u001b[1;33m\u001b[0m\u001b[0m\n\u001b[0;32m    902\u001b[0m     \u001b[1;33m@\u001b[0m\u001b[0mproperty\u001b[0m\u001b[1;33m\u001b[0m\u001b[1;33m\u001b[0m\u001b[0m\n",
      "\u001b[1;32m~\\Anaconda3\\envs\\stock-app\\lib\\json\\__init__.py\u001b[0m in \u001b[0;36mloads\u001b[1;34m(s, cls, object_hook, parse_float, parse_int, parse_constant, object_pairs_hook, **kw)\u001b[0m\n\u001b[0;32m    355\u001b[0m             \u001b[0mparse_int\u001b[0m \u001b[1;32mis\u001b[0m \u001b[1;32mNone\u001b[0m \u001b[1;32mand\u001b[0m \u001b[0mparse_float\u001b[0m \u001b[1;32mis\u001b[0m \u001b[1;32mNone\u001b[0m \u001b[1;32mand\u001b[0m\u001b[1;33m\u001b[0m\u001b[1;33m\u001b[0m\u001b[0m\n\u001b[0;32m    356\u001b[0m             parse_constant is None and object_pairs_hook is None and not kw):\n\u001b[1;32m--> 357\u001b[1;33m         \u001b[1;32mreturn\u001b[0m \u001b[0m_default_decoder\u001b[0m\u001b[1;33m.\u001b[0m\u001b[0mdecode\u001b[0m\u001b[1;33m(\u001b[0m\u001b[0ms\u001b[0m\u001b[1;33m)\u001b[0m\u001b[1;33m\u001b[0m\u001b[1;33m\u001b[0m\u001b[0m\n\u001b[0m\u001b[0;32m    358\u001b[0m     \u001b[1;32mif\u001b[0m \u001b[0mcls\u001b[0m \u001b[1;32mis\u001b[0m \u001b[1;32mNone\u001b[0m\u001b[1;33m:\u001b[0m\u001b[1;33m\u001b[0m\u001b[1;33m\u001b[0m\u001b[0m\n\u001b[0;32m    359\u001b[0m         \u001b[0mcls\u001b[0m \u001b[1;33m=\u001b[0m \u001b[0mJSONDecoder\u001b[0m\u001b[1;33m\u001b[0m\u001b[1;33m\u001b[0m\u001b[0m\n",
      "\u001b[1;32m~\\Anaconda3\\envs\\stock-app\\lib\\json\\decoder.py\u001b[0m in \u001b[0;36mdecode\u001b[1;34m(self, s, _w)\u001b[0m\n\u001b[0;32m    335\u001b[0m \u001b[1;33m\u001b[0m\u001b[0m\n\u001b[0;32m    336\u001b[0m         \"\"\"\n\u001b[1;32m--> 337\u001b[1;33m         \u001b[0mobj\u001b[0m\u001b[1;33m,\u001b[0m \u001b[0mend\u001b[0m \u001b[1;33m=\u001b[0m \u001b[0mself\u001b[0m\u001b[1;33m.\u001b[0m\u001b[0mraw_decode\u001b[0m\u001b[1;33m(\u001b[0m\u001b[0ms\u001b[0m\u001b[1;33m,\u001b[0m \u001b[0midx\u001b[0m\u001b[1;33m=\u001b[0m\u001b[0m_w\u001b[0m\u001b[1;33m(\u001b[0m\u001b[0ms\u001b[0m\u001b[1;33m,\u001b[0m \u001b[1;36m0\u001b[0m\u001b[1;33m)\u001b[0m\u001b[1;33m.\u001b[0m\u001b[0mend\u001b[0m\u001b[1;33m(\u001b[0m\u001b[1;33m)\u001b[0m\u001b[1;33m)\u001b[0m\u001b[1;33m\u001b[0m\u001b[1;33m\u001b[0m\u001b[0m\n\u001b[0m\u001b[0;32m    338\u001b[0m         \u001b[0mend\u001b[0m \u001b[1;33m=\u001b[0m \u001b[0m_w\u001b[0m\u001b[1;33m(\u001b[0m\u001b[0ms\u001b[0m\u001b[1;33m,\u001b[0m \u001b[0mend\u001b[0m\u001b[1;33m)\u001b[0m\u001b[1;33m.\u001b[0m\u001b[0mend\u001b[0m\u001b[1;33m(\u001b[0m\u001b[1;33m)\u001b[0m\u001b[1;33m\u001b[0m\u001b[1;33m\u001b[0m\u001b[0m\n\u001b[0;32m    339\u001b[0m         \u001b[1;32mif\u001b[0m \u001b[0mend\u001b[0m \u001b[1;33m!=\u001b[0m \u001b[0mlen\u001b[0m\u001b[1;33m(\u001b[0m\u001b[0ms\u001b[0m\u001b[1;33m)\u001b[0m\u001b[1;33m:\u001b[0m\u001b[1;33m\u001b[0m\u001b[1;33m\u001b[0m\u001b[0m\n",
      "\u001b[1;32m~\\Anaconda3\\envs\\stock-app\\lib\\json\\decoder.py\u001b[0m in \u001b[0;36mraw_decode\u001b[1;34m(self, s, idx)\u001b[0m\n\u001b[0;32m    353\u001b[0m             \u001b[0mobj\u001b[0m\u001b[1;33m,\u001b[0m \u001b[0mend\u001b[0m \u001b[1;33m=\u001b[0m \u001b[0mself\u001b[0m\u001b[1;33m.\u001b[0m\u001b[0mscan_once\u001b[0m\u001b[1;33m(\u001b[0m\u001b[0ms\u001b[0m\u001b[1;33m,\u001b[0m \u001b[0midx\u001b[0m\u001b[1;33m)\u001b[0m\u001b[1;33m\u001b[0m\u001b[1;33m\u001b[0m\u001b[0m\n\u001b[0;32m    354\u001b[0m         \u001b[1;32mexcept\u001b[0m \u001b[0mStopIteration\u001b[0m \u001b[1;32mas\u001b[0m \u001b[0merr\u001b[0m\u001b[1;33m:\u001b[0m\u001b[1;33m\u001b[0m\u001b[1;33m\u001b[0m\u001b[0m\n\u001b[1;32m--> 355\u001b[1;33m             \u001b[1;32mraise\u001b[0m \u001b[0mJSONDecodeError\u001b[0m\u001b[1;33m(\u001b[0m\u001b[1;34m\"Expecting value\"\u001b[0m\u001b[1;33m,\u001b[0m \u001b[0ms\u001b[0m\u001b[1;33m,\u001b[0m \u001b[0merr\u001b[0m\u001b[1;33m.\u001b[0m\u001b[0mvalue\u001b[0m\u001b[1;33m)\u001b[0m \u001b[1;32mfrom\u001b[0m \u001b[1;32mNone\u001b[0m\u001b[1;33m\u001b[0m\u001b[1;33m\u001b[0m\u001b[0m\n\u001b[0m\u001b[0;32m    356\u001b[0m         \u001b[1;32mreturn\u001b[0m \u001b[0mobj\u001b[0m\u001b[1;33m,\u001b[0m \u001b[0mend\u001b[0m\u001b[1;33m\u001b[0m\u001b[1;33m\u001b[0m\u001b[0m\n",
      "\u001b[1;31mJSONDecodeError\u001b[0m: Expecting value: line 1 column 1 (char 0)"
     ]
    }
   ],
   "source": [
    "dividends = ticker.dividends\n",
    "dividends"
   ]
  },
  {
   "cell_type": "code",
   "execution_count": 98,
   "metadata": {},
   "outputs": [
    {
     "output_type": "execute_result",
     "data": {
      "text/plain": [
       "                                Value\n",
       "Earnings Date     2021-08-17 00:00:00\n",
       "Earnings Average                 0.99\n",
       "Earnings Low                     0.97\n",
       "Earnings High                    1.03\n",
       "Revenue Average            1539440000\n",
       "Revenue Low                1519000000\n",
       "Revenue High               1575600000"
      ],
      "text/html": "<div>\n<style scoped>\n    .dataframe tbody tr th:only-of-type {\n        vertical-align: middle;\n    }\n\n    .dataframe tbody tr th {\n        vertical-align: top;\n    }\n\n    .dataframe thead th {\n        text-align: right;\n    }\n</style>\n<table border=\"1\" class=\"dataframe\">\n  <thead>\n    <tr style=\"text-align: right;\">\n      <th></th>\n      <th>Value</th>\n    </tr>\n  </thead>\n  <tbody>\n    <tr>\n      <th>Earnings Date</th>\n      <td>2021-08-17 00:00:00</td>\n    </tr>\n    <tr>\n      <th>Earnings Average</th>\n      <td>0.99</td>\n    </tr>\n    <tr>\n      <th>Earnings Low</th>\n      <td>0.97</td>\n    </tr>\n    <tr>\n      <th>Earnings High</th>\n      <td>1.03</td>\n    </tr>\n    <tr>\n      <th>Revenue Average</th>\n      <td>1539440000</td>\n    </tr>\n    <tr>\n      <th>Revenue Low</th>\n      <td>1519000000</td>\n    </tr>\n    <tr>\n      <th>Revenue High</th>\n      <td>1575600000</td>\n    </tr>\n  </tbody>\n</table>\n</div>"
     },
     "metadata": {},
     "execution_count": 98
    }
   ],
   "source": [
    "calendar = ticker.calendar\n",
    "calendar"
   ]
  },
  {
   "cell_type": "code",
   "execution_count": 99,
   "metadata": {},
   "outputs": [
    {
     "output_type": "execute_result",
     "data": {
      "text/plain": [
       "            Revenue   Earnings\n",
       "Quarter                       \n",
       "3Q2020   1261000000  199000000\n",
       "4Q2020   1483000000  222000000\n",
       "1Q2021   1548000000  288000000\n",
       "2Q2021   1525000000  216000000"
      ],
      "text/html": "<div>\n<style scoped>\n    .dataframe tbody tr th:only-of-type {\n        vertical-align: middle;\n    }\n\n    .dataframe tbody tr th {\n        vertical-align: top;\n    }\n\n    .dataframe thead th {\n        text-align: right;\n    }\n</style>\n<table border=\"1\" class=\"dataframe\">\n  <thead>\n    <tr style=\"text-align: right;\">\n      <th></th>\n      <th>Revenue</th>\n      <th>Earnings</th>\n    </tr>\n    <tr>\n      <th>Quarter</th>\n      <th></th>\n      <th></th>\n    </tr>\n  </thead>\n  <tbody>\n    <tr>\n      <th>3Q2020</th>\n      <td>1261000000</td>\n      <td>199000000</td>\n    </tr>\n    <tr>\n      <th>4Q2020</th>\n      <td>1483000000</td>\n      <td>222000000</td>\n    </tr>\n    <tr>\n      <th>1Q2021</th>\n      <td>1548000000</td>\n      <td>288000000</td>\n    </tr>\n    <tr>\n      <th>2Q2021</th>\n      <td>1525000000</td>\n      <td>216000000</td>\n    </tr>\n  </tbody>\n</table>\n</div>"
     },
     "metadata": {},
     "execution_count": 99
    }
   ],
   "source": [
    "quarterly_earnings = ticker.quarterly_earnings\n",
    "quarterly_earnings"
   ]
  },
  {
   "cell_type": "code",
   "execution_count": 109,
   "metadata": {},
   "outputs": [],
   "source": [
    "period = \"3mo\""
   ]
  },
  {
   "cell_type": "code",
   "execution_count": 110,
   "metadata": {},
   "outputs": [
    {
     "output_type": "error",
     "ename": "JSONDecodeError",
     "evalue": "Expecting value: line 1 column 1 (char 0)",
     "traceback": [
      "\u001b[1;31m---------------------------------------------------------------------------\u001b[0m",
      "\u001b[1;31mJSONDecodeError\u001b[0m                           Traceback (most recent call last)",
      "\u001b[1;32m<ipython-input-110-aa47291f328f>\u001b[0m in \u001b[0;36m<module>\u001b[1;34m\u001b[0m\n\u001b[1;32m----> 1\u001b[1;33m \u001b[0mprices\u001b[0m \u001b[1;33m=\u001b[0m \u001b[0mticker\u001b[0m\u001b[1;33m.\u001b[0m\u001b[0mhistory\u001b[0m\u001b[1;33m(\u001b[0m\u001b[0mperiod\u001b[0m \u001b[1;33m=\u001b[0m \u001b[0mperiod\u001b[0m\u001b[1;33m,\u001b[0m \u001b[0mthreads\u001b[0m\u001b[1;33m=\u001b[0m \u001b[1;32mFalse\u001b[0m\u001b[1;33m)\u001b[0m\u001b[1;33m\u001b[0m\u001b[1;33m\u001b[0m\u001b[0m\n\u001b[0m\u001b[0;32m      2\u001b[0m \u001b[0mprices\u001b[0m\u001b[1;33m\u001b[0m\u001b[1;33m\u001b[0m\u001b[0m\n",
      "\u001b[1;32m~\\Anaconda3\\envs\\stock-app\\lib\\site-packages\\yfinance\\base.py\u001b[0m in \u001b[0;36mhistory\u001b[1;34m(self, period, interval, start, end, prepost, actions, auto_adjust, back_adjust, proxy, rounding, tz, **kwargs)\u001b[0m\n\u001b[0;32m    155\u001b[0m             \u001b[0mproxies\u001b[0m\u001b[1;33m=\u001b[0m\u001b[0mproxy\u001b[0m\u001b[1;33m,\u001b[0m\u001b[1;33m\u001b[0m\u001b[1;33m\u001b[0m\u001b[0m\n\u001b[0;32m    156\u001b[0m             \u001b[0mheaders\u001b[0m\u001b[1;33m=\u001b[0m\u001b[0mutils\u001b[0m\u001b[1;33m.\u001b[0m\u001b[0muser_agent_headers\u001b[0m\u001b[1;33m\u001b[0m\u001b[1;33m\u001b[0m\u001b[0m\n\u001b[1;32m--> 157\u001b[1;33m         )\n\u001b[0m\u001b[0;32m    158\u001b[0m         \u001b[1;32mif\u001b[0m \u001b[1;34m\"Will be right back\"\u001b[0m \u001b[1;32min\u001b[0m \u001b[0mdata\u001b[0m\u001b[1;33m.\u001b[0m\u001b[0mtext\u001b[0m\u001b[1;33m:\u001b[0m\u001b[1;33m\u001b[0m\u001b[1;33m\u001b[0m\u001b[0m\n\u001b[0;32m    159\u001b[0m             raise RuntimeError(\"*** YAHOO! FINANCE IS CURRENTLY DOWN! ***\\n\"\n",
      "\u001b[1;32m~\\Anaconda3\\envs\\stock-app\\lib\\site-packages\\requests\\models.py\u001b[0m in \u001b[0;36mjson\u001b[1;34m(self, **kwargs)\u001b[0m\n\u001b[0;32m    898\u001b[0m                     \u001b[1;31m# used.\u001b[0m\u001b[1;33m\u001b[0m\u001b[1;33m\u001b[0m\u001b[1;33m\u001b[0m\u001b[0m\n\u001b[0;32m    899\u001b[0m                     \u001b[1;32mpass\u001b[0m\u001b[1;33m\u001b[0m\u001b[1;33m\u001b[0m\u001b[0m\n\u001b[1;32m--> 900\u001b[1;33m         \u001b[1;32mreturn\u001b[0m \u001b[0mcomplexjson\u001b[0m\u001b[1;33m.\u001b[0m\u001b[0mloads\u001b[0m\u001b[1;33m(\u001b[0m\u001b[0mself\u001b[0m\u001b[1;33m.\u001b[0m\u001b[0mtext\u001b[0m\u001b[1;33m,\u001b[0m \u001b[1;33m**\u001b[0m\u001b[0mkwargs\u001b[0m\u001b[1;33m)\u001b[0m\u001b[1;33m\u001b[0m\u001b[1;33m\u001b[0m\u001b[0m\n\u001b[0m\u001b[0;32m    901\u001b[0m \u001b[1;33m\u001b[0m\u001b[0m\n\u001b[0;32m    902\u001b[0m     \u001b[1;33m@\u001b[0m\u001b[0mproperty\u001b[0m\u001b[1;33m\u001b[0m\u001b[1;33m\u001b[0m\u001b[0m\n",
      "\u001b[1;32m~\\Anaconda3\\envs\\stock-app\\lib\\json\\__init__.py\u001b[0m in \u001b[0;36mloads\u001b[1;34m(s, cls, object_hook, parse_float, parse_int, parse_constant, object_pairs_hook, **kw)\u001b[0m\n\u001b[0;32m    355\u001b[0m             \u001b[0mparse_int\u001b[0m \u001b[1;32mis\u001b[0m \u001b[1;32mNone\u001b[0m \u001b[1;32mand\u001b[0m \u001b[0mparse_float\u001b[0m \u001b[1;32mis\u001b[0m \u001b[1;32mNone\u001b[0m \u001b[1;32mand\u001b[0m\u001b[1;33m\u001b[0m\u001b[1;33m\u001b[0m\u001b[0m\n\u001b[0;32m    356\u001b[0m             parse_constant is None and object_pairs_hook is None and not kw):\n\u001b[1;32m--> 357\u001b[1;33m         \u001b[1;32mreturn\u001b[0m \u001b[0m_default_decoder\u001b[0m\u001b[1;33m.\u001b[0m\u001b[0mdecode\u001b[0m\u001b[1;33m(\u001b[0m\u001b[0ms\u001b[0m\u001b[1;33m)\u001b[0m\u001b[1;33m\u001b[0m\u001b[1;33m\u001b[0m\u001b[0m\n\u001b[0m\u001b[0;32m    358\u001b[0m     \u001b[1;32mif\u001b[0m \u001b[0mcls\u001b[0m \u001b[1;32mis\u001b[0m \u001b[1;32mNone\u001b[0m\u001b[1;33m:\u001b[0m\u001b[1;33m\u001b[0m\u001b[1;33m\u001b[0m\u001b[0m\n\u001b[0;32m    359\u001b[0m         \u001b[0mcls\u001b[0m \u001b[1;33m=\u001b[0m \u001b[0mJSONDecoder\u001b[0m\u001b[1;33m\u001b[0m\u001b[1;33m\u001b[0m\u001b[0m\n",
      "\u001b[1;32m~\\Anaconda3\\envs\\stock-app\\lib\\json\\decoder.py\u001b[0m in \u001b[0;36mdecode\u001b[1;34m(self, s, _w)\u001b[0m\n\u001b[0;32m    335\u001b[0m \u001b[1;33m\u001b[0m\u001b[0m\n\u001b[0;32m    336\u001b[0m         \"\"\"\n\u001b[1;32m--> 337\u001b[1;33m         \u001b[0mobj\u001b[0m\u001b[1;33m,\u001b[0m \u001b[0mend\u001b[0m \u001b[1;33m=\u001b[0m \u001b[0mself\u001b[0m\u001b[1;33m.\u001b[0m\u001b[0mraw_decode\u001b[0m\u001b[1;33m(\u001b[0m\u001b[0ms\u001b[0m\u001b[1;33m,\u001b[0m \u001b[0midx\u001b[0m\u001b[1;33m=\u001b[0m\u001b[0m_w\u001b[0m\u001b[1;33m(\u001b[0m\u001b[0ms\u001b[0m\u001b[1;33m,\u001b[0m \u001b[1;36m0\u001b[0m\u001b[1;33m)\u001b[0m\u001b[1;33m.\u001b[0m\u001b[0mend\u001b[0m\u001b[1;33m(\u001b[0m\u001b[1;33m)\u001b[0m\u001b[1;33m)\u001b[0m\u001b[1;33m\u001b[0m\u001b[1;33m\u001b[0m\u001b[0m\n\u001b[0m\u001b[0;32m    338\u001b[0m         \u001b[0mend\u001b[0m \u001b[1;33m=\u001b[0m \u001b[0m_w\u001b[0m\u001b[1;33m(\u001b[0m\u001b[0ms\u001b[0m\u001b[1;33m,\u001b[0m \u001b[0mend\u001b[0m\u001b[1;33m)\u001b[0m\u001b[1;33m.\u001b[0m\u001b[0mend\u001b[0m\u001b[1;33m(\u001b[0m\u001b[1;33m)\u001b[0m\u001b[1;33m\u001b[0m\u001b[1;33m\u001b[0m\u001b[0m\n\u001b[0;32m    339\u001b[0m         \u001b[1;32mif\u001b[0m \u001b[0mend\u001b[0m \u001b[1;33m!=\u001b[0m \u001b[0mlen\u001b[0m\u001b[1;33m(\u001b[0m\u001b[0ms\u001b[0m\u001b[1;33m)\u001b[0m\u001b[1;33m:\u001b[0m\u001b[1;33m\u001b[0m\u001b[1;33m\u001b[0m\u001b[0m\n",
      "\u001b[1;32m~\\Anaconda3\\envs\\stock-app\\lib\\json\\decoder.py\u001b[0m in \u001b[0;36mraw_decode\u001b[1;34m(self, s, idx)\u001b[0m\n\u001b[0;32m    353\u001b[0m             \u001b[0mobj\u001b[0m\u001b[1;33m,\u001b[0m \u001b[0mend\u001b[0m \u001b[1;33m=\u001b[0m \u001b[0mself\u001b[0m\u001b[1;33m.\u001b[0m\u001b[0mscan_once\u001b[0m\u001b[1;33m(\u001b[0m\u001b[0ms\u001b[0m\u001b[1;33m,\u001b[0m \u001b[0midx\u001b[0m\u001b[1;33m)\u001b[0m\u001b[1;33m\u001b[0m\u001b[1;33m\u001b[0m\u001b[0m\n\u001b[0;32m    354\u001b[0m         \u001b[1;32mexcept\u001b[0m \u001b[0mStopIteration\u001b[0m \u001b[1;32mas\u001b[0m \u001b[0merr\u001b[0m\u001b[1;33m:\u001b[0m\u001b[1;33m\u001b[0m\u001b[1;33m\u001b[0m\u001b[0m\n\u001b[1;32m--> 355\u001b[1;33m             \u001b[1;32mraise\u001b[0m \u001b[0mJSONDecodeError\u001b[0m\u001b[1;33m(\u001b[0m\u001b[1;34m\"Expecting value\"\u001b[0m\u001b[1;33m,\u001b[0m \u001b[0ms\u001b[0m\u001b[1;33m,\u001b[0m \u001b[0merr\u001b[0m\u001b[1;33m.\u001b[0m\u001b[0mvalue\u001b[0m\u001b[1;33m)\u001b[0m \u001b[1;32mfrom\u001b[0m \u001b[1;32mNone\u001b[0m\u001b[1;33m\u001b[0m\u001b[1;33m\u001b[0m\u001b[0m\n\u001b[0m\u001b[0;32m    356\u001b[0m         \u001b[1;32mreturn\u001b[0m \u001b[0mobj\u001b[0m\u001b[1;33m,\u001b[0m \u001b[0mend\u001b[0m\u001b[1;33m\u001b[0m\u001b[1;33m\u001b[0m\u001b[0m\n",
      "\u001b[1;31mJSONDecodeError\u001b[0m: Expecting value: line 1 column 1 (char 0)"
     ]
    }
   ],
   "source": [
    "prices = ticker.history(period = period)\n",
    "prices"
   ]
  },
  {
   "cell_type": "code",
   "execution_count": 92,
   "metadata": {},
   "outputs": [
    {
     "output_type": "error",
     "ename": "JSONDecodeError",
     "evalue": "Expecting value: line 1 column 1 (char 0)",
     "traceback": [
      "\u001b[1;31m---------------------------------------------------------------------------\u001b[0m",
      "\u001b[1;31mJSONDecodeError\u001b[0m                           Traceback (most recent call last)",
      "\u001b[1;32m<ipython-input-92-5128ede4dd45>\u001b[0m in \u001b[0;36m<module>\u001b[1;34m\u001b[0m\n\u001b[0;32m      1\u001b[0m \u001b[0mmsft\u001b[0m \u001b[1;33m=\u001b[0m \u001b[0myfin\u001b[0m\u001b[1;33m.\u001b[0m\u001b[0mTicker\u001b[0m\u001b[1;33m(\u001b[0m\u001b[1;34m\"MSFT\"\u001b[0m\u001b[1;33m)\u001b[0m\u001b[1;33m\u001b[0m\u001b[1;33m\u001b[0m\u001b[0m\n\u001b[1;32m----> 2\u001b[1;33m \u001b[0mmsft\u001b[0m\u001b[1;33m.\u001b[0m\u001b[0mhistory\u001b[0m\u001b[1;33m(\u001b[0m\u001b[0mperiod\u001b[0m\u001b[1;33m=\u001b[0m\u001b[1;34m\"max\"\u001b[0m\u001b[1;33m)\u001b[0m\u001b[1;33m\u001b[0m\u001b[1;33m\u001b[0m\u001b[0m\n\u001b[0m",
      "\u001b[1;32m~\\Anaconda3\\envs\\stock-app\\lib\\site-packages\\yfinance\\base.py\u001b[0m in \u001b[0;36mhistory\u001b[1;34m(self, period, interval, start, end, prepost, actions, auto_adjust, back_adjust, proxy, rounding, tz, **kwargs)\u001b[0m\n\u001b[0;32m    155\u001b[0m                                \u001b[1;34m\"Our engineers are working quickly to resolve \"\u001b[0m\u001b[1;33m\u001b[0m\u001b[1;33m\u001b[0m\u001b[0m\n\u001b[0;32m    156\u001b[0m                                \"the issue. Thank you for your patience.\")\n\u001b[1;32m--> 157\u001b[1;33m         \u001b[0mdata\u001b[0m \u001b[1;33m=\u001b[0m \u001b[0mdata\u001b[0m\u001b[1;33m.\u001b[0m\u001b[0mjson\u001b[0m\u001b[1;33m(\u001b[0m\u001b[1;33m)\u001b[0m\u001b[1;33m\u001b[0m\u001b[1;33m\u001b[0m\u001b[0m\n\u001b[0m\u001b[0;32m    158\u001b[0m \u001b[1;33m\u001b[0m\u001b[0m\n\u001b[0;32m    159\u001b[0m         \u001b[1;31m# Work with errors\u001b[0m\u001b[1;33m\u001b[0m\u001b[1;33m\u001b[0m\u001b[1;33m\u001b[0m\u001b[0m\n",
      "\u001b[1;32m~\\Anaconda3\\envs\\stock-app\\lib\\site-packages\\requests\\models.py\u001b[0m in \u001b[0;36mjson\u001b[1;34m(self, **kwargs)\u001b[0m\n\u001b[0;32m    898\u001b[0m                     \u001b[1;31m# used.\u001b[0m\u001b[1;33m\u001b[0m\u001b[1;33m\u001b[0m\u001b[1;33m\u001b[0m\u001b[0m\n\u001b[0;32m    899\u001b[0m                     \u001b[1;32mpass\u001b[0m\u001b[1;33m\u001b[0m\u001b[1;33m\u001b[0m\u001b[0m\n\u001b[1;32m--> 900\u001b[1;33m         \u001b[1;32mreturn\u001b[0m \u001b[0mcomplexjson\u001b[0m\u001b[1;33m.\u001b[0m\u001b[0mloads\u001b[0m\u001b[1;33m(\u001b[0m\u001b[0mself\u001b[0m\u001b[1;33m.\u001b[0m\u001b[0mtext\u001b[0m\u001b[1;33m,\u001b[0m \u001b[1;33m**\u001b[0m\u001b[0mkwargs\u001b[0m\u001b[1;33m)\u001b[0m\u001b[1;33m\u001b[0m\u001b[1;33m\u001b[0m\u001b[0m\n\u001b[0m\u001b[0;32m    901\u001b[0m \u001b[1;33m\u001b[0m\u001b[0m\n\u001b[0;32m    902\u001b[0m     \u001b[1;33m@\u001b[0m\u001b[0mproperty\u001b[0m\u001b[1;33m\u001b[0m\u001b[1;33m\u001b[0m\u001b[0m\n",
      "\u001b[1;32m~\\Anaconda3\\envs\\stock-app\\lib\\json\\__init__.py\u001b[0m in \u001b[0;36mloads\u001b[1;34m(s, cls, object_hook, parse_float, parse_int, parse_constant, object_pairs_hook, **kw)\u001b[0m\n\u001b[0;32m    355\u001b[0m             \u001b[0mparse_int\u001b[0m \u001b[1;32mis\u001b[0m \u001b[1;32mNone\u001b[0m \u001b[1;32mand\u001b[0m \u001b[0mparse_float\u001b[0m \u001b[1;32mis\u001b[0m \u001b[1;32mNone\u001b[0m \u001b[1;32mand\u001b[0m\u001b[1;33m\u001b[0m\u001b[1;33m\u001b[0m\u001b[0m\n\u001b[0;32m    356\u001b[0m             parse_constant is None and object_pairs_hook is None and not kw):\n\u001b[1;32m--> 357\u001b[1;33m         \u001b[1;32mreturn\u001b[0m \u001b[0m_default_decoder\u001b[0m\u001b[1;33m.\u001b[0m\u001b[0mdecode\u001b[0m\u001b[1;33m(\u001b[0m\u001b[0ms\u001b[0m\u001b[1;33m)\u001b[0m\u001b[1;33m\u001b[0m\u001b[1;33m\u001b[0m\u001b[0m\n\u001b[0m\u001b[0;32m    358\u001b[0m     \u001b[1;32mif\u001b[0m \u001b[0mcls\u001b[0m \u001b[1;32mis\u001b[0m \u001b[1;32mNone\u001b[0m\u001b[1;33m:\u001b[0m\u001b[1;33m\u001b[0m\u001b[1;33m\u001b[0m\u001b[0m\n\u001b[0;32m    359\u001b[0m         \u001b[0mcls\u001b[0m \u001b[1;33m=\u001b[0m \u001b[0mJSONDecoder\u001b[0m\u001b[1;33m\u001b[0m\u001b[1;33m\u001b[0m\u001b[0m\n",
      "\u001b[1;32m~\\Anaconda3\\envs\\stock-app\\lib\\json\\decoder.py\u001b[0m in \u001b[0;36mdecode\u001b[1;34m(self, s, _w)\u001b[0m\n\u001b[0;32m    335\u001b[0m \u001b[1;33m\u001b[0m\u001b[0m\n\u001b[0;32m    336\u001b[0m         \"\"\"\n\u001b[1;32m--> 337\u001b[1;33m         \u001b[0mobj\u001b[0m\u001b[1;33m,\u001b[0m \u001b[0mend\u001b[0m \u001b[1;33m=\u001b[0m \u001b[0mself\u001b[0m\u001b[1;33m.\u001b[0m\u001b[0mraw_decode\u001b[0m\u001b[1;33m(\u001b[0m\u001b[0ms\u001b[0m\u001b[1;33m,\u001b[0m \u001b[0midx\u001b[0m\u001b[1;33m=\u001b[0m\u001b[0m_w\u001b[0m\u001b[1;33m(\u001b[0m\u001b[0ms\u001b[0m\u001b[1;33m,\u001b[0m \u001b[1;36m0\u001b[0m\u001b[1;33m)\u001b[0m\u001b[1;33m.\u001b[0m\u001b[0mend\u001b[0m\u001b[1;33m(\u001b[0m\u001b[1;33m)\u001b[0m\u001b[1;33m)\u001b[0m\u001b[1;33m\u001b[0m\u001b[1;33m\u001b[0m\u001b[0m\n\u001b[0m\u001b[0;32m    338\u001b[0m         \u001b[0mend\u001b[0m \u001b[1;33m=\u001b[0m \u001b[0m_w\u001b[0m\u001b[1;33m(\u001b[0m\u001b[0ms\u001b[0m\u001b[1;33m,\u001b[0m \u001b[0mend\u001b[0m\u001b[1;33m)\u001b[0m\u001b[1;33m.\u001b[0m\u001b[0mend\u001b[0m\u001b[1;33m(\u001b[0m\u001b[1;33m)\u001b[0m\u001b[1;33m\u001b[0m\u001b[1;33m\u001b[0m\u001b[0m\n\u001b[0;32m    339\u001b[0m         \u001b[1;32mif\u001b[0m \u001b[0mend\u001b[0m \u001b[1;33m!=\u001b[0m \u001b[0mlen\u001b[0m\u001b[1;33m(\u001b[0m\u001b[0ms\u001b[0m\u001b[1;33m)\u001b[0m\u001b[1;33m:\u001b[0m\u001b[1;33m\u001b[0m\u001b[1;33m\u001b[0m\u001b[0m\n",
      "\u001b[1;32m~\\Anaconda3\\envs\\stock-app\\lib\\json\\decoder.py\u001b[0m in \u001b[0;36mraw_decode\u001b[1;34m(self, s, idx)\u001b[0m\n\u001b[0;32m    353\u001b[0m             \u001b[0mobj\u001b[0m\u001b[1;33m,\u001b[0m \u001b[0mend\u001b[0m \u001b[1;33m=\u001b[0m \u001b[0mself\u001b[0m\u001b[1;33m.\u001b[0m\u001b[0mscan_once\u001b[0m\u001b[1;33m(\u001b[0m\u001b[0ms\u001b[0m\u001b[1;33m,\u001b[0m \u001b[0midx\u001b[0m\u001b[1;33m)\u001b[0m\u001b[1;33m\u001b[0m\u001b[1;33m\u001b[0m\u001b[0m\n\u001b[0;32m    354\u001b[0m         \u001b[1;32mexcept\u001b[0m \u001b[0mStopIteration\u001b[0m \u001b[1;32mas\u001b[0m \u001b[0merr\u001b[0m\u001b[1;33m:\u001b[0m\u001b[1;33m\u001b[0m\u001b[1;33m\u001b[0m\u001b[0m\n\u001b[1;32m--> 355\u001b[1;33m             \u001b[1;32mraise\u001b[0m \u001b[0mJSONDecodeError\u001b[0m\u001b[1;33m(\u001b[0m\u001b[1;34m\"Expecting value\"\u001b[0m\u001b[1;33m,\u001b[0m \u001b[0ms\u001b[0m\u001b[1;33m,\u001b[0m \u001b[0merr\u001b[0m\u001b[1;33m.\u001b[0m\u001b[0mvalue\u001b[0m\u001b[1;33m)\u001b[0m \u001b[1;32mfrom\u001b[0m \u001b[1;32mNone\u001b[0m\u001b[1;33m\u001b[0m\u001b[1;33m\u001b[0m\u001b[0m\n\u001b[0m\u001b[0;32m    356\u001b[0m         \u001b[1;32mreturn\u001b[0m \u001b[0mobj\u001b[0m\u001b[1;33m,\u001b[0m \u001b[0mend\u001b[0m\u001b[1;33m\u001b[0m\u001b[1;33m\u001b[0m\u001b[0m\n",
      "\u001b[1;31mJSONDecodeError\u001b[0m: Expecting value: line 1 column 1 (char 0)"
     ]
    }
   ],
   "source": [
    "msft = yfin.Ticker(\"MSFT\")\n",
    "msft.history(period=\"max\")"
   ]
  },
  {
   "cell_type": "code",
   "execution_count": 10,
   "metadata": {},
   "outputs": [
    {
     "output_type": "execute_result",
     "data": {
      "text/plain": [
       "                                Firm    To Grade From Grade Action\n",
       "Date                                                              \n",
       "2012-02-16 06:01:00    Deutsche Bank         Buy              main\n",
       "2012-03-06 09:28:00   Morgan Stanley  Overweight              init\n",
       "2012-04-19 08:35:00  Stifel Nicolaus         Buy              main\n",
       "2012-05-15 06:14:00   Morgan Stanley  Overweight              main\n",
       "2012-05-15 08:07:00  Stifel Nicolaus         Buy              main\n",
       "...                              ...         ...        ...    ...\n",
       "2021-05-26 10:10:42          Keybanc  Overweight              main\n",
       "2021-05-26 10:20:35      SVB Leerink  Outperform              main\n",
       "2021-05-26 12:08:05      Wells Fargo  Overweight              main\n",
       "2021-05-26 12:11:55            Baird  Outperform              main\n",
       "2021-05-26 12:26:29        Citigroup         Buy              main\n",
       "\n",
       "[141 rows x 4 columns]"
      ],
      "text/html": "<div>\n<style scoped>\n    .dataframe tbody tr th:only-of-type {\n        vertical-align: middle;\n    }\n\n    .dataframe tbody tr th {\n        vertical-align: top;\n    }\n\n    .dataframe thead th {\n        text-align: right;\n    }\n</style>\n<table border=\"1\" class=\"dataframe\">\n  <thead>\n    <tr style=\"text-align: right;\">\n      <th></th>\n      <th>Firm</th>\n      <th>To Grade</th>\n      <th>From Grade</th>\n      <th>Action</th>\n    </tr>\n    <tr>\n      <th>Date</th>\n      <th></th>\n      <th></th>\n      <th></th>\n      <th></th>\n    </tr>\n  </thead>\n  <tbody>\n    <tr>\n      <th>2012-02-16 06:01:00</th>\n      <td>Deutsche Bank</td>\n      <td>Buy</td>\n      <td></td>\n      <td>main</td>\n    </tr>\n    <tr>\n      <th>2012-03-06 09:28:00</th>\n      <td>Morgan Stanley</td>\n      <td>Overweight</td>\n      <td></td>\n      <td>init</td>\n    </tr>\n    <tr>\n      <th>2012-04-19 08:35:00</th>\n      <td>Stifel Nicolaus</td>\n      <td>Buy</td>\n      <td></td>\n      <td>main</td>\n    </tr>\n    <tr>\n      <th>2012-05-15 06:14:00</th>\n      <td>Morgan Stanley</td>\n      <td>Overweight</td>\n      <td></td>\n      <td>main</td>\n    </tr>\n    <tr>\n      <th>2012-05-15 08:07:00</th>\n      <td>Stifel Nicolaus</td>\n      <td>Buy</td>\n      <td></td>\n      <td>main</td>\n    </tr>\n    <tr>\n      <th>...</th>\n      <td>...</td>\n      <td>...</td>\n      <td>...</td>\n      <td>...</td>\n    </tr>\n    <tr>\n      <th>2021-05-26 10:10:42</th>\n      <td>Keybanc</td>\n      <td>Overweight</td>\n      <td></td>\n      <td>main</td>\n    </tr>\n    <tr>\n      <th>2021-05-26 10:20:35</th>\n      <td>SVB Leerink</td>\n      <td>Outperform</td>\n      <td></td>\n      <td>main</td>\n    </tr>\n    <tr>\n      <th>2021-05-26 12:08:05</th>\n      <td>Wells Fargo</td>\n      <td>Overweight</td>\n      <td></td>\n      <td>main</td>\n    </tr>\n    <tr>\n      <th>2021-05-26 12:11:55</th>\n      <td>Baird</td>\n      <td>Outperform</td>\n      <td></td>\n      <td>main</td>\n    </tr>\n    <tr>\n      <th>2021-05-26 12:26:29</th>\n      <td>Citigroup</td>\n      <td>Buy</td>\n      <td></td>\n      <td>main</td>\n    </tr>\n  </tbody>\n</table>\n<p>141 rows × 4 columns</p>\n</div>"
     },
     "metadata": {},
     "execution_count": 10
    }
   ],
   "source": [
    "recommendations = ticker.recommendations\n",
    "recommendations"
   ]
  },
  {
   "cell_type": "code",
   "execution_count": 13,
   "metadata": {},
   "outputs": [
    {
     "output_type": "execute_result",
     "data": {
      "text/plain": [
       "Action  To Grade    \n",
       "down    Equal-Weight     1\n",
       "        Hold             2\n",
       "        Neutral          3\n",
       "        Outperform       1\n",
       "        Sell             1\n",
       "init    Buy              2\n",
       "        Equal-Weight     1\n",
       "        Hold             2\n",
       "        Neutral          4\n",
       "        Outperform       3\n",
       "        Overweight       5\n",
       "main    Buy             37\n",
       "        Equal-Weight     8\n",
       "        Hold             3\n",
       "        Neutral         11\n",
       "        Outperform      14\n",
       "        Overweight      31\n",
       "up      Buy              5\n",
       "        Outperform       4\n",
       "        Overweight       2\n",
       "        Strong Buy       1\n",
       "dtype: int64"
      ]
     },
     "metadata": {},
     "execution_count": 13
    }
   ],
   "source": [
    "recommendations.groupby(['Action', 'To Grade']).size()"
   ]
  },
  {
   "cell_type": "code",
   "execution_count": 17,
   "metadata": {},
   "outputs": [
    {
     "output_type": "execute_result",
     "data": {
      "text/plain": [
       "           Grade                Firm  Count of Analyst\n",
       "0            Buy       BTIG Research                 2\n",
       "1            Buy     Bank of America                 6\n",
       "2            Buy           Citigroup                 7\n",
       "3            Buy       Deutsche Bank                 4\n",
       "4            Buy  Evercore ISI Group                 1\n",
       "5            Buy       Goldman Sachs                 4\n",
       "6            Buy           ISI Group                 1\n",
       "7            Buy           Jefferies                 7\n",
       "8            Buy    Longbow Research                 1\n",
       "9            Buy             Needham                 1\n",
       "10           Buy     Stifel Nicolaus                 5\n",
       "11           Buy                 UBS                 5\n",
       "12  Equal-Weight     Bank of America                 2\n",
       "13  Equal-Weight            Barclays                 5\n",
       "14  Equal-Weight      Morgan Stanley                 3\n",
       "15          Hold       Deutsche Bank                 3\n",
       "16          Hold             Needham                 1\n",
       "17          Hold              Stifel                 1\n",
       "18          Hold     Stifel Nicolaus                 2\n",
       "19       Neutral   B of A Securities                 1\n",
       "20       Neutral       BTIG Research                 1\n",
       "21       Neutral               Baird                 1\n",
       "22       Neutral     Bank of America                 1\n",
       "23       Neutral           Citigroup                 6\n",
       "24       Neutral       Goldman Sachs                 1\n",
       "25       Neutral      Janney Capital                 1\n",
       "26       Neutral                 UBS                 6\n",
       "27    Outperform               Baird                 6\n",
       "28    Outperform                CLSA                 1\n",
       "29    Outperform         Cowen & Co.                 6\n",
       "30    Outperform       Credit Suisse                 1\n",
       "31    Outperform  Evercore ISI Group                 1\n",
       "32    Outperform       Leerink Swann                 1\n",
       "33    Outperform         SVB Leerink                 5\n",
       "34    Outperform         Wells Fargo                 1\n",
       "35    Overweight            Barclays                 8\n",
       "36    Overweight           ISI Group                 2\n",
       "37    Overweight           JP Morgan                 5\n",
       "38    Overweight             KeyBanc                 2\n",
       "39    Overweight             Keybanc                 1\n",
       "40    Overweight      Morgan Stanley                14\n",
       "41    Overweight       Piper Jaffray                 1\n",
       "42    Overweight         Wells Fargo                 5\n",
       "43          Sell      S&P Capital IQ                 1\n",
       "44    Strong Buy           ISI Group                 1"
      ],
      "text/html": "<div>\n<style scoped>\n    .dataframe tbody tr th:only-of-type {\n        vertical-align: middle;\n    }\n\n    .dataframe tbody tr th {\n        vertical-align: top;\n    }\n\n    .dataframe thead th {\n        text-align: right;\n    }\n</style>\n<table border=\"1\" class=\"dataframe\">\n  <thead>\n    <tr style=\"text-align: right;\">\n      <th></th>\n      <th>Grade</th>\n      <th>Firm</th>\n      <th>Count of Analyst</th>\n    </tr>\n  </thead>\n  <tbody>\n    <tr>\n      <th>0</th>\n      <td>Buy</td>\n      <td>BTIG Research</td>\n      <td>2</td>\n    </tr>\n    <tr>\n      <th>1</th>\n      <td>Buy</td>\n      <td>Bank of America</td>\n      <td>6</td>\n    </tr>\n    <tr>\n      <th>2</th>\n      <td>Buy</td>\n      <td>Citigroup</td>\n      <td>7</td>\n    </tr>\n    <tr>\n      <th>3</th>\n      <td>Buy</td>\n      <td>Deutsche Bank</td>\n      <td>4</td>\n    </tr>\n    <tr>\n      <th>4</th>\n      <td>Buy</td>\n      <td>Evercore ISI Group</td>\n      <td>1</td>\n    </tr>\n    <tr>\n      <th>5</th>\n      <td>Buy</td>\n      <td>Goldman Sachs</td>\n      <td>4</td>\n    </tr>\n    <tr>\n      <th>6</th>\n      <td>Buy</td>\n      <td>ISI Group</td>\n      <td>1</td>\n    </tr>\n    <tr>\n      <th>7</th>\n      <td>Buy</td>\n      <td>Jefferies</td>\n      <td>7</td>\n    </tr>\n    <tr>\n      <th>8</th>\n      <td>Buy</td>\n      <td>Longbow Research</td>\n      <td>1</td>\n    </tr>\n    <tr>\n      <th>9</th>\n      <td>Buy</td>\n      <td>Needham</td>\n      <td>1</td>\n    </tr>\n    <tr>\n      <th>10</th>\n      <td>Buy</td>\n      <td>Stifel Nicolaus</td>\n      <td>5</td>\n    </tr>\n    <tr>\n      <th>11</th>\n      <td>Buy</td>\n      <td>UBS</td>\n      <td>5</td>\n    </tr>\n    <tr>\n      <th>12</th>\n      <td>Equal-Weight</td>\n      <td>Bank of America</td>\n      <td>2</td>\n    </tr>\n    <tr>\n      <th>13</th>\n      <td>Equal-Weight</td>\n      <td>Barclays</td>\n      <td>5</td>\n    </tr>\n    <tr>\n      <th>14</th>\n      <td>Equal-Weight</td>\n      <td>Morgan Stanley</td>\n      <td>3</td>\n    </tr>\n    <tr>\n      <th>15</th>\n      <td>Hold</td>\n      <td>Deutsche Bank</td>\n      <td>3</td>\n    </tr>\n    <tr>\n      <th>16</th>\n      <td>Hold</td>\n      <td>Needham</td>\n      <td>1</td>\n    </tr>\n    <tr>\n      <th>17</th>\n      <td>Hold</td>\n      <td>Stifel</td>\n      <td>1</td>\n    </tr>\n    <tr>\n      <th>18</th>\n      <td>Hold</td>\n      <td>Stifel Nicolaus</td>\n      <td>2</td>\n    </tr>\n    <tr>\n      <th>19</th>\n      <td>Neutral</td>\n      <td>B of A Securities</td>\n      <td>1</td>\n    </tr>\n    <tr>\n      <th>20</th>\n      <td>Neutral</td>\n      <td>BTIG Research</td>\n      <td>1</td>\n    </tr>\n    <tr>\n      <th>21</th>\n      <td>Neutral</td>\n      <td>Baird</td>\n      <td>1</td>\n    </tr>\n    <tr>\n      <th>22</th>\n      <td>Neutral</td>\n      <td>Bank of America</td>\n      <td>1</td>\n    </tr>\n    <tr>\n      <th>23</th>\n      <td>Neutral</td>\n      <td>Citigroup</td>\n      <td>6</td>\n    </tr>\n    <tr>\n      <th>24</th>\n      <td>Neutral</td>\n      <td>Goldman Sachs</td>\n      <td>1</td>\n    </tr>\n    <tr>\n      <th>25</th>\n      <td>Neutral</td>\n      <td>Janney Capital</td>\n      <td>1</td>\n    </tr>\n    <tr>\n      <th>26</th>\n      <td>Neutral</td>\n      <td>UBS</td>\n      <td>6</td>\n    </tr>\n    <tr>\n      <th>27</th>\n      <td>Outperform</td>\n      <td>Baird</td>\n      <td>6</td>\n    </tr>\n    <tr>\n      <th>28</th>\n      <td>Outperform</td>\n      <td>CLSA</td>\n      <td>1</td>\n    </tr>\n    <tr>\n      <th>29</th>\n      <td>Outperform</td>\n      <td>Cowen &amp; Co.</td>\n      <td>6</td>\n    </tr>\n    <tr>\n      <th>30</th>\n      <td>Outperform</td>\n      <td>Credit Suisse</td>\n      <td>1</td>\n    </tr>\n    <tr>\n      <th>31</th>\n      <td>Outperform</td>\n      <td>Evercore ISI Group</td>\n      <td>1</td>\n    </tr>\n    <tr>\n      <th>32</th>\n      <td>Outperform</td>\n      <td>Leerink Swann</td>\n      <td>1</td>\n    </tr>\n    <tr>\n      <th>33</th>\n      <td>Outperform</td>\n      <td>SVB Leerink</td>\n      <td>5</td>\n    </tr>\n    <tr>\n      <th>34</th>\n      <td>Outperform</td>\n      <td>Wells Fargo</td>\n      <td>1</td>\n    </tr>\n    <tr>\n      <th>35</th>\n      <td>Overweight</td>\n      <td>Barclays</td>\n      <td>8</td>\n    </tr>\n    <tr>\n      <th>36</th>\n      <td>Overweight</td>\n      <td>ISI Group</td>\n      <td>2</td>\n    </tr>\n    <tr>\n      <th>37</th>\n      <td>Overweight</td>\n      <td>JP Morgan</td>\n      <td>5</td>\n    </tr>\n    <tr>\n      <th>38</th>\n      <td>Overweight</td>\n      <td>KeyBanc</td>\n      <td>2</td>\n    </tr>\n    <tr>\n      <th>39</th>\n      <td>Overweight</td>\n      <td>Keybanc</td>\n      <td>1</td>\n    </tr>\n    <tr>\n      <th>40</th>\n      <td>Overweight</td>\n      <td>Morgan Stanley</td>\n      <td>14</td>\n    </tr>\n    <tr>\n      <th>41</th>\n      <td>Overweight</td>\n      <td>Piper Jaffray</td>\n      <td>1</td>\n    </tr>\n    <tr>\n      <th>42</th>\n      <td>Overweight</td>\n      <td>Wells Fargo</td>\n      <td>5</td>\n    </tr>\n    <tr>\n      <th>43</th>\n      <td>Sell</td>\n      <td>S&amp;P Capital IQ</td>\n      <td>1</td>\n    </tr>\n    <tr>\n      <th>44</th>\n      <td>Strong Buy</td>\n      <td>ISI Group</td>\n      <td>1</td>\n    </tr>\n  </tbody>\n</table>\n</div>"
     },
     "metadata": {},
     "execution_count": 17
    }
   ],
   "source": [
    "recommendations_agg = pd.DataFrame(recommendations.groupby(['To Grade', 'Firm']).size()).reset_index()\n",
    "recommendations_agg.columns = ['Grade', 'Firm', 'Count of Analyst']\n",
    "recommendations_agg"
   ]
  },
  {
   "source": [
    "## Other Sources for stock price data"
   ],
   "cell_type": "markdown",
   "metadata": {}
  },
  {
   "cell_type": "code",
   "execution_count": null,
   "metadata": {},
   "outputs": [],
   "source": [
    "https://www.google.com/search?q=TSLA&rlz=1C1UEAD_enUS961US961&sxsrf=ALeKk00ViasBzd4XWeuDy9BznJVJq3dHrA%3A1626654221184&ei=Dcb0YO3dCsnItQbh2aXQBg&oq=TSLA&gs_lcp=Cgdnd3Mtd2l6EAMyBwgAELEDEEMyBQgAELEDMgUIABCxAzIHCAAQhwIQFDIFCAAQsQMyBQgAELEDMgUIABCxAzIFCAAQsQMyBAgAEAoyBAgAEAo6BAgjECc6BAgAEEM6CgguELEDEIMBEEM6CwguELEDEMcBEKMCOgIIADoHCC4QsQMQQ0oECEEYAFDpRljvSWCwTWgAcAJ4AIABSYgBygKSAQE1mAEAoAEBqgEHZ3dzLXdpesABAQ&sclient=gws-wiz&ved=0ahUKEwitmJqY7-3xAhVJZM0KHeFsCWoQ4dUDCA4&uact=5"
   ]
  },
  {
   "cell_type": "code",
   "execution_count": null,
   "metadata": {},
   "outputs": [],
   "source": [
    "https://www.google.com/search?q=AAPL&rlz=1C1UEAD_enUS961US961&sxsrf=ALeKk01hdLRKzYzwhqLYMjPPblLVSd4e3Q%3A1626654232096&ei=GMb0YI2WBdWE9PwPhJOGmAM&oq=AAPL&gs_lcp=Cgdnd3Mtd2l6EAMyDAgjECcQnQIQRhD6ATIKCAAQhwIQsQMQFDIFCAAQsQMyBQgAELEDMgUIABCxAzIFCAAQsQMyBQgAELEDMgIIADIFCAAQsQMyBQgAELEDOgQIIxAnOgQIABBDOgoILhDHARCjAhBDOggIABCxAxCDAToNCC4QsQMQxwEQowIQQ0oECEEYAFC43QNY998DYN7jA2gAcAJ4AIABoASIAZwHkgEJMS4zLTEuMC4xmAEAoAEBqgEHZ3dzLXdpesABAQ&sclient=gws-wiz&ved=0ahUKEwiNgrSd7-3xAhVVAp0JHYSJATMQ4dUDCA4&uact=5"
   ]
  },
  {
   "cell_type": "code",
   "execution_count": 90,
   "metadata": {},
   "outputs": [],
   "source": [
    "ticker = 'AAPL'"
   ]
  },
  {
   "cell_type": "code",
   "execution_count": 91,
   "metadata": {},
   "outputs": [
    {
     "output_type": "execute_result",
     "data": {
      "text/plain": [
       "0"
      ]
     },
     "metadata": {},
     "execution_count": 91
    }
   ],
   "source": [
    "pt1 = 'https://www.google.com/search?q='\n",
    "pt2 = '&rlz=1C1UEAD_enUS961US961&sxsrf=ALeKk00ViasBzd4XWeuDy9BznJVJq3dHrA%3A1626654221184&ei=Dcb0YO3dCsnItQbh2aXQBg&oq=TSLA&gs_lcp=Cgdnd3Mtd2l6EAMyBwgAELEDEEMyBQgAELEDMgUIABCxAzIHCAAQhwIQFDIFCAAQsQMyBQgAELEDMgUIABCxAzIFCAAQsQMyBAgAEAoyBAgAEAo6BAgjECc6BAgAEEM6CgguELEDEIMBEEM6CwguELEDEMcBEKMCOgIIADoHCC4QsQMQQ0oECEEYAFDpRljvSWCwTWgAcAJ4AIABSYgBygKSAQE1mAEAoAEBqgEHZ3dzLXdpesABAQ&sclient=gws-wiz&ved=0ahUKEwitmJqY7-3xAhVJZM0KHeFsCWoQ4dUDCA4&uact=5'\n",
    "url = pt1 + ticker + pt2\n",
    "\n",
    "r = requests.get(url)\n",
    "data = html.fromstring(r.text)\n",
    "\n",
    "# Xpath\n",
    "alldata =[]\n",
    "\n",
    "#time.sleep(2)\n",
    "\n",
    "for i in data.xpath(\"//li[contains(@class,'js-stream-content Pos(r)')]\"):\n",
    "    stock = i.xpath('div/div/div[2]/h3/a/text()')\n",
    "    #url = i.xpath('a/@href')[0]\n",
    "    #year = i.xpath('span[2]/text()')   \n",
    "    #print(title, url, year)\n",
    "    alldata.append([stock])\n",
    "    \n",
    "len(alldata)"
   ]
  },
  {
   "cell_type": "code",
   "execution_count": null,
   "metadata": {},
   "outputs": [],
   "source": []
  },
  {
   "cell_type": "code",
   "execution_count": null,
   "metadata": {},
   "outputs": [],
   "source": []
  },
  {
   "cell_type": "code",
   "execution_count": null,
   "metadata": {},
   "outputs": [],
   "source": []
  },
  {
   "cell_type": "code",
   "execution_count": null,
   "metadata": {},
   "outputs": [],
   "source": []
  },
  {
   "cell_type": "code",
   "execution_count": null,
   "metadata": {},
   "outputs": [],
   "source": []
  },
  {
   "cell_type": "code",
   "execution_count": 40,
   "id": "guided-shadow",
   "metadata": {},
   "outputs": [],
   "source": [
    "# Request the page\n",
    "page = requests.get('https://stockanalysis.com/stocks/')"
   ]
  },
  {
   "cell_type": "code",
   "execution_count": 41,
   "id": "voluntary-adjustment",
   "metadata": {},
   "outputs": [],
   "source": [
    "# Parsing the page\n",
    "# (We need to use page.content rather than \n",
    "# page.text because html.fromstring implicitly\n",
    "# expects bytes as input.)\n",
    "tree = html.fromstring(page.text)"
   ]
  },
  {
   "cell_type": "code",
   "execution_count": 42,
   "id": "present-router",
   "metadata": {},
   "outputs": [
    {
     "output_type": "stream",
     "name": "stdout",
     "text": [
      "['Our stock overview pages show detailed information about individual stocks. This includes stock price, detailed quote, interactive chart, key metrics, and financials.', 'Use the search box above to search for a stock, or use CTRL+F or CMD+F on your keyboard to look through the list below.', 'For recent stock changes, explore the ', '.', 'There are now 6713 stocks listed, with more added regularly.', 'Get the latest investing and finance articles in your inbox.', 'Read the ', '.']\n"
     ]
    }
   ],
   "source": [
    "# Get element using XPath\n",
    "buyers = tree.xpath('//p/text()')\n",
    "print(buyers)"
   ]
  },
  {
   "cell_type": "code",
   "execution_count": 43,
   "id": "comparative-group",
   "metadata": {},
   "outputs": [
    {
     "output_type": "execute_result",
     "data": {
      "text/plain": [
       "6749"
      ]
     },
     "metadata": {},
     "execution_count": 43
    }
   ],
   "source": [
    "r = requests.get('https://stockanalysis.com/stocks/')\n",
    "data = html.fromstring(r.text)\n",
    "\n",
    "# Xpath\n",
    "alldata =[]\n",
    "\n",
    "for i in data.xpath(\"//li\"):\n",
    "    stock = i.xpath('a/text()')\n",
    "    url = i.xpath('a/@href')[0]\n",
    "    #year = i.xpath('span[2]/text()')   \n",
    "    #print(title, url, year)\n",
    "    alldata.append([stock, url])\n",
    "    \n",
    "#    news = []\n",
    "    \n",
    "#    for i in alldata:\n",
    "#        url = i[1]\n",
    "#        data = html.fromstring(requests.get(url).text)\n",
    "    \n",
    "#        for j in data.xpath(\"//div[@class='top-part']\"):\n",
    "#            text = j.xpath(\"div/h1/text()\")\n",
    "#            news.append([stock, text])\n",
    "            \n",
    "    #alldata.append([stock, url, news])\n",
    "    \n",
    "len(alldata)"
   ]
  },
  {
   "cell_type": "code",
   "execution_count": 44,
   "id": "reliable-gospel",
   "metadata": {},
   "outputs": [
    {
     "output_type": "execute_result",
     "data": {
      "text/plain": [
       "6737"
      ]
     },
     "metadata": {},
     "execution_count": 44
    }
   ],
   "source": [
    "del alldata[0:12]\n",
    "len(alldata)"
   ]
  },
  {
   "cell_type": "code",
   "execution_count": 45,
   "id": "charming-experience",
   "metadata": {},
   "outputs": [
    {
     "output_type": "execute_result",
     "data": {
      "text/plain": [
       "6721"
      ]
     },
     "metadata": {},
     "execution_count": 45
    }
   ],
   "source": [
    "del alldata[-17:-1]\n",
    "len(alldata)"
   ]
  },
  {
   "cell_type": "code",
   "execution_count": 46,
   "id": "banned-treasurer",
   "metadata": {},
   "outputs": [
    {
     "output_type": "execute_result",
     "data": {
      "text/plain": [
       "6720"
      ]
     },
     "metadata": {},
     "execution_count": 46
    }
   ],
   "source": [
    "del alldata[-1]\n",
    "len(alldata)"
   ]
  },
  {
   "cell_type": "code",
   "execution_count": 50,
   "id": "combined-senegal",
   "metadata": {},
   "outputs": [],
   "source": [
    "##script to continue getting detail from stock ticker website\n",
    "#industry = []\n",
    "    \n",
    "#for i in alldata:\n",
    "    #url = i[1]\n",
    "    #data = html.fromstring(requests.get(url, timeout = 5).text)\n",
    "    #time.sleep(1)\n",
    "    \n",
    "    #for j in data.xpath(\"//div[@class='sidew descr']\"):\n",
    "        #text = j.xpath('table/tbody/tr[1]/td[1]/div/text()')\n",
    "        #article_url = j.xpath('div[2]/div/a/@href')\n",
    "        #article_short_text = j.xpath('div[2]/div[2]/p/text()')\n",
    "        #news_date = j.xpath('div[2]/div[4]/span[1]/text()')\n",
    "        #news_source = j.xpath('div[2]/div[4]/span[2]/text()')\n",
    "        #industry.append([i[0], i[1], text])\n",
    "#len(industry)\n",
    "#industry.to_csv('data/ticker&industry.csv')"
   ]
  },
  {
   "cell_type": "code",
   "execution_count": 47,
   "id": "liberal-failure",
   "metadata": {},
   "outputs": [
    {
     "output_type": "stream",
     "name": "stdout",
     "text": [
      "<class 'pandas.core.frame.DataFrame'>\nRangeIndex: 6720 entries, 0 to 6719\nData columns (total 2 columns):\n #   Column  Non-Null Count  Dtype \n---  ------  --------------  ----- \n 0   full    6720 non-null   object\n 1   url     6720 non-null   object\ndtypes: object(2)\nmemory usage: 105.1+ KB\n"
     ]
    }
   ],
   "source": [
    "df = pd.DataFrame(alldata)\n",
    "df[0]=df[0].str[0]\n",
    "#df = df.iloc[12:-17]\n",
    "df = df.rename(columns = {0: 'full', 1: 'url'})\n",
    "df['full'] = df['full'].astype('str')\n",
    "df.info()"
   ]
  },
  {
   "cell_type": "code",
   "execution_count": 48,
   "id": "terminal-medication",
   "metadata": {},
   "outputs": [
    {
     "output_type": "execute_result",
     "data": {
      "text/plain": [
       "                                          full  \\\n",
       "0                     A - Agilent Technologies   \n",
       "1                                   AA - Alcoa   \n",
       "2                       AAC - Ares Acquisition   \n",
       "3  AACE - Alexandria Agtech/Climate Innovation   \n",
       "4                 AACG - ATA Creativity Global   \n",
       "\n",
       "                                      url ticker  \\\n",
       "0     https://stockanalysis.com/stocks/a/     A    \n",
       "1    https://stockanalysis.com/stocks/aa/    AA    \n",
       "2   https://stockanalysis.com/stocks/aac/   AAC    \n",
       "3  https://stockanalysis.com/stocks/aace/  AACE    \n",
       "4  https://stockanalysis.com/stocks/aacg/  AACG    \n",
       "\n",
       "                            company_name  \n",
       "0                   Agilent Technologies  \n",
       "1                                  Alcoa  \n",
       "2                       Ares Acquisition  \n",
       "3   Alexandria Agtech/Climate Innovation  \n",
       "4                  ATA Creativity Global  "
      ],
      "text/html": "<div>\n<style scoped>\n    .dataframe tbody tr th:only-of-type {\n        vertical-align: middle;\n    }\n\n    .dataframe tbody tr th {\n        vertical-align: top;\n    }\n\n    .dataframe thead th {\n        text-align: right;\n    }\n</style>\n<table border=\"1\" class=\"dataframe\">\n  <thead>\n    <tr style=\"text-align: right;\">\n      <th></th>\n      <th>full</th>\n      <th>url</th>\n      <th>ticker</th>\n      <th>company_name</th>\n    </tr>\n  </thead>\n  <tbody>\n    <tr>\n      <th>0</th>\n      <td>A - Agilent Technologies</td>\n      <td>https://stockanalysis.com/stocks/a/</td>\n      <td>A</td>\n      <td>Agilent Technologies</td>\n    </tr>\n    <tr>\n      <th>1</th>\n      <td>AA - Alcoa</td>\n      <td>https://stockanalysis.com/stocks/aa/</td>\n      <td>AA</td>\n      <td>Alcoa</td>\n    </tr>\n    <tr>\n      <th>2</th>\n      <td>AAC - Ares Acquisition</td>\n      <td>https://stockanalysis.com/stocks/aac/</td>\n      <td>AAC</td>\n      <td>Ares Acquisition</td>\n    </tr>\n    <tr>\n      <th>3</th>\n      <td>AACE - Alexandria Agtech/Climate Innovation</td>\n      <td>https://stockanalysis.com/stocks/aace/</td>\n      <td>AACE</td>\n      <td>Alexandria Agtech/Climate Innovation</td>\n    </tr>\n    <tr>\n      <th>4</th>\n      <td>AACG - ATA Creativity Global</td>\n      <td>https://stockanalysis.com/stocks/aacg/</td>\n      <td>AACG</td>\n      <td>ATA Creativity Global</td>\n    </tr>\n  </tbody>\n</table>\n</div>"
     },
     "metadata": {},
     "execution_count": 48
    }
   ],
   "source": [
    "split = df[\"full\"].str.split(\"-\", n = 1, expand = True)\n",
    "df['ticker'] = split[0]\n",
    "df['company_name'] = split[1]\n",
    "df.head()"
   ]
  },
  {
   "cell_type": "code",
   "execution_count": 49,
   "metadata": {},
   "outputs": [],
   "source": [
    "df['ticker'] = df.ticker.str.strip()\n",
    "#df.index = df['ticker']\n",
    "#df.index = df.index.astype(str)"
   ]
  },
  {
   "cell_type": "code",
   "execution_count": 50,
   "metadata": {},
   "outputs": [],
   "source": [
    "df.to_csv('data/tickers_only.csv')"
   ]
  },
  {
   "cell_type": "code",
   "execution_count": 51,
   "metadata": {},
   "outputs": [
    {
     "output_type": "execute_result",
     "data": {
      "text/plain": [
       "0                       A\n",
       "1                      AA\n",
       "2                     AAC\n",
       "3                    AACE\n",
       "4                    AACG\n",
       "              ...        \n",
       "6715                  nan\n",
       "6716            Investing\n",
       "6717         Stock Market\n",
       "6718    Financial Metrics\n",
       "6719    Stock Information\n",
       "Name: ticker, Length: 6720, dtype: object"
      ]
     },
     "metadata": {},
     "execution_count": 51
    }
   ],
   "source": [
    "ticker_list = df['ticker']\n",
    "ticker_list"
   ]
  },
  {
   "cell_type": "code",
   "execution_count": 117,
   "metadata": {},
   "outputs": [
    {
     "output_type": "execute_result",
     "data": {
      "text/plain": [
       "2"
      ]
     },
     "metadata": {},
     "execution_count": 117
    }
   ],
   "source": [
    "data = []\n",
    "\n",
    "for i in ticker_list:\n",
    "    stock = i\n",
    "    ticker = yfin.Ticker(stock)\n",
    "    info = ticker.info\n",
    "    #info_df = json_normalize(info)\n",
    "    #info_df['ticker'] = i\n",
    "    #info_df.index = info_df['ticker']\n",
    "    data.append([i, info])\n",
    "    #print(ticker.info)\n",
    "len(data)"
   ]
  },
  {
   "cell_type": "code",
   "execution_count": 80,
   "metadata": {},
   "outputs": [
    {
     "output_type": "execute_result",
     "data": {
      "text/plain": [
       "  ticker  info   2   3   4                                                  5  \\\n",
       "0     []    []  []  []  []                                                 []   \n",
       "1     []  [[]]  []  []  []  [[[], [<Element div at 0x2136ae97d10>, <Elemen...   \n",
       "\n",
       "    6                                                  7   8   9  ...    98  \\\n",
       "0  []                                                 []  []  []  ...    []   \n",
       "1  []  [[[], [<Element div at 0x2136ae97ea0>, <Elemen...  []  []  ...  None   \n",
       "\n",
       "     99   100   101   102   103   104   105   106   107  \n",
       "0    []    []    []    []    []    []    []    []    []  \n",
       "1  None  None  None  None  None  None  None  None  None  \n",
       "\n",
       "[2 rows x 108 columns]"
      ],
      "text/html": "<div>\n<style scoped>\n    .dataframe tbody tr th:only-of-type {\n        vertical-align: middle;\n    }\n\n    .dataframe tbody tr th {\n        vertical-align: top;\n    }\n\n    .dataframe thead th {\n        text-align: right;\n    }\n</style>\n<table border=\"1\" class=\"dataframe\">\n  <thead>\n    <tr style=\"text-align: right;\">\n      <th></th>\n      <th>ticker</th>\n      <th>info</th>\n      <th>2</th>\n      <th>3</th>\n      <th>4</th>\n      <th>5</th>\n      <th>6</th>\n      <th>7</th>\n      <th>8</th>\n      <th>9</th>\n      <th>...</th>\n      <th>98</th>\n      <th>99</th>\n      <th>100</th>\n      <th>101</th>\n      <th>102</th>\n      <th>103</th>\n      <th>104</th>\n      <th>105</th>\n      <th>106</th>\n      <th>107</th>\n    </tr>\n  </thead>\n  <tbody>\n    <tr>\n      <th>0</th>\n      <td>[]</td>\n      <td>[]</td>\n      <td>[]</td>\n      <td>[]</td>\n      <td>[]</td>\n      <td>[]</td>\n      <td>[]</td>\n      <td>[]</td>\n      <td>[]</td>\n      <td>[]</td>\n      <td>...</td>\n      <td>[]</td>\n      <td>[]</td>\n      <td>[]</td>\n      <td>[]</td>\n      <td>[]</td>\n      <td>[]</td>\n      <td>[]</td>\n      <td>[]</td>\n      <td>[]</td>\n      <td>[]</td>\n    </tr>\n    <tr>\n      <th>1</th>\n      <td>[]</td>\n      <td>[[]]</td>\n      <td>[]</td>\n      <td>[]</td>\n      <td>[]</td>\n      <td>[[[], [&lt;Element div at 0x2136ae98630&gt;, &lt;Elemen...</td>\n      <td>[]</td>\n      <td>[[[], [&lt;Element div at 0x2136ae98590&gt;, &lt;Elemen...</td>\n      <td>[]</td>\n      <td>[]</td>\n      <td>...</td>\n      <td>None</td>\n      <td>None</td>\n      <td>None</td>\n      <td>None</td>\n      <td>None</td>\n      <td>None</td>\n      <td>None</td>\n      <td>None</td>\n      <td>None</td>\n      <td>None</td>\n    </tr>\n  </tbody>\n</table>\n<p>2 rows × 108 columns</p>\n</div>"
     },
     "metadata": {},
     "execution_count": 80
    }
   ],
   "source": [
    "ticker_info = pd.DataFrame(data)\n",
    "ticker_info = ticker_info.rename(columns = {0: 'ticker', 1: 'info'})\n",
    "ticker_info"
   ]
  },
  {
   "cell_type": "code",
   "execution_count": 119,
   "metadata": {},
   "outputs": [
    {
     "output_type": "execute_result",
     "data": {
      "text/plain": [
       "          zip           sector  fullTimeEmployees  \\\n",
       "0       95051       Healthcare              16400   \n",
       "1  15212-5858  Basic Materials              12900   \n",
       "\n",
       "                                 longBusinessSummary         city  \\\n",
       "0  Agilent Technologies, Inc. provides applicatio...  Santa Clara   \n",
       "1  Alcoa Corporation, together with its subsidiar...   Pittsburgh   \n",
       "\n",
       "          phone state        country companyOfficers                 website  \\\n",
       "0  800 227 9770    CA  United States              []  http://www.agilent.com   \n",
       "1  412-315-2900    PA  United States              []    http://www.alcoa.com   \n",
       "\n",
       "   ...  pegRatio lastCapGain shortPercentOfFloat sharesShortPriorMonth  \\\n",
       "0  ...      2.92        None              0.0096               2352823   \n",
       "1  ...      0.07        None              0.0591              10304058   \n",
       "\n",
       "   impliedSharesOutstanding  category  fiveYearAverageReturn  \\\n",
       "0                      None      None                   None   \n",
       "1                      None      None                   None   \n",
       "\n",
       "   regularMarketPrice                               logo_url   address2  \n",
       "0               128.0  https://logo.clearbit.com/agilent.com        NaN  \n",
       "1                32.2    https://logo.clearbit.com/alcoa.com  Suite 500  \n",
       "\n",
       "[2 rows x 125 columns]"
      ],
      "text/html": "<div>\n<style scoped>\n    .dataframe tbody tr th:only-of-type {\n        vertical-align: middle;\n    }\n\n    .dataframe tbody tr th {\n        vertical-align: top;\n    }\n\n    .dataframe thead th {\n        text-align: right;\n    }\n</style>\n<table border=\"1\" class=\"dataframe\">\n  <thead>\n    <tr style=\"text-align: right;\">\n      <th></th>\n      <th>zip</th>\n      <th>sector</th>\n      <th>fullTimeEmployees</th>\n      <th>longBusinessSummary</th>\n      <th>city</th>\n      <th>phone</th>\n      <th>state</th>\n      <th>country</th>\n      <th>companyOfficers</th>\n      <th>website</th>\n      <th>...</th>\n      <th>pegRatio</th>\n      <th>lastCapGain</th>\n      <th>shortPercentOfFloat</th>\n      <th>sharesShortPriorMonth</th>\n      <th>impliedSharesOutstanding</th>\n      <th>category</th>\n      <th>fiveYearAverageReturn</th>\n      <th>regularMarketPrice</th>\n      <th>logo_url</th>\n      <th>address2</th>\n    </tr>\n  </thead>\n  <tbody>\n    <tr>\n      <th>0</th>\n      <td>95051</td>\n      <td>Healthcare</td>\n      <td>16400</td>\n      <td>Agilent Technologies, Inc. provides applicatio...</td>\n      <td>Santa Clara</td>\n      <td>800 227 9770</td>\n      <td>CA</td>\n      <td>United States</td>\n      <td>[]</td>\n      <td>http://www.agilent.com</td>\n      <td>...</td>\n      <td>2.92</td>\n      <td>None</td>\n      <td>0.0096</td>\n      <td>2352823</td>\n      <td>None</td>\n      <td>None</td>\n      <td>None</td>\n      <td>128.0</td>\n      <td>https://logo.clearbit.com/agilent.com</td>\n      <td>NaN</td>\n    </tr>\n    <tr>\n      <th>1</th>\n      <td>15212-5858</td>\n      <td>Basic Materials</td>\n      <td>12900</td>\n      <td>Alcoa Corporation, together with its subsidiar...</td>\n      <td>Pittsburgh</td>\n      <td>412-315-2900</td>\n      <td>PA</td>\n      <td>United States</td>\n      <td>[]</td>\n      <td>http://www.alcoa.com</td>\n      <td>...</td>\n      <td>0.07</td>\n      <td>None</td>\n      <td>0.0591</td>\n      <td>10304058</td>\n      <td>None</td>\n      <td>None</td>\n      <td>None</td>\n      <td>32.2</td>\n      <td>https://logo.clearbit.com/alcoa.com</td>\n      <td>Suite 500</td>\n    </tr>\n  </tbody>\n</table>\n<p>2 rows × 125 columns</p>\n</div>"
     },
     "metadata": {},
     "execution_count": 119
    }
   ],
   "source": [
    "ticker_info['info'].apply(pd.Series)"
   ]
  },
  {
   "cell_type": "code",
   "execution_count": 120,
   "metadata": {},
   "outputs": [
    {
     "output_type": "execute_result",
     "data": {
      "text/plain": [
       "  ticker         zip           sector  fullTimeEmployees  \\\n",
       "0      A       95051       Healthcare              16400   \n",
       "1     AA  15212-5858  Basic Materials              12900   \n",
       "\n",
       "                                 longBusinessSummary         city  \\\n",
       "0  Agilent Technologies, Inc. provides applicatio...  Santa Clara   \n",
       "1  Alcoa Corporation, together with its subsidiar...   Pittsburgh   \n",
       "\n",
       "          phone state        country companyOfficers  ... pegRatio  \\\n",
       "0  800 227 9770    CA  United States              []  ...     2.92   \n",
       "1  412-315-2900    PA  United States              []  ...     0.07   \n",
       "\n",
       "   lastCapGain shortPercentOfFloat sharesShortPriorMonth  \\\n",
       "0         None              0.0096               2352823   \n",
       "1         None              0.0591              10304058   \n",
       "\n",
       "  impliedSharesOutstanding  category  fiveYearAverageReturn  \\\n",
       "0                     None      None                   None   \n",
       "1                     None      None                   None   \n",
       "\n",
       "   regularMarketPrice                               logo_url   address2  \n",
       "0               128.0  https://logo.clearbit.com/agilent.com        NaN  \n",
       "1                32.2    https://logo.clearbit.com/alcoa.com  Suite 500  \n",
       "\n",
       "[2 rows x 126 columns]"
      ],
      "text/html": "<div>\n<style scoped>\n    .dataframe tbody tr th:only-of-type {\n        vertical-align: middle;\n    }\n\n    .dataframe tbody tr th {\n        vertical-align: top;\n    }\n\n    .dataframe thead th {\n        text-align: right;\n    }\n</style>\n<table border=\"1\" class=\"dataframe\">\n  <thead>\n    <tr style=\"text-align: right;\">\n      <th></th>\n      <th>ticker</th>\n      <th>zip</th>\n      <th>sector</th>\n      <th>fullTimeEmployees</th>\n      <th>longBusinessSummary</th>\n      <th>city</th>\n      <th>phone</th>\n      <th>state</th>\n      <th>country</th>\n      <th>companyOfficers</th>\n      <th>...</th>\n      <th>pegRatio</th>\n      <th>lastCapGain</th>\n      <th>shortPercentOfFloat</th>\n      <th>sharesShortPriorMonth</th>\n      <th>impliedSharesOutstanding</th>\n      <th>category</th>\n      <th>fiveYearAverageReturn</th>\n      <th>regularMarketPrice</th>\n      <th>logo_url</th>\n      <th>address2</th>\n    </tr>\n  </thead>\n  <tbody>\n    <tr>\n      <th>0</th>\n      <td>A</td>\n      <td>95051</td>\n      <td>Healthcare</td>\n      <td>16400</td>\n      <td>Agilent Technologies, Inc. provides applicatio...</td>\n      <td>Santa Clara</td>\n      <td>800 227 9770</td>\n      <td>CA</td>\n      <td>United States</td>\n      <td>[]</td>\n      <td>...</td>\n      <td>2.92</td>\n      <td>None</td>\n      <td>0.0096</td>\n      <td>2352823</td>\n      <td>None</td>\n      <td>None</td>\n      <td>None</td>\n      <td>128.0</td>\n      <td>https://logo.clearbit.com/agilent.com</td>\n      <td>NaN</td>\n    </tr>\n    <tr>\n      <th>1</th>\n      <td>AA</td>\n      <td>15212-5858</td>\n      <td>Basic Materials</td>\n      <td>12900</td>\n      <td>Alcoa Corporation, together with its subsidiar...</td>\n      <td>Pittsburgh</td>\n      <td>412-315-2900</td>\n      <td>PA</td>\n      <td>United States</td>\n      <td>[]</td>\n      <td>...</td>\n      <td>0.07</td>\n      <td>None</td>\n      <td>0.0591</td>\n      <td>10304058</td>\n      <td>None</td>\n      <td>None</td>\n      <td>None</td>\n      <td>32.2</td>\n      <td>https://logo.clearbit.com/alcoa.com</td>\n      <td>Suite 500</td>\n    </tr>\n  </tbody>\n</table>\n<p>2 rows × 126 columns</p>\n</div>"
     },
     "metadata": {},
     "execution_count": 120
    }
   ],
   "source": [
    "ticker_data = pd.concat([ticker_info.drop(['info'], axis=1), ticker_info['info'].apply(pd.Series)], axis=1)\n",
    "ticker_data"
   ]
  },
  {
   "source": [
    "## lets grab some history for each stock as well"
   ],
   "cell_type": "markdown",
   "metadata": {}
  },
  {
   "cell_type": "code",
   "execution_count": 123,
   "metadata": {},
   "outputs": [
    {
     "output_type": "stream",
     "name": "stdout",
     "text": [
      "[*********************100%***********************]  1 of 1 completed\n",
      "[*********************100%***********************]  1 of 1 completed\n"
     ]
    },
    {
     "output_type": "execute_result",
     "data": {
      "text/plain": [
       "                  Open        High         Low       Close   Adj Close  \\\n",
       "Date                                                                     \n",
       "2021-03-02  124.570000  125.889999  123.169998  123.639999  123.639999   \n",
       "2021-03-03  122.779999  122.779999  119.250000  119.300003  119.300003   \n",
       "2021-03-04  118.690002  118.830002  113.339996  114.989998  114.989998   \n",
       "2021-03-05  115.879997  116.190002  112.470001  116.139999  116.139999   \n",
       "2021-03-08  116.309998  118.959999  115.269997  116.080002  116.080002   \n",
       "2021-03-09  117.870003  121.389999  117.540001  119.839996  119.839996   \n",
       "2021-03-10  120.589996  122.209999  119.690002  119.989998  119.989998   \n",
       "2021-03-11  121.419998  122.919998  120.900002  121.830002  121.830002   \n",
       "2021-03-12  120.570000  122.029999  119.279999  121.440002  121.440002   \n",
       "2021-03-15  120.919998  124.279999  120.339996  124.040001  124.040001   \n",
       "2021-03-16  124.750000  125.309998  122.449997  123.000000  123.000000   \n",
       "2021-03-17  122.339996  123.110001  121.500000  122.519997  122.519997   \n",
       "2021-03-18  123.599998  123.940002  122.129997  122.589996  122.589996   \n",
       "2021-03-19  122.870003  123.500000  121.510002  122.690002  122.690002   \n",
       "2021-03-22  122.169998  123.830002  121.720001  123.610001  123.610001   \n",
       "2021-03-23  123.150002  124.230003  121.470001  121.980003  121.980003   \n",
       "2021-03-24  122.120003  122.959999  120.739998  120.839996  120.839996   \n",
       "2021-03-25  120.860001  122.330002  119.879997  121.900002  121.900002   \n",
       "2021-03-26  122.540001  125.709999  122.029999  125.639999  125.639999   \n",
       "2021-03-29  124.879997  125.820000  123.739998  125.419998  125.419998   \n",
       "2021-03-30  124.610001  125.699997  124.410004  124.839996  124.839996   \n",
       "2021-03-31  125.949997  128.479996  125.949997  127.139999  127.139999   \n",
       "2021-04-01  128.000000  128.300003  127.010002  127.690002  127.690002   \n",
       "2021-03-02   26.200001   27.860001   26.200001   27.500000   27.500000   \n",
       "2021-03-03   28.900000   31.370001   28.520000   30.830000   30.830000   \n",
       "2021-03-04   29.715000   30.389999   27.360001   28.590000   28.590000   \n",
       "2021-03-05   29.230000   30.504999   27.410000   28.990000   28.990000   \n",
       "2021-03-08   29.650000   30.170000   28.400000   28.469999   28.469999   \n",
       "2021-03-09   28.990000   30.049999   28.200001   29.940001   29.940001   \n",
       "2021-03-10   30.340000   32.419998   30.340000   31.980000   31.980000   \n",
       "2021-03-11   32.299999   32.872002   31.690001   32.160000   32.160000   \n",
       "2021-03-12   31.889999   32.480000   31.280001   31.510000   31.510000   \n",
       "2021-03-15   31.450001   31.680000   30.340000   31.040001   31.040001   \n",
       "2021-03-16   30.750000   30.785000   29.290001   29.520000   29.520000   \n",
       "2021-03-17   30.170000   31.809999   30.040001   31.809999   31.809999   \n",
       "2021-03-18   31.660000   33.450001   30.930000   31.190001   31.190001   \n",
       "2021-03-19   31.129999   31.620001   30.070000   31.139999   31.139999   \n",
       "2021-03-22   31.230000   31.420000   30.080000   30.430000   30.430000   \n",
       "2021-03-23   28.389999   29.250000   27.110001   27.420000   27.420000   \n",
       "2021-03-24   29.719999   30.480000   28.590000   28.760000   28.760000   \n",
       "2021-03-25   28.030001   29.764999   27.549999   29.660000   29.660000   \n",
       "2021-03-26   30.410000   32.799999   30.150000   32.779999   32.779999   \n",
       "2021-03-29   32.450001   33.990002   31.855000   32.040001   32.040001   \n",
       "2021-03-30   32.150002   33.049999   31.340000   32.970001   32.970001   \n",
       "2021-03-31   33.660000   34.290001   32.110001   32.490002   32.490002   \n",
       "2021-04-01   32.200001   32.580002   31.490000   32.230000   32.230000   \n",
       "\n",
       "              Volume ticker period  \n",
       "Date                                \n",
       "2021-03-02   1267300      A    1mo  \n",
       "2021-03-03   1612400      A    1mo  \n",
       "2021-03-04   2724500      A    1mo  \n",
       "2021-03-05   2441500      A    1mo  \n",
       "2021-03-08   2766600      A    1mo  \n",
       "2021-03-09   2291100      A    1mo  \n",
       "2021-03-10   1934600      A    1mo  \n",
       "2021-03-11   1818700      A    1mo  \n",
       "2021-03-12   1368700      A    1mo  \n",
       "2021-03-15   1230000      A    1mo  \n",
       "2021-03-16   1306500      A    1mo  \n",
       "2021-03-17   1370800      A    1mo  \n",
       "2021-03-18   2067500      A    1mo  \n",
       "2021-03-19   2597000      A    1mo  \n",
       "2021-03-22   1772900      A    1mo  \n",
       "2021-03-23   1338300      A    1mo  \n",
       "2021-03-24   1477500      A    1mo  \n",
       "2021-03-25    967300      A    1mo  \n",
       "2021-03-26   1441900      A    1mo  \n",
       "2021-03-29   1539700      A    1mo  \n",
       "2021-03-30   1033700      A    1mo  \n",
       "2021-03-31   1815500      A    1mo  \n",
       "2021-04-01   1126400      A    1mo  \n",
       "2021-03-02   8526800     AA    1mo  \n",
       "2021-03-03  17550200     AA    1mo  \n",
       "2021-03-04  10353800     AA    1mo  \n",
       "2021-03-05   7773400     AA    1mo  \n",
       "2021-03-08   4978700     AA    1mo  \n",
       "2021-03-09   7549700     AA    1mo  \n",
       "2021-03-10   7917400     AA    1mo  \n",
       "2021-03-11   6254900     AA    1mo  \n",
       "2021-03-12   4729200     AA    1mo  \n",
       "2021-03-15   4532200     AA    1mo  \n",
       "2021-03-16   5030100     AA    1mo  \n",
       "2021-03-17   6793000     AA    1mo  \n",
       "2021-03-18   6723700     AA    1mo  \n",
       "2021-03-19   6922100     AA    1mo  \n",
       "2021-03-22   3552300     AA    1mo  \n",
       "2021-03-23   8474600     AA    1mo  \n",
       "2021-03-24   9127500     AA    1mo  \n",
       "2021-03-25   6403000     AA    1mo  \n",
       "2021-03-26   9567200     AA    1mo  \n",
       "2021-03-29   8276200     AA    1mo  \n",
       "2021-03-30   6286700     AA    1mo  \n",
       "2021-03-31   7236600     AA    1mo  \n",
       "2021-04-01   5482100     AA    1mo  "
      ],
      "text/html": "<div>\n<style scoped>\n    .dataframe tbody tr th:only-of-type {\n        vertical-align: middle;\n    }\n\n    .dataframe tbody tr th {\n        vertical-align: top;\n    }\n\n    .dataframe thead th {\n        text-align: right;\n    }\n</style>\n<table border=\"1\" class=\"dataframe\">\n  <thead>\n    <tr style=\"text-align: right;\">\n      <th></th>\n      <th>Open</th>\n      <th>High</th>\n      <th>Low</th>\n      <th>Close</th>\n      <th>Adj Close</th>\n      <th>Volume</th>\n      <th>ticker</th>\n      <th>period</th>\n    </tr>\n    <tr>\n      <th>Date</th>\n      <th></th>\n      <th></th>\n      <th></th>\n      <th></th>\n      <th></th>\n      <th></th>\n      <th></th>\n      <th></th>\n    </tr>\n  </thead>\n  <tbody>\n    <tr>\n      <th>2021-03-02</th>\n      <td>124.570000</td>\n      <td>125.889999</td>\n      <td>123.169998</td>\n      <td>123.639999</td>\n      <td>123.639999</td>\n      <td>1267300</td>\n      <td>A</td>\n      <td>1mo</td>\n    </tr>\n    <tr>\n      <th>2021-03-03</th>\n      <td>122.779999</td>\n      <td>122.779999</td>\n      <td>119.250000</td>\n      <td>119.300003</td>\n      <td>119.300003</td>\n      <td>1612400</td>\n      <td>A</td>\n      <td>1mo</td>\n    </tr>\n    <tr>\n      <th>2021-03-04</th>\n      <td>118.690002</td>\n      <td>118.830002</td>\n      <td>113.339996</td>\n      <td>114.989998</td>\n      <td>114.989998</td>\n      <td>2724500</td>\n      <td>A</td>\n      <td>1mo</td>\n    </tr>\n    <tr>\n      <th>2021-03-05</th>\n      <td>115.879997</td>\n      <td>116.190002</td>\n      <td>112.470001</td>\n      <td>116.139999</td>\n      <td>116.139999</td>\n      <td>2441500</td>\n      <td>A</td>\n      <td>1mo</td>\n    </tr>\n    <tr>\n      <th>2021-03-08</th>\n      <td>116.309998</td>\n      <td>118.959999</td>\n      <td>115.269997</td>\n      <td>116.080002</td>\n      <td>116.080002</td>\n      <td>2766600</td>\n      <td>A</td>\n      <td>1mo</td>\n    </tr>\n    <tr>\n      <th>2021-03-09</th>\n      <td>117.870003</td>\n      <td>121.389999</td>\n      <td>117.540001</td>\n      <td>119.839996</td>\n      <td>119.839996</td>\n      <td>2291100</td>\n      <td>A</td>\n      <td>1mo</td>\n    </tr>\n    <tr>\n      <th>2021-03-10</th>\n      <td>120.589996</td>\n      <td>122.209999</td>\n      <td>119.690002</td>\n      <td>119.989998</td>\n      <td>119.989998</td>\n      <td>1934600</td>\n      <td>A</td>\n      <td>1mo</td>\n    </tr>\n    <tr>\n      <th>2021-03-11</th>\n      <td>121.419998</td>\n      <td>122.919998</td>\n      <td>120.900002</td>\n      <td>121.830002</td>\n      <td>121.830002</td>\n      <td>1818700</td>\n      <td>A</td>\n      <td>1mo</td>\n    </tr>\n    <tr>\n      <th>2021-03-12</th>\n      <td>120.570000</td>\n      <td>122.029999</td>\n      <td>119.279999</td>\n      <td>121.440002</td>\n      <td>121.440002</td>\n      <td>1368700</td>\n      <td>A</td>\n      <td>1mo</td>\n    </tr>\n    <tr>\n      <th>2021-03-15</th>\n      <td>120.919998</td>\n      <td>124.279999</td>\n      <td>120.339996</td>\n      <td>124.040001</td>\n      <td>124.040001</td>\n      <td>1230000</td>\n      <td>A</td>\n      <td>1mo</td>\n    </tr>\n    <tr>\n      <th>2021-03-16</th>\n      <td>124.750000</td>\n      <td>125.309998</td>\n      <td>122.449997</td>\n      <td>123.000000</td>\n      <td>123.000000</td>\n      <td>1306500</td>\n      <td>A</td>\n      <td>1mo</td>\n    </tr>\n    <tr>\n      <th>2021-03-17</th>\n      <td>122.339996</td>\n      <td>123.110001</td>\n      <td>121.500000</td>\n      <td>122.519997</td>\n      <td>122.519997</td>\n      <td>1370800</td>\n      <td>A</td>\n      <td>1mo</td>\n    </tr>\n    <tr>\n      <th>2021-03-18</th>\n      <td>123.599998</td>\n      <td>123.940002</td>\n      <td>122.129997</td>\n      <td>122.589996</td>\n      <td>122.589996</td>\n      <td>2067500</td>\n      <td>A</td>\n      <td>1mo</td>\n    </tr>\n    <tr>\n      <th>2021-03-19</th>\n      <td>122.870003</td>\n      <td>123.500000</td>\n      <td>121.510002</td>\n      <td>122.690002</td>\n      <td>122.690002</td>\n      <td>2597000</td>\n      <td>A</td>\n      <td>1mo</td>\n    </tr>\n    <tr>\n      <th>2021-03-22</th>\n      <td>122.169998</td>\n      <td>123.830002</td>\n      <td>121.720001</td>\n      <td>123.610001</td>\n      <td>123.610001</td>\n      <td>1772900</td>\n      <td>A</td>\n      <td>1mo</td>\n    </tr>\n    <tr>\n      <th>2021-03-23</th>\n      <td>123.150002</td>\n      <td>124.230003</td>\n      <td>121.470001</td>\n      <td>121.980003</td>\n      <td>121.980003</td>\n      <td>1338300</td>\n      <td>A</td>\n      <td>1mo</td>\n    </tr>\n    <tr>\n      <th>2021-03-24</th>\n      <td>122.120003</td>\n      <td>122.959999</td>\n      <td>120.739998</td>\n      <td>120.839996</td>\n      <td>120.839996</td>\n      <td>1477500</td>\n      <td>A</td>\n      <td>1mo</td>\n    </tr>\n    <tr>\n      <th>2021-03-25</th>\n      <td>120.860001</td>\n      <td>122.330002</td>\n      <td>119.879997</td>\n      <td>121.900002</td>\n      <td>121.900002</td>\n      <td>967300</td>\n      <td>A</td>\n      <td>1mo</td>\n    </tr>\n    <tr>\n      <th>2021-03-26</th>\n      <td>122.540001</td>\n      <td>125.709999</td>\n      <td>122.029999</td>\n      <td>125.639999</td>\n      <td>125.639999</td>\n      <td>1441900</td>\n      <td>A</td>\n      <td>1mo</td>\n    </tr>\n    <tr>\n      <th>2021-03-29</th>\n      <td>124.879997</td>\n      <td>125.820000</td>\n      <td>123.739998</td>\n      <td>125.419998</td>\n      <td>125.419998</td>\n      <td>1539700</td>\n      <td>A</td>\n      <td>1mo</td>\n    </tr>\n    <tr>\n      <th>2021-03-30</th>\n      <td>124.610001</td>\n      <td>125.699997</td>\n      <td>124.410004</td>\n      <td>124.839996</td>\n      <td>124.839996</td>\n      <td>1033700</td>\n      <td>A</td>\n      <td>1mo</td>\n    </tr>\n    <tr>\n      <th>2021-03-31</th>\n      <td>125.949997</td>\n      <td>128.479996</td>\n      <td>125.949997</td>\n      <td>127.139999</td>\n      <td>127.139999</td>\n      <td>1815500</td>\n      <td>A</td>\n      <td>1mo</td>\n    </tr>\n    <tr>\n      <th>2021-04-01</th>\n      <td>128.000000</td>\n      <td>128.300003</td>\n      <td>127.010002</td>\n      <td>127.690002</td>\n      <td>127.690002</td>\n      <td>1126400</td>\n      <td>A</td>\n      <td>1mo</td>\n    </tr>\n    <tr>\n      <th>2021-03-02</th>\n      <td>26.200001</td>\n      <td>27.860001</td>\n      <td>26.200001</td>\n      <td>27.500000</td>\n      <td>27.500000</td>\n      <td>8526800</td>\n      <td>AA</td>\n      <td>1mo</td>\n    </tr>\n    <tr>\n      <th>2021-03-03</th>\n      <td>28.900000</td>\n      <td>31.370001</td>\n      <td>28.520000</td>\n      <td>30.830000</td>\n      <td>30.830000</td>\n      <td>17550200</td>\n      <td>AA</td>\n      <td>1mo</td>\n    </tr>\n    <tr>\n      <th>2021-03-04</th>\n      <td>29.715000</td>\n      <td>30.389999</td>\n      <td>27.360001</td>\n      <td>28.590000</td>\n      <td>28.590000</td>\n      <td>10353800</td>\n      <td>AA</td>\n      <td>1mo</td>\n    </tr>\n    <tr>\n      <th>2021-03-05</th>\n      <td>29.230000</td>\n      <td>30.504999</td>\n      <td>27.410000</td>\n      <td>28.990000</td>\n      <td>28.990000</td>\n      <td>7773400</td>\n      <td>AA</td>\n      <td>1mo</td>\n    </tr>\n    <tr>\n      <th>2021-03-08</th>\n      <td>29.650000</td>\n      <td>30.170000</td>\n      <td>28.400000</td>\n      <td>28.469999</td>\n      <td>28.469999</td>\n      <td>4978700</td>\n      <td>AA</td>\n      <td>1mo</td>\n    </tr>\n    <tr>\n      <th>2021-03-09</th>\n      <td>28.990000</td>\n      <td>30.049999</td>\n      <td>28.200001</td>\n      <td>29.940001</td>\n      <td>29.940001</td>\n      <td>7549700</td>\n      <td>AA</td>\n      <td>1mo</td>\n    </tr>\n    <tr>\n      <th>2021-03-10</th>\n      <td>30.340000</td>\n      <td>32.419998</td>\n      <td>30.340000</td>\n      <td>31.980000</td>\n      <td>31.980000</td>\n      <td>7917400</td>\n      <td>AA</td>\n      <td>1mo</td>\n    </tr>\n    <tr>\n      <th>2021-03-11</th>\n      <td>32.299999</td>\n      <td>32.872002</td>\n      <td>31.690001</td>\n      <td>32.160000</td>\n      <td>32.160000</td>\n      <td>6254900</td>\n      <td>AA</td>\n      <td>1mo</td>\n    </tr>\n    <tr>\n      <th>2021-03-12</th>\n      <td>31.889999</td>\n      <td>32.480000</td>\n      <td>31.280001</td>\n      <td>31.510000</td>\n      <td>31.510000</td>\n      <td>4729200</td>\n      <td>AA</td>\n      <td>1mo</td>\n    </tr>\n    <tr>\n      <th>2021-03-15</th>\n      <td>31.450001</td>\n      <td>31.680000</td>\n      <td>30.340000</td>\n      <td>31.040001</td>\n      <td>31.040001</td>\n      <td>4532200</td>\n      <td>AA</td>\n      <td>1mo</td>\n    </tr>\n    <tr>\n      <th>2021-03-16</th>\n      <td>30.750000</td>\n      <td>30.785000</td>\n      <td>29.290001</td>\n      <td>29.520000</td>\n      <td>29.520000</td>\n      <td>5030100</td>\n      <td>AA</td>\n      <td>1mo</td>\n    </tr>\n    <tr>\n      <th>2021-03-17</th>\n      <td>30.170000</td>\n      <td>31.809999</td>\n      <td>30.040001</td>\n      <td>31.809999</td>\n      <td>31.809999</td>\n      <td>6793000</td>\n      <td>AA</td>\n      <td>1mo</td>\n    </tr>\n    <tr>\n      <th>2021-03-18</th>\n      <td>31.660000</td>\n      <td>33.450001</td>\n      <td>30.930000</td>\n      <td>31.190001</td>\n      <td>31.190001</td>\n      <td>6723700</td>\n      <td>AA</td>\n      <td>1mo</td>\n    </tr>\n    <tr>\n      <th>2021-03-19</th>\n      <td>31.129999</td>\n      <td>31.620001</td>\n      <td>30.070000</td>\n      <td>31.139999</td>\n      <td>31.139999</td>\n      <td>6922100</td>\n      <td>AA</td>\n      <td>1mo</td>\n    </tr>\n    <tr>\n      <th>2021-03-22</th>\n      <td>31.230000</td>\n      <td>31.420000</td>\n      <td>30.080000</td>\n      <td>30.430000</td>\n      <td>30.430000</td>\n      <td>3552300</td>\n      <td>AA</td>\n      <td>1mo</td>\n    </tr>\n    <tr>\n      <th>2021-03-23</th>\n      <td>28.389999</td>\n      <td>29.250000</td>\n      <td>27.110001</td>\n      <td>27.420000</td>\n      <td>27.420000</td>\n      <td>8474600</td>\n      <td>AA</td>\n      <td>1mo</td>\n    </tr>\n    <tr>\n      <th>2021-03-24</th>\n      <td>29.719999</td>\n      <td>30.480000</td>\n      <td>28.590000</td>\n      <td>28.760000</td>\n      <td>28.760000</td>\n      <td>9127500</td>\n      <td>AA</td>\n      <td>1mo</td>\n    </tr>\n    <tr>\n      <th>2021-03-25</th>\n      <td>28.030001</td>\n      <td>29.764999</td>\n      <td>27.549999</td>\n      <td>29.660000</td>\n      <td>29.660000</td>\n      <td>6403000</td>\n      <td>AA</td>\n      <td>1mo</td>\n    </tr>\n    <tr>\n      <th>2021-03-26</th>\n      <td>30.410000</td>\n      <td>32.799999</td>\n      <td>30.150000</td>\n      <td>32.779999</td>\n      <td>32.779999</td>\n      <td>9567200</td>\n      <td>AA</td>\n      <td>1mo</td>\n    </tr>\n    <tr>\n      <th>2021-03-29</th>\n      <td>32.450001</td>\n      <td>33.990002</td>\n      <td>31.855000</td>\n      <td>32.040001</td>\n      <td>32.040001</td>\n      <td>8276200</td>\n      <td>AA</td>\n      <td>1mo</td>\n    </tr>\n    <tr>\n      <th>2021-03-30</th>\n      <td>32.150002</td>\n      <td>33.049999</td>\n      <td>31.340000</td>\n      <td>32.970001</td>\n      <td>32.970001</td>\n      <td>6286700</td>\n      <td>AA</td>\n      <td>1mo</td>\n    </tr>\n    <tr>\n      <th>2021-03-31</th>\n      <td>33.660000</td>\n      <td>34.290001</td>\n      <td>32.110001</td>\n      <td>32.490002</td>\n      <td>32.490002</td>\n      <td>7236600</td>\n      <td>AA</td>\n      <td>1mo</td>\n    </tr>\n    <tr>\n      <th>2021-04-01</th>\n      <td>32.200001</td>\n      <td>32.580002</td>\n      <td>31.490000</td>\n      <td>32.230000</td>\n      <td>32.230000</td>\n      <td>5482100</td>\n      <td>AA</td>\n      <td>1mo</td>\n    </tr>\n  </tbody>\n</table>\n</div>"
     },
     "metadata": {},
     "execution_count": 123
    }
   ],
   "source": [
    "df_list = list()\n",
    "for ticker in ticker_list[:2]:\n",
    "    data = yfin.download(ticker, group_by=\"Ticker\", period='1mo')\n",
    "    data['ticker'] = ticker  # add this column becasue the dataframe doesn't contain a column with the ticker\n",
    "    data['period'] = \"1mo\"\n",
    "    df_list.append(data)\n",
    "\n",
    "# combine all dataframes into a single dataframe\n",
    "ticker_history_1mo = pd.concat(df_list)\n",
    "ticker_history_1mo"
   ]
  },
  {
   "cell_type": "code",
   "execution_count": 124,
   "metadata": {},
   "outputs": [
    {
     "output_type": "stream",
     "name": "stdout",
     "text": [
      "[*********************100%***********************]  1 of 1 completed\n",
      "[*********************100%***********************]  1 of 1 completed\n"
     ]
    }
   ],
   "source": [
    "df_list = list()\n",
    "for ticker in ticker_list[:2]:\n",
    "    data = yfin.download(ticker, group_by=\"Ticker\", period='3mo')\n",
    "    data['ticker'] = ticker  # add this column becasue the dataframe doesn't contain a column with the ticker\n",
    "    data['period'] = \"3mo\"\n",
    "    df_list.append(data)\n",
    "\n",
    "# combine all dataframes into a single dataframe\n",
    "ticker_history_3mo = pd.concat(df_list)"
   ]
  },
  {
   "cell_type": "code",
   "execution_count": 126,
   "metadata": {},
   "outputs": [
    {
     "output_type": "stream",
     "name": "stdout",
     "text": [
      "[*********************100%***********************]  1 of 1 completed\n",
      "[*********************100%***********************]  1 of 1 completed\n"
     ]
    }
   ],
   "source": [
    "df_list = list()\n",
    "for ticker in ticker_list[:2]:\n",
    "    data = yfin.download(ticker, group_by=\"Ticker\", period='6mo')\n",
    "    data['ticker'] = ticker  # add this column becasue the dataframe doesn't contain a column with the ticker\n",
    "    data['period'] = \"6mo\"\n",
    "    df_list.append(data)\n",
    "\n",
    "# combine all dataframes into a single dataframe\n",
    "ticker_history_6mo = pd.concat(df_list)"
   ]
  },
  {
   "cell_type": "code",
   "execution_count": 127,
   "metadata": {},
   "outputs": [
    {
     "output_type": "stream",
     "name": "stdout",
     "text": [
      "[*********************100%***********************]  1 of 1 completed\n",
      "[*********************100%***********************]  1 of 1 completed\n"
     ]
    }
   ],
   "source": [
    "df_list = list()\n",
    "for ticker in ticker_list[:2]:\n",
    "    data = yfin.download(ticker, group_by=\"Ticker\", period='1y')\n",
    "    data['ticker'] = ticker  # add this column becasue the dataframe doesn't contain a column with the ticker\n",
    "    data['period'] = \"1y\"\n",
    "    df_list.append(data)\n",
    "\n",
    "# combine all dataframes into a single dataframe\n",
    "ticker_history_1y = pd.concat(df_list)"
   ]
  },
  {
   "cell_type": "code",
   "execution_count": 128,
   "metadata": {},
   "outputs": [
    {
     "output_type": "stream",
     "name": "stdout",
     "text": [
      "[*********************100%***********************]  1 of 1 completed\n",
      "[*********************100%***********************]  1 of 1 completed\n"
     ]
    }
   ],
   "source": [
    "df_list = list()\n",
    "for ticker in ticker_list[:2]:\n",
    "    data = yfin.download(ticker, group_by=\"Ticker\", period='2y')\n",
    "    data['ticker'] = ticker  # add this column becasue the dataframe doesn't contain a column with the ticker\n",
    "    data['period'] = \"2y\"\n",
    "    df_list.append(data)\n",
    "\n",
    "# combine all dataframes into a single dataframe\n",
    "ticker_history_2y = pd.concat(df_list)"
   ]
  },
  {
   "cell_type": "code",
   "execution_count": 129,
   "metadata": {},
   "outputs": [
    {
     "output_type": "execute_result",
     "data": {
      "text/plain": [
       "                  Open        High         Low       Close   Adj Close  \\\n",
       "Date                                                                     \n",
       "2021-03-02  124.570000  125.889999  123.169998  123.639999  123.639999   \n",
       "2021-03-03  122.779999  122.779999  119.250000  119.300003  119.300003   \n",
       "2021-03-04  118.690002  118.830002  113.339996  114.989998  114.989998   \n",
       "2021-03-05  115.879997  116.190002  112.470001  116.139999  116.139999   \n",
       "2021-03-08  116.309998  118.959999  115.269997  116.080002  116.080002   \n",
       "...                ...         ...         ...         ...         ...   \n",
       "2021-03-26   30.410000   32.799999   30.150000   32.779999   32.779999   \n",
       "2021-03-29   32.450001   33.990002   31.855000   32.040001   32.040001   \n",
       "2021-03-30   32.150002   33.049999   31.340000   32.970001   32.970001   \n",
       "2021-03-31   33.660000   34.290001   32.110001   32.490002   32.490002   \n",
       "2021-04-01   32.200001   32.580002   31.490000   32.230000   32.230000   \n",
       "\n",
       "               Volume ticker period  \n",
       "Date                                 \n",
       "2021-03-02  1267300.0      A    1mo  \n",
       "2021-03-03  1612400.0      A    1mo  \n",
       "2021-03-04  2724500.0      A    1mo  \n",
       "2021-03-05  2441500.0      A    1mo  \n",
       "2021-03-08  2766600.0      A    1mo  \n",
       "...               ...    ...    ...  \n",
       "2021-03-26  9567200.0     AA     2y  \n",
       "2021-03-29  8276200.0     AA     2y  \n",
       "2021-03-30  6286700.0     AA     2y  \n",
       "2021-03-31  7236600.0     AA     2y  \n",
       "2021-04-01  5482100.0     AA     2y  \n",
       "\n",
       "[1935 rows x 8 columns]"
      ],
      "text/html": "<div>\n<style scoped>\n    .dataframe tbody tr th:only-of-type {\n        vertical-align: middle;\n    }\n\n    .dataframe tbody tr th {\n        vertical-align: top;\n    }\n\n    .dataframe thead th {\n        text-align: right;\n    }\n</style>\n<table border=\"1\" class=\"dataframe\">\n  <thead>\n    <tr style=\"text-align: right;\">\n      <th></th>\n      <th>Open</th>\n      <th>High</th>\n      <th>Low</th>\n      <th>Close</th>\n      <th>Adj Close</th>\n      <th>Volume</th>\n      <th>ticker</th>\n      <th>period</th>\n    </tr>\n    <tr>\n      <th>Date</th>\n      <th></th>\n      <th></th>\n      <th></th>\n      <th></th>\n      <th></th>\n      <th></th>\n      <th></th>\n      <th></th>\n    </tr>\n  </thead>\n  <tbody>\n    <tr>\n      <th>2021-03-02</th>\n      <td>124.570000</td>\n      <td>125.889999</td>\n      <td>123.169998</td>\n      <td>123.639999</td>\n      <td>123.639999</td>\n      <td>1267300.0</td>\n      <td>A</td>\n      <td>1mo</td>\n    </tr>\n    <tr>\n      <th>2021-03-03</th>\n      <td>122.779999</td>\n      <td>122.779999</td>\n      <td>119.250000</td>\n      <td>119.300003</td>\n      <td>119.300003</td>\n      <td>1612400.0</td>\n      <td>A</td>\n      <td>1mo</td>\n    </tr>\n    <tr>\n      <th>2021-03-04</th>\n      <td>118.690002</td>\n      <td>118.830002</td>\n      <td>113.339996</td>\n      <td>114.989998</td>\n      <td>114.989998</td>\n      <td>2724500.0</td>\n      <td>A</td>\n      <td>1mo</td>\n    </tr>\n    <tr>\n      <th>2021-03-05</th>\n      <td>115.879997</td>\n      <td>116.190002</td>\n      <td>112.470001</td>\n      <td>116.139999</td>\n      <td>116.139999</td>\n      <td>2441500.0</td>\n      <td>A</td>\n      <td>1mo</td>\n    </tr>\n    <tr>\n      <th>2021-03-08</th>\n      <td>116.309998</td>\n      <td>118.959999</td>\n      <td>115.269997</td>\n      <td>116.080002</td>\n      <td>116.080002</td>\n      <td>2766600.0</td>\n      <td>A</td>\n      <td>1mo</td>\n    </tr>\n    <tr>\n      <th>...</th>\n      <td>...</td>\n      <td>...</td>\n      <td>...</td>\n      <td>...</td>\n      <td>...</td>\n      <td>...</td>\n      <td>...</td>\n      <td>...</td>\n    </tr>\n    <tr>\n      <th>2021-03-26</th>\n      <td>30.410000</td>\n      <td>32.799999</td>\n      <td>30.150000</td>\n      <td>32.779999</td>\n      <td>32.779999</td>\n      <td>9567200.0</td>\n      <td>AA</td>\n      <td>2y</td>\n    </tr>\n    <tr>\n      <th>2021-03-29</th>\n      <td>32.450001</td>\n      <td>33.990002</td>\n      <td>31.855000</td>\n      <td>32.040001</td>\n      <td>32.040001</td>\n      <td>8276200.0</td>\n      <td>AA</td>\n      <td>2y</td>\n    </tr>\n    <tr>\n      <th>2021-03-30</th>\n      <td>32.150002</td>\n      <td>33.049999</td>\n      <td>31.340000</td>\n      <td>32.970001</td>\n      <td>32.970001</td>\n      <td>6286700.0</td>\n      <td>AA</td>\n      <td>2y</td>\n    </tr>\n    <tr>\n      <th>2021-03-31</th>\n      <td>33.660000</td>\n      <td>34.290001</td>\n      <td>32.110001</td>\n      <td>32.490002</td>\n      <td>32.490002</td>\n      <td>7236600.0</td>\n      <td>AA</td>\n      <td>2y</td>\n    </tr>\n    <tr>\n      <th>2021-04-01</th>\n      <td>32.200001</td>\n      <td>32.580002</td>\n      <td>31.490000</td>\n      <td>32.230000</td>\n      <td>32.230000</td>\n      <td>5482100.0</td>\n      <td>AA</td>\n      <td>2y</td>\n    </tr>\n  </tbody>\n</table>\n<p>1935 rows × 8 columns</p>\n</div>"
     },
     "metadata": {},
     "execution_count": 129
    }
   ],
   "source": [
    "## wrapping all together\n",
    "ticker_history_all = ticker_history_1mo.append([ticker_history_3mo, ticker_history_6mo, ticker_history_1y, ticker_history_2y])\n",
    "ticker_history_all"
   ]
  },
  {
   "source": [
    "## Lets get the 1 month trends for each stock to understand if there are any sector trends"
   ],
   "cell_type": "markdown",
   "metadata": {}
  },
  {
   "source": [
    "## lets just use the tickers from above source and find something else for pulling in news"
   ],
   "cell_type": "markdown",
   "metadata": {}
  },
  {
   "cell_type": "markdown",
   "id": "sonic-delay",
   "metadata": {},
   "source": [
    "## news from yahoo finance. We can only pull 3 articles :("
   ]
  },
  {
   "cell_type": "code",
   "execution_count": 120,
   "id": "fitting-montreal",
   "metadata": {},
   "outputs": [],
   "source": [
    "ticker = 'AAPL'"
   ]
  },
  {
   "cell_type": "code",
   "execution_count": 121,
   "id": "million-generator",
   "metadata": {},
   "outputs": [
    {
     "name": "stdout",
     "output_type": "stream",
     "text": [
      "https://finance.yahoo.com/quote/AAPL?p=AAPL&.tsrc=fin-srch\n"
     ]
    }
   ],
   "source": [
    "pt1 = 'https://finance.yahoo.com/quote/'\n",
    "pt2 = '?p='\n",
    "pt3 = '&.tsrc=fin-srch'\n",
    "url = pt1 + ticker + pt2 + ticker + pt3\n",
    "print(url)"
   ]
  },
  {
   "cell_type": "code",
   "execution_count": 123,
   "id": "brown-bunch",
   "metadata": {},
   "outputs": [
    {
     "data": {
      "text/plain": [
       "3"
      ]
     },
     "execution_count": 123,
     "metadata": {},
     "output_type": "execute_result"
    }
   ],
   "source": [
    "pt1 = 'https://finance.yahoo.com/quote/'\n",
    "pt2 = '?p='\n",
    "pt3 = '&.tsrc=fin-srch'\n",
    "url = pt1 + ticker + pt2 + ticker + pt3\n",
    "\n",
    "r = requests.get(url)\n",
    "data = html.fromstring(r.text)\n",
    "\n",
    "# Xpath\n",
    "alldata =[]\n",
    "\n",
    "#time.sleep(2)\n",
    "\n",
    "for i in data.xpath(\"//li[contains(@class,'js-stream-content Pos(r)')]\"):\n",
    "    stock = i.xpath('div/div/div[2]/h3/a/text()')\n",
    "    #url = i.xpath('a/@href')[0]\n",
    "    #year = i.xpath('span[2]/text()')   \n",
    "    #print(title, url, year)\n",
    "    alldata.append([stock])\n",
    "    \n",
    "len(alldata)"
   ]
  },
  {
   "cell_type": "code",
   "execution_count": 119,
   "id": "working-faculty",
   "metadata": {},
   "outputs": [
    {
     "data": {
      "text/plain": [
       "3"
      ]
     },
     "execution_count": 119,
     "metadata": {},
     "output_type": "execute_result"
    }
   ],
   "source": [
    "pt1 = 'https://finance.yahoo.com/quote/'\n",
    "pt2 = '?p='\n",
    "pt3 = '&.tsrc=fin-srch'\n",
    "url = pt1 + ticker + pt2 + ticker + pt3\n",
    "\n",
    "r = requests.get(url)\n",
    "data = html.fromstring(r.text)\n",
    "\n",
    "# Xpath\n",
    "alldata =[]\n",
    "\n",
    "for i in data.xpath(\"//li[@class='js-stream-content Pos(r)']\"):\n",
    "    stock = i.xpath('div/div/div[2]/h3/a/text()')\n",
    "    #url = i.xpath('a/@href')[0]\n",
    "    #year = i.xpath('span[2]/text()')   \n",
    "    #print(title, url, year)\n",
    "    alldata.append([stock])\n",
    "    \n",
    "len(alldata)"
   ]
  },
  {
   "cell_type": "code",
   "execution_count": 118,
   "id": "statistical-graphics",
   "metadata": {},
   "outputs": [
    {
     "data": {
      "text/plain": [
       "[[['Dow Jones Futures: Market Rally Looks To Extend Gains With 5 Stocks In Buy Zones; Tesla, Nio Story Time Over']],\n",
       " [['Is GM Stock A Buy? General Motors Rebounds Bullishly Amid Deeper FedEx Ties']],\n",
       " [[\"Elon Musk Tweets Tesla Will Be Bigger Than Apple 'In A Few Months', Then Deletes Tweet\"]]]"
      ]
     },
     "execution_count": 118,
     "metadata": {},
     "output_type": "execute_result"
    }
   ],
   "source": [
    "alldata"
   ]
  },
  {
   "source": [
    "## Google News"
   ],
   "cell_type": "markdown",
   "metadata": {}
  },
  {
   "cell_type": "code",
   "execution_count": null,
   "metadata": {},
   "outputs": [],
   "source": [
    "https://news.google.com/search?q=AAPL&hl=en-US&gl=US&ceid=US%3Aen\n",
    "\n",
    "https://news.google.com/search?q=TSLA&hl=en-US&gl=US&ceid=US%3Aen"
   ]
  },
  {
   "cell_type": "code",
   "execution_count": 78,
   "metadata": {},
   "outputs": [
    {
     "output_type": "stream",
     "name": "stdout",
     "text": [
      "https://news.google.com/search?q=AAPL&hl=en-US&gl=US&ceid=US%3Aen\n"
     ]
    },
    {
     "output_type": "execute_result",
     "data": {
      "text/plain": [
       "94"
      ]
     },
     "metadata": {},
     "execution_count": 78
    }
   ],
   "source": [
    "first_part = 'https://news.google.com/search?q='\n",
    "ticker_desc = 'AAPL'\n",
    "second_part = '&hl=en-US&gl=US&ceid=US%3Aen'\n",
    "\n",
    "url = first_part + ticker_desc + second_part\n",
    "print(url)\n",
    "request = requests.get(url)\n",
    "#r = requests.get('https://www.marketwatch.com/investing/stock/AAPL')\n",
    "data = html.fromstring(request.text)\n",
    "\n",
    "# Xpath\n",
    "alldata =[]\n",
    "\n",
    "for i in data.xpath(\"//div[@class='NiLAwe y6IFtc R7GTQ keNKEd j7vNaf nID9nc']\"):\n",
    "    stock = i.xpath('div/h3/a/text()')\n",
    "    url = i.xpath('div/h3/a/@href')\n",
    "    #year = i.xpath('span[2]/text()')   \n",
    "    #print(title, url, year)\n",
    "    alldata.append([stock, url])\n",
    "    \n",
    "len(alldata)"
   ]
  },
  {
   "cell_type": "code",
   "execution_count": null,
   "metadata": {},
   "outputs": [],
   "source": [
    "//*[@id=\"yDmH0d\"]/c-wiz[3]/div/div[2]/div[2]/div/main/c-wiz/div[1]/div[1]"
   ]
  },
  {
   "cell_type": "code",
   "execution_count": 79,
   "metadata": {},
   "outputs": [
    {
     "output_type": "execute_result",
     "data": {
      "text/plain": [
       "[[[], []],\n",
       " [[], []],\n",
       " [[], []],\n",
       " [[], []],\n",
       " [[], []],\n",
       " [[], []],\n",
       " [[], []],\n",
       " [[], []],\n",
       " [[], []],\n",
       " [[], []],\n",
       " [[], []],\n",
       " [[], []],\n",
       " [[], []],\n",
       " [[], []],\n",
       " [[], []],\n",
       " [[], []],\n",
       " [[], []],\n",
       " [[], []],\n",
       " [[], []],\n",
       " [[], []],\n",
       " [[], []],\n",
       " [[], []],\n",
       " [[], []],\n",
       " [[], []],\n",
       " [[], []],\n",
       " [[], []],\n",
       " [[], []],\n",
       " [[], []],\n",
       " [[], []],\n",
       " [[], []],\n",
       " [[], []],\n",
       " [[], []],\n",
       " [[], []],\n",
       " [[], []],\n",
       " [[], []],\n",
       " [[], []],\n",
       " [[], []],\n",
       " [[], []],\n",
       " [[], []],\n",
       " [[], []],\n",
       " [[], []],\n",
       " [[], []],\n",
       " [[], []],\n",
       " [[], []],\n",
       " [[], []],\n",
       " [[], []],\n",
       " [[], []],\n",
       " [[], []],\n",
       " [[], []],\n",
       " [[], []],\n",
       " [[], []],\n",
       " [[], []],\n",
       " [[], []],\n",
       " [[], []],\n",
       " [[], []],\n",
       " [[], []],\n",
       " [[], []],\n",
       " [[], []],\n",
       " [[], []],\n",
       " [[], []],\n",
       " [[], []],\n",
       " [[], []],\n",
       " [[], []],\n",
       " [[], []],\n",
       " [[], []],\n",
       " [[], []],\n",
       " [[], []],\n",
       " [[], []],\n",
       " [[], []],\n",
       " [[], []],\n",
       " [[], []],\n",
       " [[], []],\n",
       " [[], []],\n",
       " [[], []],\n",
       " [[], []],\n",
       " [[], []],\n",
       " [[], []],\n",
       " [[], []],\n",
       " [[], []],\n",
       " [[], []],\n",
       " [[], []],\n",
       " [[], []],\n",
       " [[], []],\n",
       " [[], []],\n",
       " [[], []],\n",
       " [[], []],\n",
       " [[], []],\n",
       " [[], []],\n",
       " [[], []],\n",
       " [[], []],\n",
       " [[], []],\n",
       " [[], []],\n",
       " [[], []],\n",
       " [[], []]]"
      ]
     },
     "metadata": {},
     "execution_count": 79
    }
   ],
   "source": [
    "alldata"
   ]
  },
  {
   "cell_type": "code",
   "execution_count": null,
   "metadata": {},
   "outputs": [],
   "source": []
  },
  {
   "cell_type": "code",
   "execution_count": null,
   "metadata": {},
   "outputs": [],
   "source": []
  },
  {
   "cell_type": "code",
   "execution_count": null,
   "metadata": {},
   "outputs": [],
   "source": []
  },
  {
   "cell_type": "code",
   "execution_count": null,
   "metadata": {},
   "outputs": [],
   "source": []
  },
  {
   "cell_type": "markdown",
   "id": "american-ireland",
   "metadata": {},
   "source": [
    "## lets try marketwatch"
   ]
  },
  {
   "cell_type": "code",
   "execution_count": 61,
   "metadata": {},
   "outputs": [],
   "source": [
    "ticker_desc = 'AAPL'"
   ]
  },
  {
   "cell_type": "code",
   "execution_count": 62,
   "id": "turned-financing",
   "metadata": {},
   "outputs": [
    {
     "output_type": "execute_result",
     "data": {
      "text/plain": [
       "48"
      ]
     },
     "metadata": {},
     "execution_count": 62
    }
   ],
   "source": [
    "url = 'https://www.marketwatch.com/investing/stock/' + ticker_desc\n",
    "request = requests.get(url)\n",
    "#r = requests.get('https://www.marketwatch.com/investing/stock/AAPL')\n",
    "data = html.fromstring(request.text)\n",
    "\n",
    "# Xpath\n",
    "alldata =[]\n",
    "\n",
    "for i in data.xpath(\"//div[contains(@class,'element element--article')]\"):\n",
    "    stock = i.xpath('div/h3/a/text()')\n",
    "    url = i.xpath('div/h3/a/@href')\n",
    "    #year = i.xpath('span[2]/text()')   \n",
    "    #print(title, url, year)\n",
    "    alldata.append([stock, url])\n",
    "    \n",
    "len(alldata)"
   ]
  },
  {
   "cell_type": "code",
   "execution_count": 63,
   "id": "capital-latin",
   "metadata": {},
   "outputs": [
    {
     "output_type": "execute_result",
     "data": {
      "text/plain": [
       "                                                   0  \\\n",
       "0  [\\n                            \\n             ...   \n",
       "1  [\\n                            \\n             ...   \n",
       "\n",
       "                                                   1  \n",
       "0  [https://www.marketwatch.com/articles/alphabet...  \n",
       "1  [https://www.marketwatch.com/articles/the-case...  "
      ],
      "text/html": "<div>\n<style scoped>\n    .dataframe tbody tr th:only-of-type {\n        vertical-align: middle;\n    }\n\n    .dataframe tbody tr th {\n        vertical-align: top;\n    }\n\n    .dataframe thead th {\n        text-align: right;\n    }\n</style>\n<table border=\"1\" class=\"dataframe\">\n  <thead>\n    <tr style=\"text-align: right;\">\n      <th></th>\n      <th>0</th>\n      <th>1</th>\n    </tr>\n  </thead>\n  <tbody>\n    <tr>\n      <th>0</th>\n      <td>[\\n                            \\n             ...</td>\n      <td>[https://www.marketwatch.com/articles/alphabet...</td>\n    </tr>\n    <tr>\n      <th>1</th>\n      <td>[\\n                            \\n             ...</td>\n      <td>[https://www.marketwatch.com/articles/the-case...</td>\n    </tr>\n  </tbody>\n</table>\n</div>"
     },
     "metadata": {},
     "execution_count": 63
    }
   ],
   "source": [
    "df = pd.DataFrame(alldata)\n",
    "df.head(2)"
   ]
  },
  {
   "cell_type": "code",
   "execution_count": 64,
   "id": "sharp-diary",
   "metadata": {},
   "outputs": [
    {
     "output_type": "execute_result",
     "data": {
      "text/plain": [
       "                                               title  \\\n",
       "0  \\n                            \\n              ...   \n",
       "1  \\n                            \\n              ...   \n",
       "\n",
       "                                                 url  \n",
       "0  https://www.marketwatch.com/articles/alphabet-...  \n",
       "1  https://www.marketwatch.com/articles/the-case-...  "
      ],
      "text/html": "<div>\n<style scoped>\n    .dataframe tbody tr th:only-of-type {\n        vertical-align: middle;\n    }\n\n    .dataframe tbody tr th {\n        vertical-align: top;\n    }\n\n    .dataframe thead th {\n        text-align: right;\n    }\n</style>\n<table border=\"1\" class=\"dataframe\">\n  <thead>\n    <tr style=\"text-align: right;\">\n      <th></th>\n      <th>title</th>\n      <th>url</th>\n    </tr>\n  </thead>\n  <tbody>\n    <tr>\n      <th>0</th>\n      <td>\\n                            \\n              ...</td>\n      <td>https://www.marketwatch.com/articles/alphabet-...</td>\n    </tr>\n    <tr>\n      <th>1</th>\n      <td>\\n                            \\n              ...</td>\n      <td>https://www.marketwatch.com/articles/the-case-...</td>\n    </tr>\n  </tbody>\n</table>\n</div>"
     },
     "metadata": {},
     "execution_count": 64
    }
   ],
   "source": [
    "df[0]=df[0].str[0]\n",
    "df[1]=df[1].str[0]\n",
    "df = df.rename(columns = {0: 'title', 1: 'url'})\n",
    "df.head(2)"
   ]
  },
  {
   "cell_type": "code",
   "execution_count": 65,
   "id": "breeding-retreat",
   "metadata": {},
   "outputs": [
    {
     "output_type": "execute_result",
     "data": {
      "text/plain": [
       "                                               title  \\\n",
       "0  Alphabet Stock Can Be Had for a Discount. Here...   \n",
       "1  There’s a New Growth Area in Tech. Pay Attenti...   \n",
       "2  The Meme Stock Trade Is Far From Over. What In...   \n",
       "3  Look Out Alphabet, Amazon, and Apple: Biden Ta...   \n",
       "4  Apple Inc. stock rises Friday, outperforms market   \n",
       "\n",
       "                                                 url  \n",
       "0  https://www.marketwatch.com/articles/alphabet-...  \n",
       "1  https://www.marketwatch.com/articles/the-case-...  \n",
       "2  https://www.marketwatch.com/articles/the-meme-...  \n",
       "3  https://www.marketwatch.com/articles/biden-big...  \n",
       "4  https://www.marketwatch.com/story/apple-inc-st...  "
      ],
      "text/html": "<div>\n<style scoped>\n    .dataframe tbody tr th:only-of-type {\n        vertical-align: middle;\n    }\n\n    .dataframe tbody tr th {\n        vertical-align: top;\n    }\n\n    .dataframe thead th {\n        text-align: right;\n    }\n</style>\n<table border=\"1\" class=\"dataframe\">\n  <thead>\n    <tr style=\"text-align: right;\">\n      <th></th>\n      <th>title</th>\n      <th>url</th>\n    </tr>\n  </thead>\n  <tbody>\n    <tr>\n      <th>0</th>\n      <td>Alphabet Stock Can Be Had for a Discount. Here...</td>\n      <td>https://www.marketwatch.com/articles/alphabet-...</td>\n    </tr>\n    <tr>\n      <th>1</th>\n      <td>There’s a New Growth Area in Tech. Pay Attenti...</td>\n      <td>https://www.marketwatch.com/articles/the-case-...</td>\n    </tr>\n    <tr>\n      <th>2</th>\n      <td>The Meme Stock Trade Is Far From Over. What In...</td>\n      <td>https://www.marketwatch.com/articles/the-meme-...</td>\n    </tr>\n    <tr>\n      <th>3</th>\n      <td>Look Out Alphabet, Amazon, and Apple: Biden Ta...</td>\n      <td>https://www.marketwatch.com/articles/biden-big...</td>\n    </tr>\n    <tr>\n      <th>4</th>\n      <td>Apple Inc. stock rises Friday, outperforms market</td>\n      <td>https://www.marketwatch.com/story/apple-inc-st...</td>\n    </tr>\n  </tbody>\n</table>\n</div>"
     },
     "metadata": {},
     "execution_count": 65
    }
   ],
   "source": [
    "df['title'] = df['title'].astype('str')\n",
    "df['title'] = df.title.str.strip()\n",
    "df.head()"
   ]
  },
  {
   "cell_type": "code",
   "execution_count": 66,
   "metadata": {},
   "outputs": [
    {
     "output_type": "execute_result",
     "data": {
      "text/plain": [
       "                                                title  \\\n",
       "0   Alphabet Stock Can Be Had for a Discount. Here...   \n",
       "1   There’s a New Growth Area in Tech. Pay Attenti...   \n",
       "2   The Meme Stock Trade Is Far From Over. What In...   \n",
       "3   Look Out Alphabet, Amazon, and Apple: Biden Ta...   \n",
       "4   Apple Inc. stock rises Friday, outperforms market   \n",
       "5   A Tesla ‘death cross’ has appeared for the fir...   \n",
       "6   Falling Bond Yields Used to Be Good for the Na...   \n",
       "7   Apple Inc. stock underperforms Thursday when c...   \n",
       "8   3 Key Things to Know About the Google App Stor...   \n",
       "9   China is cracking down on its own tech giants,...   \n",
       "10  Apple Is Next: Why State and Federal Lawsuits ...   \n",
       "11  36 States File Suit Against Google for Antitru...   \n",
       "13  Apple stock notches first record close since J...   \n",
       "14  Apple Stock Hits All-Time High as Market Cap T...   \n",
       "15  Apple Inc. stock outperforms market on strong ...   \n",
       "16  When Big Tech Stumbles, the Market Can Fall Ha...   \n",
       "17  Home Depot, Apple Inc. share gains lead Dow's ...   \n",
       "18  AMC Stock Is Dropping, Apple Is Trading a Reco...   \n",
       "19  Apple: Why It ‘Has to’ Keep Raising iPhone Prices   \n",
       "24    3 Reasons to Buy Roku, and 1 Reason to Avoid It   \n",
       "\n",
       "                                                  url  \n",
       "0   https://www.marketwatch.com/articles/alphabet-...  \n",
       "1   https://www.marketwatch.com/articles/the-case-...  \n",
       "2   https://www.marketwatch.com/articles/the-meme-...  \n",
       "3   https://www.marketwatch.com/articles/biden-big...  \n",
       "4   https://www.marketwatch.com/story/apple-inc-st...  \n",
       "5   https://www.marketwatch.com/story/a-tesla-deat...  \n",
       "6   https://www.marketwatch.com/articles/bond-yiel...  \n",
       "7   https://www.marketwatch.com/story/apple-inc-st...  \n",
       "8   https://www.marketwatch.com/articles/google-pl...  \n",
       "9   https://www.marketwatch.com/story/china-is-cra...  \n",
       "10  https://www.marketwatch.com/articles/apple-is-...  \n",
       "11  https://www.marketwatch.com/articles/google-an...  \n",
       "13  https://www.marketwatch.com/story/apple-stock-...  \n",
       "14  https://www.marketwatch.com/articles/apple-sha...  \n",
       "15  https://www.marketwatch.com/story/apple-inc-st...  \n",
       "16  https://www.marketwatch.com/articles/big-tech-...  \n",
       "17  https://www.marketwatch.com/story/home-depot-a...  \n",
       "18  https://www.marketwatch.com/articles/amc-didi-...  \n",
       "19  https://www.marketwatch.com/articles/apple-why...  \n",
       "24  https://www.fool.com/investing/2021/07/10/3-re...  "
      ],
      "text/html": "<div>\n<style scoped>\n    .dataframe tbody tr th:only-of-type {\n        vertical-align: middle;\n    }\n\n    .dataframe tbody tr th {\n        vertical-align: top;\n    }\n\n    .dataframe thead th {\n        text-align: right;\n    }\n</style>\n<table border=\"1\" class=\"dataframe\">\n  <thead>\n    <tr style=\"text-align: right;\">\n      <th></th>\n      <th>title</th>\n      <th>url</th>\n    </tr>\n  </thead>\n  <tbody>\n    <tr>\n      <th>0</th>\n      <td>Alphabet Stock Can Be Had for a Discount. Here...</td>\n      <td>https://www.marketwatch.com/articles/alphabet-...</td>\n    </tr>\n    <tr>\n      <th>1</th>\n      <td>There’s a New Growth Area in Tech. Pay Attenti...</td>\n      <td>https://www.marketwatch.com/articles/the-case-...</td>\n    </tr>\n    <tr>\n      <th>2</th>\n      <td>The Meme Stock Trade Is Far From Over. What In...</td>\n      <td>https://www.marketwatch.com/articles/the-meme-...</td>\n    </tr>\n    <tr>\n      <th>3</th>\n      <td>Look Out Alphabet, Amazon, and Apple: Biden Ta...</td>\n      <td>https://www.marketwatch.com/articles/biden-big...</td>\n    </tr>\n    <tr>\n      <th>4</th>\n      <td>Apple Inc. stock rises Friday, outperforms market</td>\n      <td>https://www.marketwatch.com/story/apple-inc-st...</td>\n    </tr>\n    <tr>\n      <th>5</th>\n      <td>A Tesla ‘death cross’ has appeared for the fir...</td>\n      <td>https://www.marketwatch.com/story/a-tesla-deat...</td>\n    </tr>\n    <tr>\n      <th>6</th>\n      <td>Falling Bond Yields Used to Be Good for the Na...</td>\n      <td>https://www.marketwatch.com/articles/bond-yiel...</td>\n    </tr>\n    <tr>\n      <th>7</th>\n      <td>Apple Inc. stock underperforms Thursday when c...</td>\n      <td>https://www.marketwatch.com/story/apple-inc-st...</td>\n    </tr>\n    <tr>\n      <th>8</th>\n      <td>3 Key Things to Know About the Google App Stor...</td>\n      <td>https://www.marketwatch.com/articles/google-pl...</td>\n    </tr>\n    <tr>\n      <th>9</th>\n      <td>China is cracking down on its own tech giants,...</td>\n      <td>https://www.marketwatch.com/story/china-is-cra...</td>\n    </tr>\n    <tr>\n      <th>10</th>\n      <td>Apple Is Next: Why State and Federal Lawsuits ...</td>\n      <td>https://www.marketwatch.com/articles/apple-is-...</td>\n    </tr>\n    <tr>\n      <th>11</th>\n      <td>36 States File Suit Against Google for Antitru...</td>\n      <td>https://www.marketwatch.com/articles/google-an...</td>\n    </tr>\n    <tr>\n      <th>13</th>\n      <td>Apple stock notches first record close since J...</td>\n      <td>https://www.marketwatch.com/story/apple-stock-...</td>\n    </tr>\n    <tr>\n      <th>14</th>\n      <td>Apple Stock Hits All-Time High as Market Cap T...</td>\n      <td>https://www.marketwatch.com/articles/apple-sha...</td>\n    </tr>\n    <tr>\n      <th>15</th>\n      <td>Apple Inc. stock outperforms market on strong ...</td>\n      <td>https://www.marketwatch.com/story/apple-inc-st...</td>\n    </tr>\n    <tr>\n      <th>16</th>\n      <td>When Big Tech Stumbles, the Market Can Fall Ha...</td>\n      <td>https://www.marketwatch.com/articles/big-tech-...</td>\n    </tr>\n    <tr>\n      <th>17</th>\n      <td>Home Depot, Apple Inc. share gains lead Dow's ...</td>\n      <td>https://www.marketwatch.com/story/home-depot-a...</td>\n    </tr>\n    <tr>\n      <th>18</th>\n      <td>AMC Stock Is Dropping, Apple Is Trading a Reco...</td>\n      <td>https://www.marketwatch.com/articles/amc-didi-...</td>\n    </tr>\n    <tr>\n      <th>19</th>\n      <td>Apple: Why It ‘Has to’ Keep Raising iPhone Prices</td>\n      <td>https://www.marketwatch.com/articles/apple-why...</td>\n    </tr>\n    <tr>\n      <th>24</th>\n      <td>3 Reasons to Buy Roku, and 1 Reason to Avoid It</td>\n      <td>https://www.fool.com/investing/2021/07/10/3-re...</td>\n    </tr>\n  </tbody>\n</table>\n</div>"
     },
     "metadata": {},
     "execution_count": 66
    }
   ],
   "source": [
    "df = df[df[\"title\"].str.contains(\"nan\")==False]\n",
    "df.head(20)"
   ]
  },
  {
   "cell_type": "code",
   "execution_count": 67,
   "metadata": {},
   "outputs": [
    {
     "output_type": "stream",
     "name": "stdout",
     "text": [
      "https://www.marketwatch.com/articles/alphabet-stock-discount-51625588865?mod=mw_quote_news\nhttps://www.marketwatch.com/articles/the-case-for-network-monitoring-tools-and-unpacking-apples-app-store-risk-51625867520?mod=mw_quote_news\nhttps://www.marketwatch.com/articles/the-meme-stock-trade-is-far-from-over-what-investors-need-to-know-51625875247?mod=mw_quote_news\nhttps://www.marketwatch.com/articles/biden-big-tech-executive-order-51625853683?mod=mw_quote_news\nhttps://www.marketwatch.com/story/apple-inc-stock-rises-friday-outperforms-market-01625862708-4160a0b12b13?mod=mw_quote_news\nhttps://www.marketwatch.com/story/a-tesla-death-cross-is-coming-the-first-in-more-than-2-years-11625771674?mod=mw_quote_news\nhttps://www.marketwatch.com/articles/bond-yields-stock-market-nasdaq-tech-51625759540?mod=mw_quote_news\nhttps://www.marketwatch.com/story/apple-inc-stock-underperforms-thursday-when-compared-to-competitors-01625776307-23730b68e2ca?mod=mw_quote_news\nhttps://www.marketwatch.com/articles/google-play-store-lawsuit-51625771327?mod=mw_quote_news\nhttps://www.marketwatch.com/story/china-is-cracking-down-on-its-own-tech-giants-but-apple-and-the-u-s-ipo-market-could-pay-the-price-11625765133?mod=mw_quote_news\nhttps://www.marketwatch.com/articles/apple-is-next-why-state-and-federal-lawsuits-over-the-app-store-are-inevitable-51625763110?mod=mw_quote_news\nhttps://www.marketwatch.com/articles/google-antitrust-lawsuit-51625704769?mod=mw_quote_news\nhttps://www.marketwatch.com/story/apple-stock-on-track-for-first-record-close-since-january-11625677673?mod=mw_quote_news\nhttps://www.marketwatch.com/articles/apple-shares-on-track-for-record-close-as-market-cap-tops-2-4-trillion-51625685388?mod=mw_quote_news\nhttps://www.marketwatch.com/story/apple-inc-stock-outperforms-market-on-strong-trading-day-01625689912-c7419bf3fd0f?mod=mw_quote_news\nhttps://www.marketwatch.com/articles/big-tech-stocks-risk-funds-51625257865?mod=mw_quote_news\nhttps://www.marketwatch.com/story/home-depot-apple-inc-share-gains-lead-dow-s-89-point-jump-01625672828?mod=mw_quote_news\nhttps://www.marketwatch.com/articles/amc-didi-big-tech-stock-market-today-51625661767?mod=mw_quote_news\nhttps://www.marketwatch.com/articles/apple-why-it-has-to-keep-raising-iphone-prices-1523890801?mod=mw_quote_news\nhttps://www.fool.com/investing/2021/07/10/3-reasons-to-buy-roku-and-1-reason-to-avoid-it/?source=djc&utm_source=djc&utm_medium=feed&utm_campaign=article&mod=mw_quote_news\nhttps://www.fool.com/investing/2021/07/10/stock-market-crash-likely-3-winning-stocks-to-buy/?source=djc&utm_source=djc&utm_medium=feed&utm_campaign=article&mod=mw_quote_news\nhttps://www.fool.com/investing/2021/07/09/a-look-at-the-2021-ipo-market/?source=djc&utm_source=djc&utm_medium=feed&utm_campaign=article&mod=mw_quote_news\nhttp://www.zacks.com/stock/news/1759951/etf-strategies-to-combat-the-rising-delta-strain-concerns?cid=CS-MKTWTCH-HL-etf_news_and_commentary-1759951&mod=mw_quote_news\nhttps://investorplace.com/2021/07/7-super-safe-dividend-stocks-to-buy/?mod=mw_quote_news\nhttps://www.fool.com/investing/2021/07/09/2-top-5g-stocks-that-are-screaming-buys-right-now/?source=djc&utm_source=djc&utm_medium=feed&utm_campaign=article&mod=mw_quote_news\nhttps://investorplace.com/2021/07/the-7-best-tech-stocks-to-buy-in-july/?mod=mw_quote_news\nhttp://www.zacks.com/stock/news/1759743/godaddy-gddy-unveils-list-for-sale-bolsters-domain-portfolio?cid=CS-MKTWTCH-HL-analyst_blog|company_news_tech_sector-1759743&mod=mw_quote_news\nhttp://www.zacks.com/stock/news/1759736/netflix-nflx-expands-content-deal-with-producer-shonda-rhimes?cid=CS-MKTWTCH-HL-analyst_blog|company_news_-_corporate_actions-1759736&mod=mw_quote_news\nhttps://www.fool.com/investing/2021/07/09/top-10-cloud-stocks-to-buy-on-the-next-dip-part-ii/?source=djc&utm_source=djc&utm_medium=feed&utm_campaign=article&mod=mw_quote_news\nhttp://www.zacks.com/stock/news/1759707/simulations-plus-slp-to-post-q3-earnings-whats-in-store?cid=CS-MKTWTCH-HL-analyst_blog|earnings_preview-1759707&mod=mw_quote_news\nhttp://feedproxy.google.com/~r/247wallst_partners/~3/jLWYi7h5gcI/?mod=mw_quote_news\nhttp://www.zacks.com/stock/news/1759567/if-you-invested-%241000-in-apple-10-years-ago-this-is-how-much-youd-have-now?cid=CS-MKTWTCH-HL-tale_of_the_tape|investing_$1000-1759567&mod=mw_quote_news\nhttp://feedproxy.google.com/~r/247wallst_partners/~3/qhdGwcIkSWs/?mod=mw_quote_news\nhttps://www.fool.com/investing/2021/07/09/1-faang-stock-to-buy-for-the-second-half-of-2021/?source=djc&utm_source=djc&utm_medium=feed&utm_campaign=article&mod=mw_quote_news\nhttps://www.fool.com/investing/2021/07/09/the-smartest-stocks-to-buy-with-500-right-now/?source=djc&utm_source=djc&utm_medium=feed&utm_campaign=article&mod=mw_quote_news\nhttps://investorplace.com/2021/07/7-must-see-stock-charts-that-spell-more-upside/?mod=mw_quote_news\nhttp://www.zacks.com/stock/news/1759446/3-dividend-paying-stocks-to-buy-in-q3-for-long-term-growth?cid=CS-MKTWTCH-HL-stocks_in_the_news|investment_ideas-1759446&mod=mw_quote_news\nhttp://www.zacks.com/stock/news/1759399/best-stocks-etfs-for-your-roth-ira?cid=CS-MKTWTCH-HL-etf_spotlight-1759399&mod=mw_quote_news\nhttps://investorplace.com/2021/07/7-undervalued-stocks-to-buy-for-july-2021/?mod=mw_quote_news\n"
     ]
    }
   ],
   "source": [
    "for article in df['url']:\n",
    "    print(article)"
   ]
  },
  {
   "cell_type": "code",
   "execution_count": 69,
   "metadata": {},
   "outputs": [],
   "source": [
    "df_test = df.head(5)"
   ]
  },
  {
   "cell_type": "code",
   "execution_count": 71,
   "metadata": {},
   "outputs": [
    {
     "output_type": "execute_result",
     "data": {
      "text/plain": [
       "5"
      ]
     },
     "metadata": {},
     "execution_count": 71
    }
   ],
   "source": [
    "import time\n",
    "\n",
    "article_text = []\n",
    "\n",
    "for article in df_test['url']:\n",
    "    data = html.fromstring(requests.get(article).text)\n",
    "\n",
    "    time.sleep(3)\n",
    "\n",
    "    for j in data.xpath(\"//div[@id='js-article__body']\"):\n",
    "        text = j.xpath(\"p/text()\")\n",
    "        article_text.append([text])\n",
    "\n",
    "len(article_text)"
   ]
  },
  {
   "cell_type": "code",
   "execution_count": 72,
   "metadata": {},
   "outputs": [
    {
     "output_type": "execute_result",
     "data": {
      "text/plain": [
       "[[['A quirk in the relationship between the two publicly traded classes of \\n        ',\n",
       "   '\\n       stock has resulted in the nonvoting shares, whose ticker is GOOG, trading at a premium of 3% to the voting stock, whose ticker is GOOGL.',\n",
       "   '\\xa0For investors bullish on the outlook for the search giant, the class A voting stock may be the better bet. Alphabet’s nonvoting class C shares (ticker: GOOG) were up $4.21, to $2,578.59, on Tuesday, a premium of about $77 a share to the class A voting shares (GOOGL), which were down $3.33, to $2,501.82.']],\n",
       " [['One of the challenges of modern enterprise computing is keeping track of what’s going on inside your network. Cutting-edge information-technology systems are a messy brew of public clouds, private clouds, old-school data centers, third-party apps, edge computing, and mobile workers. Keeping tabs on what’s working—and what isn’t—is a gigantic challenge. The good news for investors is that the result is an enormous emerging market.']],\n",
       " [['It seemed to be only a matter of time.',\n",
       "   'When \\n        ',\n",
       "   '\\n       (ticker: GME), \\n        ',\n",
       "   '\\n       (BB), and even the desiccated carcass of \\n        ',\n",
       "   '\\n       suddenly sprang to life in January, the clock was already ticking for when they would crash again. Would it be hours, days, or weeks?']],\n",
       " [['President Joe Biden’s administration is taking a big swing at Big Tech. ',\n",
       "   'Biden signed ',\n",
       "   ' late Friday that will establish a Federal Trade Commission policy to more closely scrutinize mergers by dominant internet platforms, especially those seeking to buy growing competitors, those offering free products, or accumulating large amounts of data.']],\n",
       " [['Shares of Apple Inc. \\n        ',\n",
       "   '\\n       rose 1.31% to $145.11 Friday, on what proved to be an all-around great trading session for the stock market, with the NASDAQ Composite Index \\n        ',\n",
       "   '\\n       rising 0.98% to 14,701.92 and the Dow Jones Industrial Average \\n        ',\n",
       "   '\\n       rising 1.30% to 34,870.16. Apple Inc. hit a new 52-week high, surpassing its previous peak of $145.09, which the company achieved on January 25th. ',\n",
       "   'The stock outperformed some of its competitors Friday, as Microsoft Corp. \\n        ',\n",
       "   '\\n       rose 0.19% to $277.94, Alphabet Inc. Cl A \\n        ',\n",
       "   '\\n       rose 0.38% to $2,510.37, and International Business Machines Corp. \\n        ',\n",
       "   '\\n       rose 0.55% to $141.52. Trading volume (99.2 M) eclipsed its 50-day average volume of 80.6 M.']]]"
      ]
     },
     "metadata": {},
     "execution_count": 72
    }
   ],
   "source": [
    "article_text"
   ]
  },
  {
   "cell_type": "code",
   "execution_count": null,
   "metadata": {},
   "outputs": [],
   "source": []
  }
 ],
 "metadata": {
  "kernelspec": {
   "name": "python3",
   "display_name": "Python 3.8.10 64-bit ('stock-app': conda)"
  },
  "language_info": {
   "codemirror_mode": {
    "name": "ipython",
    "version": 3
   },
   "file_extension": ".py",
   "mimetype": "text/x-python",
   "name": "python",
   "nbconvert_exporter": "python",
   "pygments_lexer": "ipython3",
   "version": "3.8.10"
  },
  "interpreter": {
   "hash": "5898b406c8e9b9ec46ed19559fee778874f38e032b5162ef982a7b66abc30a29"
  }
 },
 "nbformat": 4,
 "nbformat_minor": 5
}